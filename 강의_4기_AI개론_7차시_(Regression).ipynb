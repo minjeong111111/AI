{
 "cells": [
  {
   "cell_type": "markdown",
   "metadata": {
    "id": "bQ31B9yQxo62"
   },
   "source": [
    "# 7장 선형회귀 (Regression analysis)"
   ]
  },
  {
   "cell_type": "markdown",
   "metadata": {
    "id": "0sqZ8V7Zxo62"
   },
   "source": [
    "* \"부록3 매트플롯립 입문\"에서 한글 폰트를 올바르게 출력하기 위한 설치 방법을 설명했다. 설치 방법은 다음과 같다."
   ]
  },
  {
   "cell_type": "code",
   "execution_count": 1,
   "metadata": {
    "colab": {
     "base_uri": "https://localhost:8080/"
    },
    "executionInfo": {
     "elapsed": 35539,
     "status": "ok",
     "timestamp": 1739156049508,
     "user": {
      "displayName": "김려은",
      "userId": "11330255083274715375"
     },
     "user_tz": -540
    },
    "id": "RFle9DdQxo63",
    "outputId": "8394c278-757c-4894-855d-5ca0476193b4"
   },
   "outputs": [
    {
     "name": "stdout",
     "output_type": "stream",
     "text": [
      "debconf: unable to initialize frontend: Dialog\n",
      "debconf: (No usable dialog-like program is installed, so the dialog based frontend cannot be used. at /usr/share/perl5/Debconf/FrontEnd/Dialog.pm line 78, <> line 4.)\n",
      "debconf: falling back to frontend: Readline\n",
      "debconf: unable to initialize frontend: Readline\n",
      "debconf: (This frontend requires a controlling tty.)\n",
      "debconf: falling back to frontend: Teletype\n",
      "dpkg-preconfigure: unable to re-open stdin: \n",
      "Processing triggers for fontconfig (2.13.1-4.2ubuntu5) ...\n",
      "/usr/share/fonts: caching, new cache contents: 0 fonts, 1 dirs\n",
      "/usr/share/fonts/truetype: caching, new cache contents: 0 fonts, 3 dirs\n",
      "/usr/share/fonts/truetype/humor-sans: caching, new cache contents: 1 fonts, 0 dirs\n",
      "/usr/share/fonts/truetype/liberation: caching, new cache contents: 16 fonts, 0 dirs\n",
      "/usr/share/fonts/truetype/nanum: caching, new cache contents: 39 fonts, 0 dirs\n",
      "/usr/local/share/fonts: caching, new cache contents: 0 fonts, 0 dirs\n",
      "/root/.local/share/fonts: skipping, no such directory\n",
      "/root/.fonts: skipping, no such directory\n",
      "/usr/share/fonts/truetype: skipping, looped directory detected\n",
      "/usr/share/fonts/truetype/humor-sans: skipping, looped directory detected\n",
      "/usr/share/fonts/truetype/liberation: skipping, looped directory detected\n",
      "/usr/share/fonts/truetype/nanum: skipping, looped directory detected\n",
      "/var/cache/fontconfig: cleaning cache directory\n",
      "/root/.cache/fontconfig: not cleaning non-existent cache directory\n",
      "/root/.fontconfig: not cleaning non-existent cache directory\n",
      "fc-cache: succeeded\n"
     ]
    }
   ],
   "source": [
    "!sudo apt-get install -y fonts-nanum* | tail -n 1\n",
    "!sudo fc-cache -fv\n",
    "!rm -rf ~/.cache/matplotlib"
   ]
  },
  {
   "cell_type": "code",
   "execution_count": 3,
   "metadata": {
    "colab": {
     "base_uri": "https://localhost:8080/"
    },
    "executionInfo": {
     "elapsed": 117162,
     "status": "ok",
     "timestamp": 1739156166698,
     "user": {
      "displayName": "김려은",
      "userId": "11330255083274715375"
     },
     "user_tz": -540
    },
    "id": "GelAnLT_xo63",
    "outputId": "13dc4189-66b1-4842-943f-11e87c7cb941"
   },
   "outputs": [
    {
     "name": "stdout",
     "output_type": "stream",
     "text": [
      "Requirement already satisfied: MarkupSafe>=2.0 in /home/rokey/anaconda3/envs/ROCKY_4_py3_12/lib/python3.12/site-packages (from jinja2->torch->torchviz) (3.0.2)\n",
      "Successfully installed torchinfo-1.8.0\n"
     ]
    }
   ],
   "source": [
    "# 필요 라이브러리 설치\n",
    "\n",
    "!pip install torchviz | tail -n 1\n",
    "!pip install torchinfo | tail -n 1"
   ]
  },
  {
   "cell_type": "markdown",
   "metadata": {
    "id": "hW8LStcZxo64"
   },
   "source": [
    "* 모든 설치가 끝나면 한글 폰트를 바르게 출력하기 위해 **[런타임]** -> **[런타임 다시시작]**을 클릭한 다음, 아래 셀부터 코드를 실행해 주십시오."
   ]
  },
  {
   "cell_type": "code",
   "execution_count": 1,
   "metadata": {
    "executionInfo": {
     "elapsed": 10,
     "status": "ok",
     "timestamp": 1739156181111,
     "user": {
      "displayName": "김려은",
      "userId": "11330255083274715375"
     },
     "user_tz": -540
    },
    "id": "g4h-VV9mxo64"
   },
   "outputs": [],
   "source": [
    "# 라이브러리 임포트\n",
    "\n",
    "%matplotlib inline\n",
    "import numpy as np\n",
    "import matplotlib.pyplot as plt\n",
    "from IPython.display import display\n",
    "\n",
    "# 폰트 관련 용도\n",
    "import matplotlib.font_manager as fm\n",
    "\n",
    "# Colab, Linux\n",
    "# 나눔 고딕 폰트의 경로 명시\n",
    "path = '/usr/share/fonts/truetype/nanum/NanumGothic.ttf'\n",
    "font_name = fm.FontProperties(fname=path, size=10).get_name()\n",
    "\n",
    "# Window\n",
    "# font_name = \"NanumBarunGothic\"\n",
    "\n",
    "# Mac\n",
    "# font_name = \"AppleGothic\""
   ]
  },
  {
   "cell_type": "code",
   "execution_count": 2,
   "metadata": {
    "executionInfo": {
     "elapsed": 8035,
     "status": "ok",
     "timestamp": 1739156189186,
     "user": {
      "displayName": "김려은",
      "userId": "11330255083274715375"
     },
     "user_tz": -540
    },
    "id": "qkSzKxjNxo64"
   },
   "outputs": [],
   "source": [
    "# 파이토치 관련 라이브러리\n",
    "import torch\n",
    "from torch import nn, optim\n",
    "import torch.nn.functional as F\n",
    "from torchviz import make_dot\n",
    "from torchinfo import summary\n",
    "\n",
    "# Boston dataset\n",
    "import pandas  as pd"
   ]
  },
  {
   "cell_type": "code",
   "execution_count": 3,
   "metadata": {
    "executionInfo": {
     "elapsed": 2,
     "status": "ok",
     "timestamp": 1739156189191,
     "user": {
      "displayName": "김려은",
      "userId": "11330255083274715375"
     },
     "user_tz": -540
    },
    "id": "4U6xDOO-xo65"
   },
   "outputs": [],
   "source": [
    "# 기본 폰트 설정\n",
    "plt.rcParams['font.family'] = font_name\n",
    "\n",
    "# 기본 폰트 사이즈 변경\n",
    "plt.rcParams['font.size'] = 14\n",
    "\n",
    "# 기본 그래프 사이즈 변경\n",
    "plt.rcParams['figure.figsize'] = (6,6)\n",
    "\n",
    "# 기본 그리드 표시\n",
    "# 필요에 따라 설정할 때는, plt.grid()\n",
    "plt.rcParams['axes.grid'] = True\n",
    "plt.rcParams[\"grid.linestyle\"] = \":\"\n",
    "\n",
    "# 마이너스 기호 정상 출력\n",
    "plt.rcParams['axes.unicode_minus'] = False\n",
    "\n",
    "# 넘파이 부동소수점 자릿수 표시\n",
    "np.set_printoptions(suppress=True, precision=4)"
   ]
  },
  {
   "cell_type": "code",
   "execution_count": 4,
   "metadata": {
    "executionInfo": {
     "elapsed": 1,
     "status": "ok",
     "timestamp": 1739156189193,
     "user": {
      "displayName": "김려은",
      "userId": "11330255083274715375"
     },
     "user_tz": -540
    },
    "id": "NsNLkQsKxo65"
   },
   "outputs": [],
   "source": [
    "# warning 표시 끄기\n",
    "import warnings\n",
    "warnings.simplefilter('ignore')"
   ]
  },
  {
   "cell_type": "markdown",
   "metadata": {
    "id": "sKJBEWUIxo66"
   },
   "source": [
    "## 단순 선형 회귀 분석"
   ]
  },
  {
   "cell_type": "markdown",
   "metadata": {
    "id": "dFO0BdM3xo66"
   },
   "source": [
    "### 입력 :1 출력 :1인 선형 함수"
   ]
  },
  {
   "cell_type": "code",
   "execution_count": 5,
   "metadata": {
    "colab": {
     "base_uri": "https://localhost:8080/"
    },
    "executionInfo": {
     "elapsed": 151,
     "status": "ok",
     "timestamp": 1739156189344,
     "user": {
      "displayName": "김려은",
      "userId": "11330255083274715375"
     },
     "user_tz": -540
    },
    "id": "1-bh1cJTxo66",
    "outputId": "fb480e33-2641-4e87-c36d-5bfc29dc6492"
   },
   "outputs": [
    {
     "name": "stdout",
     "output_type": "stream",
     "text": [
      "Linear(in_features=1, out_features=1, bias=True)\n",
      "[('weight', Parameter containing:\n",
      "tensor([[-0.4078]], requires_grad=True)), ('bias', Parameter containing:\n",
      "tensor([0.0331], requires_grad=True))]\n"
     ]
    }
   ],
   "source": [
    "# 난수 시드값 고정\n",
    "torch.manual_seed(123)\n",
    "\n",
    "# 입력 :1 출력 :1 선형 함수의 정의\n",
    "l1 = nn.Linear(1, 1)\n",
    "\n",
    "# 선형 함수 확인\n",
    "print(l1)\n",
    "# print(list(l1.parameters()))\n",
    "print(list(l1.named_parameters()))"
   ]
  },
  {
   "cell_type": "code",
   "execution_count": 6,
   "metadata": {
    "colab": {
     "base_uri": "https://localhost:8080/"
    },
    "executionInfo": {
     "elapsed": 27,
     "status": "ok",
     "timestamp": 1739156189392,
     "user": {
      "displayName": "김려은",
      "userId": "11330255083274715375"
     },
     "user_tz": -540
    },
    "id": "TNCryEqBxo67",
    "outputId": "ba278d08-e14d-4b1e-9c00-0c306e5d86b2"
   },
   "outputs": [
    {
     "name": "stdout",
     "output_type": "stream",
     "text": [
      "weight tensor([-0.4078], grad_fn=<SelectBackward0>) torch.Size([1])\n"
     ]
    }
   ],
   "source": [
    "### Check named parameters\n",
    "name, tensor = list(l1.named_parameters())[0]\n",
    "print(name, tensor[0], tensor[0].shape)"
   ]
  },
  {
   "cell_type": "code",
   "execution_count": 7,
   "metadata": {
    "colab": {
     "base_uri": "https://localhost:8080/"
    },
    "executionInfo": {
     "elapsed": 44,
     "status": "ok",
     "timestamp": 1739156189438,
     "user": {
      "displayName": "김려은",
      "userId": "11330255083274715375"
     },
     "user_tz": -540
    },
    "id": "NaliRS6Bxo67",
    "outputId": "d20aa44c-8f69-4e7f-ef07-d3555e6b7c55"
   },
   "outputs": [
    {
     "name": "stdout",
     "output_type": "stream",
     "text": [
      "name:  weight\n",
      "tensor:  Parameter containing:\n",
      "tensor([[-0.4078]], requires_grad=True)\n",
      "shape:  torch.Size([1, 1])\n",
      "==================================================\n",
      "name:  bias\n",
      "tensor:  Parameter containing:\n",
      "tensor([0.0331], requires_grad=True)\n",
      "shape:  torch.Size([1])\n",
      "==================================================\n"
     ]
    }
   ],
   "source": [
    "# 파라미터명, 파라미터 값, shape 표시\n",
    "\n",
    "for param in l1.named_parameters():\n",
    "    print('name: ', param[0])\n",
    "    print('tensor: ', param[1])\n",
    "    print('shape: ', param[1].shape)\n",
    "    print(\"=\"*50)"
   ]
  },
  {
   "cell_type": "code",
   "execution_count": 8,
   "metadata": {
    "colab": {
     "base_uri": "https://localhost:8080/"
    },
    "executionInfo": {
     "elapsed": 46,
     "status": "ok",
     "timestamp": 1739156189481,
     "user": {
      "displayName": "김려은",
      "userId": "11330255083274715375"
     },
     "user_tz": -540
    },
    "id": "kW58pinExo67",
    "outputId": "a074c449-1ad8-451e-b9ff-2405c6495136"
   },
   "outputs": [
    {
     "name": "stdout",
     "output_type": "stream",
     "text": [
      "Parameter containing:\n",
      "tensor([[2.]], requires_grad=True)\n",
      "Parameter containing:\n",
      "tensor([1.], requires_grad=True)\n"
     ]
    }
   ],
   "source": [
    "# 초깃값 설정\n",
    "nn.init.constant_(l1.weight, 2.0)\n",
    "nn.init.constant_(l1.bias, 1.0)\n",
    "\n",
    "# 결과 확인\n",
    "print(l1.weight)\n",
    "print(l1.bias)"
   ]
  },
  {
   "cell_type": "code",
   "execution_count": 9,
   "metadata": {
    "colab": {
     "base_uri": "https://localhost:8080/"
    },
    "executionInfo": {
     "elapsed": 8,
     "status": "ok",
     "timestamp": 1739156189483,
     "user": {
      "displayName": "김려은",
      "userId": "11330255083274715375"
     },
     "user_tz": -540
    },
    "id": "_BaVsmJRxo68",
    "outputId": "53f49783-2679-4829-9812-ad1334524213"
   },
   "outputs": [
    {
     "name": "stdout",
     "output_type": "stream",
     "text": [
      "x = \n",
      " tensor([-2., -1.,  0.,  1.,  2.], dtype=torch.float64)\n",
      "x.view(-1,1) = \n",
      " tensor([[-2.],\n",
      "        [-1.],\n",
      "        [ 0.],\n",
      "        [ 1.],\n",
      "        [ 2.]], dtype=torch.float64)\n",
      "torch.Size([5, 1])\n",
      "tensor([[-2.],\n",
      "        [-1.],\n",
      "        [ 0.],\n",
      "        [ 1.],\n",
      "        [ 2.]], dtype=torch.float64)\n"
     ]
    }
   ],
   "source": [
    "# 테스트용 데이터 생성\n",
    "\n",
    "# x_np를 넘파이 배열로 정의\n",
    "x_np = np.arange(-2, 2.1, 1) # float64\n",
    "\n",
    "# 텐서 변수화\n",
    "x = torch.tensor(x_np) # float32\n",
    "print(\"x = \\n\", x)\n",
    "\n",
    "# (N,1) 사이즈로 변경\n",
    "x = x.view(-1,1)\n",
    "print(\"x.view(-1,1) = \\n\", x)\n",
    "\n",
    "# 결과 확인\n",
    "print(x.shape)\n",
    "print(x)"
   ]
  },
  {
   "cell_type": "markdown",
   "metadata": {
    "id": "3oGOs7Tcxo68"
   },
   "source": [
    "### 입력 :2 개 출력 :1인 선형 함수"
   ]
  },
  {
   "cell_type": "code",
   "execution_count": 7,
   "metadata": {
    "colab": {
     "base_uri": "https://localhost:8080/"
    },
    "executionInfo": {
     "elapsed": 18,
     "status": "ok",
     "timestamp": 1739156189525,
     "user": {
      "displayName": "김려은",
      "userId": "11330255083274715375"
     },
     "user_tz": -540
    },
    "id": "MgE7mKcSxo68",
    "outputId": "a7661cb0-8bf7-42d0-9d4d-3273db21ff24"
   },
   "outputs": [
    {
     "name": "stdout",
     "output_type": "stream",
     "text": [
      "Initial weights and bias ==================================================\n",
      "Parameter containing:\n",
      "tensor([[-0.1933,  0.1678]], requires_grad=True)\n",
      "l2.bias= Parameter containing:\n",
      "tensor([0.6457], requires_grad=True)\n",
      "\n",
      "constant weights and bias ==================================================\n",
      "Parameter containing:\n",
      "tensor([[1., 1.]], requires_grad=True)\n",
      "Parameter containing:\n",
      "tensor([2.], requires_grad=True)\n"
     ]
    }
   ],
   "source": [
    "# 입력 :2, 출력:1 선형 함수 정의\n",
    "l2 = nn.Linear(2, 1)\n",
    "print(\"Initial weights and bias\", \"=\"*50)\n",
    "print(l2.weight)\n",
    "print(\"l2.bias=\",l2.bias)\n",
    "print()\n",
    "\n",
    "# 초깃값 설정\n",
    "print(\"constant weights and bias\", \"=\"*50)\n",
    "nn.init.constant_(l2.weight, 1.0)\n",
    "nn.init.constant_(l2.bias, 2.0)\n",
    "\n",
    "# 결과 확인\n",
    "print(l2.weight)\n",
    "print(l2.bias)"
   ]
  },
  {
   "cell_type": "code",
   "execution_count": 8,
   "metadata": {
    "colab": {
     "base_uri": "https://localhost:8080/"
    },
    "executionInfo": {
     "elapsed": 81,
     "status": "ok",
     "timestamp": 1739156189607,
     "user": {
      "displayName": "김려은",
      "userId": "11330255083274715375"
     },
     "user_tz": -540
    },
    "id": "G9LzDVj3xo68",
    "outputId": "ad91a790-f6bf-41d9-c563-d29b0a449b7a"
   },
   "outputs": [
    {
     "name": "stdout",
     "output_type": "stream",
     "text": [
      "torch.Size([4, 2])\n",
      "tensor([[0., 0.],\n",
      "        [0., 1.],\n",
      "        [1., 0.],\n",
      "        [1., 1.]])\n",
      "torch.Size([4, 1])\n",
      "tensor([[2.],\n",
      "        [3.],\n",
      "        [3.],\n",
      "        [4.]])\n"
     ]
    }
   ],
   "source": [
    "# 2차원 넘파이 배열\n",
    "x2_np = np.array([[0, 0], [0, 1], [1, 0], [1,1]])\n",
    "\n",
    "# 텐서 변수화\n",
    "x2 =  torch.tensor(x2_np).float()\n",
    "\n",
    "# 결과 확인\n",
    "print(x2.shape)\n",
    "print(x2)\n",
    "\n",
    "# 함수 값 계산\n",
    "y2 = l2(x2)\n",
    "\n",
    "# shape 확인\n",
    "print(y2.shape)\n",
    "\n",
    "# 값 확인\n",
    "print(y2.data)"
   ]
  },
  {
   "cell_type": "markdown",
   "metadata": {
    "id": "24gDkWBvxo68"
   },
   "source": [
    "### 입력 :2, 출력 :3 선형 함수 정의"
   ]
  },
  {
   "cell_type": "code",
   "execution_count": 9,
   "metadata": {
    "colab": {
     "base_uri": "https://localhost:8080/"
    },
    "executionInfo": {
     "elapsed": 9,
     "status": "ok",
     "timestamp": 1739156189618,
     "user": {
      "displayName": "김려은",
      "userId": "11330255083274715375"
     },
     "user_tz": -540
    },
    "id": "d1XGU3Cvxo68",
    "outputId": "5d8683ca-f069-46e3-d272-e99b58ad2447"
   },
   "outputs": [
    {
     "name": "stdout",
     "output_type": "stream",
     "text": [
      "Parameter containing:\n",
      "tensor([[1., 1.],\n",
      "        [2., 2.],\n",
      "        [3., 3.]], requires_grad=True)\n",
      "Parameter containing:\n",
      "tensor([2., 2., 2.], requires_grad=True)\n"
     ]
    }
   ],
   "source": [
    "# 입력 :2, 출력 :3 선형 함수 정의\n",
    "\n",
    "l3 = nn.Linear(2, 3)\n",
    "\n",
    "# 초깃값 설정\n",
    "nn.init.constant_(l3.weight[0,:], 1.0)\n",
    "nn.init.constant_(l3.weight[1,:], 2.0)\n",
    "nn.init.constant_(l3.weight[2,:], 3.0)\n",
    "nn.init.constant_(l3.bias, 2.0)\n",
    "\n",
    "# 결과 확인\n",
    "print(l3.weight)\n",
    "print(l3.bias)"
   ]
  },
  {
   "cell_type": "code",
   "execution_count": 10,
   "metadata": {
    "colab": {
     "base_uri": "https://localhost:8080/"
    },
    "executionInfo": {
     "elapsed": 27,
     "status": "ok",
     "timestamp": 1739156189657,
     "user": {
      "displayName": "김려은",
      "userId": "11330255083274715375"
     },
     "user_tz": -540
    },
    "id": "7rRxm-Yxxo68",
    "outputId": "c1ea9d9e-b606-4118-f1bd-c6029a32de19"
   },
   "outputs": [
    {
     "name": "stdout",
     "output_type": "stream",
     "text": [
      "torch.Size([4, 3])\n",
      "tensor([[2., 2., 2.],\n",
      "        [3., 4., 5.],\n",
      "        [3., 4., 5.],\n",
      "        [4., 6., 8.]])\n"
     ]
    }
   ],
   "source": [
    "# 함수 값 계산\n",
    "y3 = l3(x2)\n",
    "\n",
    "# shape 확인\n",
    "print(y3.shape)\n",
    "\n",
    "# 값 확인\n",
    "print(y3.data)"
   ]
  },
  {
   "cell_type": "markdown",
   "metadata": {
    "id": "txcdhUIHxo68"
   },
   "source": [
    "### 클래스를 이용한 모델 정의"
   ]
  },
  {
   "cell_type": "code",
   "execution_count": 11,
   "metadata": {
    "executionInfo": {
     "elapsed": 44,
     "status": "ok",
     "timestamp": 1739156189702,
     "user": {
      "displayName": "김려은",
      "userId": "11330255083274715375"
     },
     "user_tz": -540
    },
    "id": "haWQ4mz0xo69"
   },
   "outputs": [],
   "source": [
    "# 모델 정의\n",
    "\n",
    "class Net(nn.Module):\n",
    "    def __init__(self, n_input, n_output):\n",
    "        #  부모 클래스 nn.Module 초기화\n",
    "        super().__init__()\n",
    "\n",
    "        # 출력층 정의\n",
    "        self.l1 = nn.Linear(n_input, n_output)\n",
    "\n",
    "    # 예측 함수 정의\n",
    "    def forward(self, x):\n",
    "        x1 = self.l1(x) # 선형 회귀\n",
    "        return x1\n",
    "\n",
    "# 더미 입력\n",
    "inputs = torch.rand(100,1)\n",
    "labels1 = torch.rand(100,1)\n",
    "\n",
    "# 인스턴스 생성(１ 입력, 1 출력 선형 모델)\n",
    "n_input = 1\n",
    "n_output = 1\n",
    "net = Net(n_input, n_output)"
   ]
  },
  {
   "cell_type": "code",
   "execution_count": 12,
   "metadata": {
    "colab": {
     "base_uri": "https://localhost:8080/"
    },
    "executionInfo": {
     "elapsed": 9,
     "status": "ok",
     "timestamp": 1739156189712,
     "user": {
      "displayName": "김려은",
      "userId": "11330255083274715375"
     },
     "user_tz": -540
    },
    "id": "LMAPPM4Nxo69",
    "outputId": "23002bdd-4621-40a7-b565-d0a9e93c7c4f"
   },
   "outputs": [
    {
     "name": "stdout",
     "output_type": "stream",
     "text": [
      "Net(\n",
      "  (l1): Linear(in_features=1, out_features=1, bias=True)\n",
      ")\n",
      "Linear(in_features=1, out_features=1, bias=True)\n",
      "Parameter containing:\n",
      "tensor([[-0.3825]], requires_grad=True)\n",
      "Parameter containing:\n",
      "tensor([-0.6533], requires_grad=True)\n"
     ]
    }
   ],
   "source": [
    "print(net)\n",
    "print(net.l1)\n",
    "print(net.l1.weight)\n",
    "print(net.l1.bias)\n"
   ]
  },
  {
   "cell_type": "code",
   "execution_count": 13,
   "metadata": {
    "colab": {
     "base_uri": "https://localhost:8080/"
    },
    "executionInfo": {
     "elapsed": 38,
     "status": "ok",
     "timestamp": 1739156189746,
     "user": {
      "displayName": "김려은",
      "userId": "11330255083274715375"
     },
     "user_tz": -540
    },
    "id": "hP8XiXs2xo69",
    "outputId": "d30a5a52-52dd-4366-d333-ec902f9dd71b"
   },
   "outputs": [
    {
     "name": "stdout",
     "output_type": "stream",
     "text": [
      "outputs = \n",
      " tensor([[-1.0237],\n",
      "        [-0.7237],\n",
      "        [-0.7190],\n",
      "        [-0.9461],\n",
      "        [-0.8103],\n",
      "        [-0.9430],\n",
      "        [-0.9133],\n",
      "        [-0.9052],\n",
      "        [-0.9533],\n",
      "        [-0.8211],\n",
      "        [-1.0269],\n",
      "        [-0.6537],\n",
      "        [-0.9303],\n",
      "        [-0.9333],\n",
      "        [-0.9026],\n",
      "        [-0.9094],\n",
      "        [-0.7372],\n",
      "        [-0.8103],\n",
      "        [-0.6984],\n",
      "        [-0.9448],\n",
      "        [-0.8525],\n",
      "        [-0.8121],\n",
      "        [-0.6767],\n",
      "        [-0.7095],\n",
      "        [-0.6893],\n",
      "        [-0.8943],\n",
      "        [-1.0139],\n",
      "        [-0.8042],\n",
      "        [-0.7696],\n",
      "        [-0.7365],\n",
      "        [-0.7523],\n",
      "        [-0.7100],\n",
      "        [-0.7565],\n",
      "        [-0.7649],\n",
      "        [-0.8222],\n",
      "        [-0.9695],\n",
      "        [-0.8799],\n",
      "        [-0.7244],\n",
      "        [-0.8984],\n",
      "        [-0.7663],\n",
      "        [-0.8615],\n",
      "        [-0.6710],\n",
      "        [-0.7919],\n",
      "        [-0.9694],\n",
      "        [-0.7207],\n",
      "        [-1.0227],\n",
      "        [-0.9025],\n",
      "        [-0.7902],\n",
      "        [-0.6613],\n",
      "        [-0.6951],\n",
      "        [-0.8374],\n",
      "        [-1.0214],\n",
      "        [-0.9660],\n",
      "        [-0.8825],\n",
      "        [-0.6919],\n",
      "        [-1.0173],\n",
      "        [-0.9711],\n",
      "        [-0.7991],\n",
      "        [-0.9007],\n",
      "        [-0.8943],\n",
      "        [-0.8819],\n",
      "        [-0.6603],\n",
      "        [-0.7484],\n",
      "        [-0.7882],\n",
      "        [-0.9260],\n",
      "        [-0.8351],\n",
      "        [-0.8477],\n",
      "        [-0.8752],\n",
      "        [-0.9069],\n",
      "        [-0.8936],\n",
      "        [-0.9907],\n",
      "        [-0.9460],\n",
      "        [-0.8630],\n",
      "        [-0.7278],\n",
      "        [-0.6981],\n",
      "        [-0.8679],\n",
      "        [-0.7731],\n",
      "        [-0.7841],\n",
      "        [-0.8645],\n",
      "        [-0.8069],\n",
      "        [-1.0022],\n",
      "        [-1.0145],\n",
      "        [-0.6625],\n",
      "        [-0.9817],\n",
      "        [-0.7317],\n",
      "        [-0.8965],\n",
      "        [-0.9410],\n",
      "        [-1.0226],\n",
      "        [-0.8971],\n",
      "        [-0.8456],\n",
      "        [-0.8356],\n",
      "        [-0.9552],\n",
      "        [-0.8137],\n",
      "        [-0.6754],\n",
      "        [-0.6885],\n",
      "        [-0.8274],\n",
      "        [-0.6734],\n",
      "        [-0.8661],\n",
      "        [-0.7011],\n",
      "        [-0.9350]], grad_fn=<AddmmBackward0>)\n"
     ]
    }
   ],
   "source": [
    "# 예측\n",
    "# torch.matmul(inputs, net.l1.weight) + net.l1.bias\n",
    "outputs = net(inputs)\n",
    "print(\"outputs = \\n\", outputs)"
   ]
  },
  {
   "cell_type": "markdown",
   "metadata": {
    "id": "cY2L-ijqxo69"
   },
   "source": [
    "### MSELoss 클래스를 이용한 손실 함수"
   ]
  },
  {
   "cell_type": "code",
   "execution_count": 14,
   "metadata": {
    "executionInfo": {
     "elapsed": 7,
     "status": "ok",
     "timestamp": 1739156189748,
     "user": {
      "displayName": "김려은",
      "userId": "11330255083274715375"
     },
     "user_tz": -540
    },
    "id": "sJlE01w3xo69"
   },
   "outputs": [],
   "source": [
    "criterion = nn.MSELoss()"
   ]
  },
  {
   "cell_type": "code",
   "execution_count": 15,
   "metadata": {
    "colab": {
     "base_uri": "https://localhost:8080/"
    },
    "executionInfo": {
     "elapsed": 62,
     "status": "ok",
     "timestamp": 1739156189805,
     "user": {
      "displayName": "김려은",
      "userId": "11330255083274715375"
     },
     "user_tz": -540
    },
    "id": "4E4e3A91xo69",
    "outputId": "301068ab-7e79-4b8c-86f6-cd02eb92150a"
   },
   "outputs": [
    {
     "name": "stdout",
     "output_type": "stream",
     "text": [
      "loss =  tensor(2.0289, grad_fn=<MseLossBackward0>)\n"
     ]
    }
   ],
   "source": [
    "loss = criterion(outputs, labels1)\n",
    "print(\"loss = \", loss)\n",
    "loss.backward()"
   ]
  },
  {
   "cell_type": "code",
   "execution_count": 19,
   "metadata": {
    "colab": {
     "base_uri": "https://localhost:8080/"
    },
    "executionInfo": {
     "elapsed": 8,
     "status": "ok",
     "timestamp": 1739156189843,
     "user": {
      "displayName": "김려은",
      "userId": "11330255083274715375"
     },
     "user_tz": -540
    },
    "id": "oK82Gq4Dxo69",
    "outputId": "f4208249-703f-4929-ff4e-d0e2a26c9d47"
   },
   "outputs": [
    {
     "name": "stdout",
     "output_type": "stream",
     "text": [
      "tensor([[-0.5785]])\n",
      "tensor([-1.1541])\n"
     ]
    }
   ],
   "source": [
    "print(net.l1.weight.grad)\n",
    "print(net.l1.bias.grad)"
   ]
  },
  {
   "cell_type": "markdown",
   "metadata": {
    "id": "xdeoPyVTxo69"
   },
   "source": [
    "## 회귀 분석 예제: Boston dataset"
   ]
  },
  {
   "cell_type": "code",
   "execution_count": 20,
   "metadata": {
    "executionInfo": {
     "elapsed": 4,
     "status": "ok",
     "timestamp": 1739156189844,
     "user": {
      "displayName": "김려은",
      "userId": "11330255083274715375"
     },
     "user_tz": -540
    },
    "id": "qoV67t3zxo69"
   },
   "outputs": [],
   "source": [
    "# 학습용 데이터셋 준비\n",
    "\n",
    "# '보스턴 데이터셋'은 현재 사이킷런 라이브러리에서 가져올 수 있지만,\n",
    "# 사이킷런에서 앞으로 이 데이터를 사용할 수 없기 때문에 웹 url에서 직접 수집\n",
    "\n",
    "#  Variables in order:\n",
    "#  CRIM     per capita crime rate by town\n",
    "#  ZN       proportion of residential land zoned for lots over 25,000 sq.ft.\n",
    "#  INDUS    proportion of non-retail business acres per town\n",
    "#  CHAS     Charles River dummy variable (= 1 if tract bounds river; 0 otherwise)\n",
    "#  NOX      nitric oxides concentration (parts per 10 million)\n",
    "#  RM       average number of rooms per dwelling\n",
    "#  AGE      proportion of owner-occupied units built prior to 1940\n",
    "#  DIS      weighted distances to five Boston employment centres\n",
    "#  RAD      index of accessibility to radial highways\n",
    "#  TAX      full-value property-tax rate per $10,000\n",
    "#  PTRATIO  pupil-teacher ratio by town\n",
    "#  B        1000(Bk - 0.63)^2 where Bk is the proportion of blacks by town\n",
    "#  LSTAT    % lower status of the population\n",
    "#  MEDV     Median value of owner-occupied homes in $1000's\n",
    "\n",
    "# CRIM: 인구당 마을별 범죄율\n",
    "# ZN: 25,000 평방피트를 초과하는 주거용 토지 비율\n",
    "# INDUS: 마을별 비소매업 지역 비율\n",
    "# CHAS: 찰스강 더미 변수 (강과 접한 지역 = 1, 그렇지 않으면 = 0)\n",
    "# NOX: 질소 산화물 농도 (1000만 분의 1 단위)\n",
    "# RM: 주택당 평균 방 개수\n",
    "# AGE: 1940년 이전에 건축된 자가 소유 주택의 비율\n",
    "# DIS: 보스턴 주요 고용 센터 5곳까지의 가중 거리\n",
    "# RAD: 방사형 고속도로 접근성 지수\n",
    "# TAX: $10,000당 재산세율\n",
    "# PTRATIO: 마을별 학생-교사 비율\n",
    "# B: 1000(Bk - 0.63)^2, 여기서 Bk는 마을별 흑인 인구 비율\n",
    "# LSTAT: 저소득층 인구 비율\n",
    "# MEDV: 자가 소유 주택의 중간값 ($1000 단위)"
   ]
  },
  {
   "cell_type": "code",
   "execution_count": 5,
   "metadata": {
    "colab": {
     "base_uri": "https://localhost:8080/"
    },
    "executionInfo": {
     "elapsed": 1864,
     "status": "ok",
     "timestamp": 1739156191705,
     "user": {
      "displayName": "김려은",
      "userId": "11330255083274715375"
     },
     "user_tz": -540
    },
    "id": "gwrQ8F-Exo69",
    "outputId": "fe4522d4-e084-4dfc-e65d-cb7e15347ef0"
   },
   "outputs": [
    {
     "name": "stdout",
     "output_type": "stream",
     "text": [
      "          0      1      2    3      4      5     6       7    8      9     10\n",
      "0    0.00632  18.00   2.31  0.0  0.538  6.575  65.2  4.0900  1.0  296.0  15.3\n",
      "1  396.90000   4.98  24.00  NaN    NaN    NaN   NaN     NaN  NaN    NaN   NaN\n",
      "2    0.02731   0.00   7.07  0.0  0.469  6.421  78.9  4.9671  2.0  242.0  17.8\n",
      "3  396.90000   9.14  21.60  NaN    NaN    NaN   NaN     NaN  NaN    NaN   NaN\n",
      "4    0.02729   0.00   7.07  0.0  0.469  7.185  61.1  4.9671  2.0  242.0  17.8\n",
      "5  392.83000   4.03  34.70  NaN    NaN    NaN   NaN     NaN  NaN    NaN   NaN\n",
      "6    0.03237   0.00   2.18  0.0  0.458  6.998  45.8  6.0622  3.0  222.0  18.7\n",
      "7  394.63000   2.94  33.40  NaN    NaN    NaN   NaN     NaN  NaN    NaN   NaN\n",
      "8    0.06905   0.00   2.18  0.0  0.458  7.147  54.2  6.0622  3.0  222.0  18.7\n",
      "9  396.90000   5.33  36.20  NaN    NaN    NaN   NaN     NaN  NaN    NaN   NaN\n"
     ]
    }
   ],
   "source": [
    "\n",
    "data_url = \"http://lib.stat.cmu.edu/datasets/boston\"\n",
    "raw_df = pd.read_csv(data_url, sep=\"\\s+\",\n",
    "                     skiprows=22, header=None)\n",
    "print(raw_df.head(10))\n"
   ]
  },
  {
   "cell_type": "code",
   "execution_count": 7,
   "metadata": {
    "executionInfo": {
     "elapsed": 7,
     "status": "ok",
     "timestamp": 1739156191710,
     "user": {
      "displayName": "김려은",
      "userId": "11330255083274715375"
     },
     "user_tz": -540
    },
    "id": "VKEaBmEYxo6-"
   },
   "outputs": [
    {
     "name": "stdout",
     "output_type": "stream",
     "text": [
      "x_org = \n",
      " [[  0.0063  18.       2.31     0.       0.538    6.575   65.2      4.09\n",
      "    1.     296.      15.3    396.9      4.98  ]\n",
      " [  0.0273   0.       7.07     0.       0.469    6.421   78.9      4.9671\n",
      "    2.     242.      17.8    396.9      9.14  ]\n",
      " [  0.0273   0.       7.07     0.       0.469    7.185   61.1      4.9671\n",
      "    2.     242.      17.8    392.83     4.03  ]\n",
      " [  0.0324   0.       2.18     0.       0.458    6.998   45.8      6.0622\n",
      "    3.     222.      18.7    394.63     2.94  ]\n",
      " [  0.0691   0.       2.18     0.       0.458    7.147   54.2      6.0622\n",
      "    3.     222.      18.7    396.9      5.33  ]]\n"
     ]
    }
   ],
   "source": [
    "\n",
    "x_org = np.hstack([raw_df.values[::2, :],\n",
    "                   raw_df.values[1::2, :2]]) # 짝수줄 전체, 홀 수 줄 [: 2] => Features \n",
    "print(\"x_org = \\n\",x_org[:5])\n",
    "# x_org[:10, :5]"
   ]
  },
  {
   "cell_type": "code",
   "execution_count": 8,
   "metadata": {
    "colab": {
     "base_uri": "https://localhost:8080/"
    },
    "executionInfo": {
     "elapsed": 80,
     "status": "ok",
     "timestamp": 1739156191798,
     "user": {
      "displayName": "김려은",
      "userId": "11330255083274715375"
     },
     "user_tz": -540
    },
    "id": "6WBksEgMxo6-",
    "outputId": "956695da-ed5d-41a0-b3fa-fe43f2d00beb"
   },
   "outputs": [
    {
     "name": "stdout",
     "output_type": "stream",
     "text": [
      "원본 데이터 (506, 13) (506,)\n",
      "항목명:  ['CRIM' 'ZN' 'INDUS' 'CHAS' 'NOX' 'RM' 'AGE' 'DIS' 'RAD' 'TAX' 'PTRATIO'\n",
      " 'B' 'LSTAT']\n"
     ]
    }
   ],
   "source": [
    "yt = raw_df.values[1::2, 2] ## Target\n",
    "feature_names = np.array(['CRIM', 'ZN', 'INDUS', 'CHAS', 'NOX',\n",
    "                          'RM', 'AGE', 'DIS', 'RAD', 'TAX', 'PTRATIO','B', 'LSTAT'])\n",
    "\n",
    "# 결과 확인\n",
    "print('원본 데이터', x_org.shape, yt.shape)\n",
    "print('항목명: ', feature_names)"
   ]
  },
  {
   "cell_type": "code",
   "execution_count": 9,
   "metadata": {
    "colab": {
     "base_uri": "https://localhost:8080/"
    },
    "executionInfo": {
     "elapsed": 5,
     "status": "ok",
     "timestamp": 1739156191804,
     "user": {
      "displayName": "김려은",
      "userId": "11330255083274715375"
     },
     "user_tz": -540
    },
    "id": "LhnhE-TYxo6-",
    "outputId": "b4f2f49a-c464-4cde-d785-7e82ba576969"
   },
   "outputs": [
    {
     "data": {
      "text/plain": [
       "array([False, False, False, False, False,  True, False, False, False,\n",
       "       False, False, False, False])"
      ]
     },
     "execution_count": 9,
     "metadata": {},
     "output_type": "execute_result"
    }
   ],
   "source": [
    "x_org[:5]\n",
    "feature_names == 'RM'"
   ]
  },
  {
   "cell_type": "code",
   "execution_count": null,
   "metadata": {
    "colab": {
     "base_uri": "https://localhost:8080/"
    },
    "executionInfo": {
     "elapsed": 15,
     "status": "ok",
     "timestamp": 1739156191818,
     "user": {
      "displayName": "김려은",
      "userId": "11330255083274715375"
     },
     "user_tz": -540
    },
    "id": "IVz6Sf_exo6-",
    "outputId": "96977964-9ace-40e9-de22-ad824acecd4e"
   },
   "outputs": [
    {
     "name": "stdout",
     "output_type": "stream",
     "text": [
      "추출 후 (506, 1)\n",
      "[[6.575]\n",
      " [6.421]\n",
      " [7.185]\n",
      " [6.998]\n",
      " [7.147]]\n",
      "정답 데이터\n",
      "[24.  21.6 34.7 33.4 36.2]\n"
     ]
    }
   ],
   "source": [
    "# 데이터 추출(RM 항목)\n",
    "x = x_org[:,feature_names == 'RM'] #특정 데이터만 출력 \n",
    "print('추출 후', x.shape) #2차원으로 출력 \n",
    "print(x[:5,:])\n",
    "\n",
    "# 정답 데이터 y 표시\n",
    "print('정답 데이터')\n",
    "print(yt[:5])"
   ]
  },
  {
   "cell_type": "code",
   "execution_count": 12,
   "metadata": {
    "colab": {
     "base_uri": "https://localhost:8080/",
     "height": 578
    },
    "executionInfo": {
     "elapsed": 767,
     "status": "ok",
     "timestamp": 1739156192588,
     "user": {
      "displayName": "김려은",
      "userId": "11330255083274715375"
     },
     "user_tz": -540
    },
    "id": "CcqF77Fzxo6-",
    "outputId": "ece4ef8a-7b05-4de2-bbfe-55ced0e22907"
   },
   "outputs": [
    {
     "data": {
      "image/png": "[encoded data removed]",
      "text/plain": [
       "<Figure size 600x600 with 1 Axes>"
      ]
     },
     "metadata": {},
     "output_type": "display_data"
    }
   ],
   "source": [
    "# 산포도 출력\n",
    "\n",
    "plt.scatter(x, yt, s=20, c='b')\n",
    "plt.xlabel('Room counts')\n",
    "plt.ylabel('Price')\n",
    "plt.title(' Scatter plot between Room counts vs Price ')\n",
    "plt.show()"
   ]
  },
  {
   "cell_type": "markdown",
   "metadata": {
    "id": "y3TrTybfxo6-"
   },
   "source": [
    "### 단순 선형 회귀"
   ]
  },
  {
   "cell_type": "code",
   "execution_count": 13,
   "metadata": {
    "colab": {
     "base_uri": "https://localhost:8080/"
    },
    "executionInfo": {
     "elapsed": 6,
     "status": "ok",
     "timestamp": 1739156192592,
     "user": {
      "displayName": "김려은",
      "userId": "11330255083274715375"
     },
     "user_tz": -540
    },
    "id": "16Gg5Otkxo7C",
    "outputId": "1eb7b5a2-c4ac-4328-d4ad-6756d2da965d"
   },
   "outputs": [
    {
     "name": "stdout",
     "output_type": "stream",
     "text": [
      "입력 차원수: 1  출력 차원수: 1\n"
     ]
    }
   ],
   "source": [
    "## 회귀모델\n",
    "\n",
    "# 입력 차원수\n",
    "n_input= x.shape[1]\n",
    "\n",
    "# 출력 차원수\n",
    "n_output = 1\n",
    "\n",
    "print(f'입력 차원수: {n_input}  출력 차원수: {n_output}')\n",
    "\n",
    "# 머신러닝 모델(예측 모델)의 클래스 정의\n",
    "\n",
    "class Net(nn.Module):\n",
    "    def __init__(self, n_input, n_output):\n",
    "        #  부모 클래스 nn.Module 초기화\n",
    "        super().__init__()\n",
    "\n",
    "        # 출력층 정의\n",
    "        self.l1 = nn.Linear(n_input, n_output)\n",
    "\n",
    "        # 초깃값을 모두 1로 설정\n",
    "        # \"딥러닝을 위한 수학\"과 조건을 맞추기 위함\n",
    "        # nn.init.constant_(self.l1.weight, 1.0)\n",
    "        # nn.init.constant_(self.l1.bias, 1.0)\n",
    "\n",
    "    # 예측 함수 정의\n",
    "    def forward(self, x):\n",
    "        x1 = self.l1(x) # 선형 회귀\n",
    "        return x1"
   ]
  },
  {
   "cell_type": "code",
   "execution_count": 44,
   "metadata": {
    "colab": {
     "base_uri": "https://localhost:8080/"
    },
    "executionInfo": {
     "elapsed": 40,
     "status": "ok",
     "timestamp": 1739156192642,
     "user": {
      "displayName": "김려은",
      "userId": "11330255083274715375"
     },
     "user_tz": -540
    },
    "id": "OaBwTpqTxo7D",
    "outputId": "f6f59757-37ce-4041-928c-e8f25e2a4d50"
   },
   "outputs": [
    {
     "name": "stdout",
     "output_type": "stream",
     "text": [
      "==================================================\n",
      "Parameter containing:\n",
      "tensor([[-0.0003]], requires_grad=True)\n",
      "Parameter containing:\n",
      "tensor([0.0344], requires_grad=True)\n"
     ]
    }
   ],
   "source": [
    "# 인스턴스 생성\n",
    "# １입력 1출력 선형 모델\n",
    "\n",
    "net = Net(n_input, n_output)\n",
    "\n",
    "# 모델 안의 파라미터를 확인\n",
    "# for parameter in net.named_parameters():\n",
    "#     print(f'변수명: {parameter[0]}')\n",
    "#     print(f'변숫값: {parameter[1].data}')\n",
    "print(\"=\"*50)\n",
    "# 파라미터 리스트를 가져오기 위해 parameters 함수를 사용\n",
    "for parameter in net.parameters():\n",
    "    print(parameter)"
   ]
  },
  {
   "cell_type": "code",
   "execution_count": 45,
   "metadata": {
    "colab": {
     "base_uri": "https://localhost:8080/"
    },
    "executionInfo": {
     "elapsed": 3,
     "status": "ok",
     "timestamp": 1739156192688,
     "user": {
      "displayName": "김려은",
      "userId": "11330255083274715375"
     },
     "user_tz": -540
    },
    "id": "h_s7CzSpxo7D",
    "outputId": "8a42a0b0-8081-4bcd-8357-ce8bdfef7d50"
   },
   "outputs": [
    {
     "name": "stdout",
     "output_type": "stream",
     "text": [
      "Net(\n",
      "  (l1): Linear(in_features=1, out_features=1, bias=True)\n",
      ")\n"
     ]
    }
   ],
   "source": [
    "print(net)"
   ]
  },
  {
   "cell_type": "code",
   "execution_count": 46,
   "metadata": {
    "colab": {
     "base_uri": "https://localhost:8080/"
    },
    "executionInfo": {
     "elapsed": 52,
     "status": "ok",
     "timestamp": 1739156192741,
     "user": {
      "displayName": "김려은",
      "userId": "11330255083274715375"
     },
     "user_tz": -540
    },
    "id": "huFe8Nevxo7D",
    "outputId": "0571fcb7-ae63-4032-8142-b7f4a52e3f55"
   },
   "outputs": [
    {
     "data": {
      "text/plain": [
       "==========================================================================================\n",
       "Layer (type:depth-idx)                   Output Shape              Param #\n",
       "==========================================================================================\n",
       "Net                                      [1]                       --\n",
       "├─Linear: 1-1                            [1]                       2\n",
       "==========================================================================================\n",
       "Total params: 2\n",
       "Trainable params: 2\n",
       "Non-trainable params: 0\n",
       "Total mult-adds (Units.MEGABYTES): 0.00\n",
       "==========================================================================================\n",
       "Input size (MB): 0.00\n",
       "Forward/backward pass size (MB): 0.00\n",
       "Params size (MB): 0.00\n",
       "Estimated Total Size (MB): 0.00\n",
       "=========================================================================================="
      ]
     },
     "execution_count": 46,
     "metadata": {},
     "output_type": "execute_result"
    }
   ],
   "source": [
    "# from torchsummary import summary\n",
    "from torchinfo import summary\n",
    "\n",
    "summary(net, (1,), device = 'cpu')"
   ]
  },
  {
   "cell_type": "code",
   "execution_count": 47,
   "metadata": {
    "executionInfo": {
     "elapsed": 8428,
     "status": "ok",
     "timestamp": 1739156201171,
     "user": {
      "displayName": "김려은",
      "userId": "11330255083274715375"
     },
     "user_tz": -540
    },
    "id": "VCD8KO7Vxo7D"
   },
   "outputs": [],
   "source": [
    "# 손실 함수： 평균 제곱 오차\n",
    "criterion = nn.MSELoss()\n",
    "\n",
    "# 학습률\n",
    "lr = 0.01\n",
    "\n",
    "num_epochs = 10000\n",
    "history = np.zeros((0,2))\n",
    "\n",
    "# 최적화 함수: 경사 하강법\n",
    "optimizer = optim.SGD(net.parameters(), lr=lr)"
   ]
  },
  {
   "cell_type": "code",
   "execution_count": 48,
   "metadata": {
    "colab": {
     "base_uri": "https://localhost:8080/"
    },
    "executionInfo": {
     "elapsed": 15,
     "status": "ok",
     "timestamp": 1739156201174,
     "user": {
      "displayName": "김려은",
      "userId": "11330255083274715375"
     },
     "user_tz": -540
    },
    "id": "1FJ7rqQfxo7D",
    "outputId": "c11fd99f-704a-4c0d-8494-1a9926505bb7"
   },
   "outputs": [
    {
     "name": "stdout",
     "output_type": "stream",
     "text": [
      "torch.Size([506, 1]) torch.float32\n",
      "torch.Size([506]) torch.float32\n"
     ]
    }
   ],
   "source": [
    "# 입력값 x와 정답 yt의 텐서 변수화\n",
    "# inputs = torch.tensor(x).float()\n",
    "# labels = torch.tensor(yt).float()\n",
    "inputs = torch.tensor(x, dtype = torch.float32)\n",
    "labels = torch.tensor(yt, dtype = torch.float32)\n",
    "\n",
    "# 차원 수 확인\n",
    "\n",
    "print(inputs.shape, inputs.dtype)\n",
    "print(labels.shape, labels.dtype)"
   ]
  },
  {
   "cell_type": "code",
   "execution_count": 49,
   "metadata": {
    "colab": {
     "base_uri": "https://localhost:8080/"
    },
    "executionInfo": {
     "elapsed": 11,
     "status": "ok",
     "timestamp": 1739156201174,
     "user": {
      "displayName": "김려은",
      "userId": "11330255083274715375"
     },
     "user_tz": -540
    },
    "id": "Gy0zplzVxo7D",
    "outputId": "df1e45b3-4afe-462b-ebe8-7ef4327f63dc"
   },
   "outputs": [
    {
     "name": "stdout",
     "output_type": "stream",
     "text": [
      "label shape =  torch.Size([506, 1])\n",
      "torch.float32\n",
      "torch.float32\n",
      "590.68011\n"
     ]
    }
   ],
   "source": [
    "# 손실 계산을 위해 labels를 (N,1) 차원의 행렬로 변환\n",
    "\n",
    "labels1 = labels.view((-1, 1)) #dimension  변환 \n",
    "\n",
    "# 차원 수 확인\n",
    "print(\"label shape = \", labels1.shape)\n",
    "\n",
    "# 예측 계산\n",
    "\n",
    "outputs = net(inputs)\n",
    "print(outputs.dtype)\n",
    "print(outputs.dtype)\n",
    "\n",
    "\n",
    "# 손실 계산\n",
    "loss = criterion(outputs, labels1)\n",
    "\n",
    "# 손실 값 가져오기\n",
    "print(f'{loss.item():.5f}')"
   ]
  },
  {
   "cell_type": "code",
   "execution_count": 50,
   "metadata": {},
   "outputs": [
    {
     "name": "stdout",
     "output_type": "stream",
     "text": [
      "Epoch = 0,Loss=590.6801147460938\n",
      "Epoch = 100,Loss=58.202903747558594\n",
      "Epoch = 200,Loss=57.517147064208984\n",
      "Epoch = 300,Loss=56.86359786987305\n",
      "Epoch = 400,Loss=56.240745544433594\n",
      "Epoch = 500,Loss=55.64713668823242\n",
      "Epoch = 600,Loss=55.08140563964844\n",
      "Epoch = 700,Loss=54.5422477722168\n",
      "Epoch = 800,Loss=54.028411865234375\n",
      "Epoch = 900,Loss=53.538700103759766\n",
      "Epoch = 1000,Loss=53.071983337402344\n",
      "Epoch = 1100,Loss=52.627193450927734\n",
      "Epoch = 1200,Loss=52.203277587890625\n",
      "Epoch = 1300,Loss=51.79928207397461\n",
      "Epoch = 1400,Loss=51.41425704956055\n",
      "Epoch = 1500,Loss=51.04731369018555\n",
      "Epoch = 1600,Loss=50.69758987426758\n",
      "Epoch = 1700,Loss=50.36430358886719\n",
      "Epoch = 1800,Loss=50.04666519165039\n",
      "Epoch = 1900,Loss=49.74394607543945\n",
      "Epoch = 2000,Loss=49.455440521240234\n",
      "Epoch = 2100,Loss=49.180484771728516\n",
      "Epoch = 2200,Loss=48.91844177246094\n",
      "Epoch = 2300,Loss=48.668701171875\n",
      "Epoch = 2400,Loss=48.43069839477539\n",
      "Epoch = 2500,Loss=48.20386505126953\n",
      "Epoch = 2600,Loss=47.98768615722656\n",
      "Epoch = 2700,Loss=47.78166198730469\n",
      "Epoch = 2800,Loss=47.585304260253906\n",
      "Epoch = 2900,Loss=47.39817810058594\n",
      "Epoch = 3000,Loss=47.2198371887207\n",
      "Epoch = 3100,Loss=47.049861907958984\n",
      "Epoch = 3200,Loss=46.88788604736328\n",
      "Epoch = 3300,Loss=46.73350143432617\n",
      "Epoch = 3400,Loss=46.586368560791016\n",
      "Epoch = 3500,Loss=46.4461555480957\n",
      "Epoch = 3600,Loss=46.31251907348633\n",
      "Epoch = 3700,Loss=46.18516540527344\n",
      "Epoch = 3800,Loss=46.063785552978516\n",
      "Epoch = 3900,Loss=45.94810485839844\n",
      "Epoch = 4000,Loss=45.837860107421875\n",
      "Epoch = 4100,Loss=45.732791900634766\n",
      "Epoch = 4200,Loss=45.632659912109375\n",
      "Epoch = 4300,Loss=45.53722381591797\n",
      "Epoch = 4400,Loss=45.4462776184082\n",
      "Epoch = 4500,Loss=45.35960006713867\n",
      "Epoch = 4600,Loss=45.27699279785156\n",
      "Epoch = 4700,Loss=45.19826126098633\n",
      "Epoch = 4800,Loss=45.123233795166016\n",
      "Epoch = 4900,Loss=45.051719665527344\n",
      "Epoch = 5000,Loss=44.98357009887695\n",
      "Epoch = 5100,Loss=44.91862487792969\n",
      "Epoch = 5200,Loss=44.856727600097656\n",
      "Epoch = 5300,Loss=44.79773712158203\n",
      "Epoch = 5400,Loss=44.741512298583984\n",
      "Epoch = 5500,Loss=44.68792724609375\n",
      "Epoch = 5600,Loss=44.636863708496094\n",
      "Epoch = 5700,Loss=44.58819580078125\n",
      "Epoch = 5800,Loss=44.54181671142578\n",
      "Epoch = 5900,Loss=44.497615814208984\n",
      "Epoch = 6000,Loss=44.455482482910156\n",
      "Epoch = 6100,Loss=44.415340423583984\n",
      "Epoch = 6200,Loss=44.3770751953125\n",
      "Epoch = 6300,Loss=44.340606689453125\n",
      "Epoch = 6400,Loss=44.30585861206055\n",
      "Epoch = 6500,Loss=44.27273178100586\n",
      "Epoch = 6600,Loss=44.24116134643555\n",
      "Epoch = 6700,Loss=44.211082458496094\n",
      "Epoch = 6800,Loss=44.18240737915039\n",
      "Epoch = 6900,Loss=44.15508270263672\n",
      "Epoch = 7000,Loss=44.12904357910156\n",
      "Epoch = 7100,Loss=44.104225158691406\n",
      "Epoch = 7200,Loss=44.08057403564453\n",
      "Epoch = 7300,Loss=44.05802536010742\n",
      "Epoch = 7400,Loss=44.03654479980469\n",
      "Epoch = 7500,Loss=44.01606750488281\n",
      "Epoch = 7600,Loss=43.996559143066406\n",
      "Epoch = 7700,Loss=43.977962493896484\n",
      "Epoch = 7800,Loss=43.96023178100586\n",
      "Epoch = 7900,Loss=43.9433479309082\n",
      "Epoch = 8000,Loss=43.92725372314453\n",
      "Epoch = 8100,Loss=43.911903381347656\n",
      "Epoch = 8200,Loss=43.897281646728516\n",
      "Epoch = 8300,Loss=43.88335418701172\n",
      "Epoch = 8400,Loss=43.87007522583008\n",
      "Epoch = 8500,Loss=43.85741424560547\n",
      "Epoch = 8600,Loss=43.8453483581543\n",
      "Epoch = 8700,Loss=43.83385467529297\n",
      "Epoch = 8800,Loss=43.822898864746094\n",
      "Epoch = 8900,Loss=43.812461853027344\n",
      "Epoch = 9000,Loss=43.80250549316406\n",
      "Epoch = 9100,Loss=43.79301834106445\n",
      "Epoch = 9200,Loss=43.78398513793945\n",
      "Epoch = 9300,Loss=43.77537155151367\n",
      "Epoch = 9400,Loss=43.76716232299805\n",
      "Epoch = 9500,Loss=43.75933837890625\n",
      "Epoch = 9600,Loss=43.75187683105469\n",
      "Epoch = 9700,Loss=43.74477005004883\n",
      "Epoch = 9800,Loss=43.73800277709961\n",
      "Epoch = 9900,Loss=43.731544494628906\n"
     ]
    }
   ],
   "source": [
    "#GD학습 \n",
    "for epoch in range (num_epochs): \n",
    "    #pred\n",
    "    outputs=net(inputs) \n",
    "    #loss \n",
    "    loss = criterion(outputs,labels1)\n",
    "\n",
    "    optimizer.zero_grad() \n",
    "    loss.backward()\n",
    "    optimizer.step() \n",
    "\n",
    "    if epoch %100 ==0:\n",
    "        print(f\"Epoch = {epoch},Loss={loss.item()}\")\n",
    "        result = np.array([epoch,loss.item()])\n",
    "        history = np.vstack([history,result])"
   ]
  },
  {
   "cell_type": "code",
   "execution_count": 51,
   "metadata": {},
   "outputs": [
    {
     "data": {
      "image/png": "[encoded data removed]",
      "text/plain": [
       "<Figure size 600x600 with 1 Axes>"
      ]
     },
     "metadata": {},
     "output_type": "display_data"
    }
   ],
   "source": [
    "plt.plot(history[:,0],history[:,1])\n",
    "plt.xlabel('Epoch')\n",
    "plt.show()"
   ]
  },
  {
   "cell_type": "code",
   "execution_count": 52,
   "metadata": {},
   "outputs": [
    {
     "data": {
      "image/png": "[encoded data removed]",
      "text/plain": [
       "<Figure size 600x600 with 1 Axes>"
      ]
     },
     "metadata": {},
     "output_type": "display_data"
    }
   ],
   "source": [
    "yhat=net(inputs)\n",
    "plt.scatter(x,yt,s=20,c=\"b\")\n",
    "plt.plot(x,yhat.detach().numpy(),c=\"r\")\n",
    "plt.xlabel(\"Room counts\")\n",
    "plt.ylabel(\"House price\")\n",
    "plt.show()"
   ]
  },
  {
   "cell_type": "code",
   "execution_count": 34,
   "metadata": {
    "colab": {
     "base_uri": "https://localhost:8080/"
    },
    "executionInfo": {
     "elapsed": 16,
     "status": "ok",
     "timestamp": 1739156201184,
     "user": {
      "displayName": "김려은",
      "userId": "11330255083274715375"
     },
     "user_tz": -540
    },
    "id": "njKR1whTxo7D",
    "outputId": "0fb5a2ab-5ee7-451e-981e-6b99049ee21a"
   },
   "outputs": [
    {
     "data": {
      "text/plain": [
       "{'l1.weight': Parameter containing:\n",
       " tensor([[0.4797]], requires_grad=True),\n",
       " 'l1.bias': Parameter containing:\n",
       " tensor([-0.5425], requires_grad=True)}"
      ]
     },
     "execution_count": 34,
     "metadata": {},
     "output_type": "execute_result"
    }
   ],
   "source": [
    "dict(net.named_parameters())"
   ]
  },
  {
   "cell_type": "code",
   "execution_count": 35,
   "metadata": {
    "colab": {
     "base_uri": "https://localhost:8080/",
     "height": 468
    },
    "executionInfo": {
     "elapsed": 137,
     "status": "ok",
     "timestamp": 1739156201322,
     "user": {
      "displayName": "김려은",
      "userId": "11330255083274715375"
     },
     "user_tz": -540
    },
    "id": "K4rfy5Uxxo7D",
    "outputId": "8f7fe693-e6ca-4f01-b20e-ef117e8edfd3"
   },
   "outputs": [
    {
     "data": {
      "image/svg+xml": [
       "<?xml version=\"1.0\" encoding=\"UTF-8\" standalone=\"no\"?>\n",
       "<!DOCTYPE svg PUBLIC \"-//W3C//DTD SVG 1.1//EN\"\n",
       " \"http://www.w3.org/Graphics/SVG/1.1/DTD/svg11.dtd\">\n",
       "<!-- Generated by graphviz version 2.43.0 (0)\n",
       " -->\n",
       "<!-- Title: %3 Pages: 1 -->\n",
       "<svg width=\"216pt\" height=\"336pt\"\n",
       " viewBox=\"0.00 0.00 216.00 336.00\" xmlns=\"http://www.w3.org/2000/svg\" xmlns:xlink=\"http://www.w3.org/1999/xlink\">\n",
       "<g id=\"graph0\" class=\"graph\" transform=\"scale(1 1) rotate(0) translate(4 332)\">\n",
       "<title>%3</title>\n",
       "<polygon fill=\"white\" stroke=\"transparent\" points=\"-4,4 -4,-332 212,-332 212,4 -4,4\"/>\n",
       "<!-- 139538751861968 -->\n",
       "<g id=\"node1\" class=\"node\">\n",
       "<title>139538751861968</title>\n",
       "<polygon fill=\"#caff70\" stroke=\"black\" points=\"130.5,-31 76.5,-31 76.5,0 130.5,0 130.5,-31\"/>\n",
       "<text text-anchor=\"middle\" x=\"103.5\" y=\"-7\" font-family=\"monospace\" font-size=\"10.00\"> ()</text>\n",
       "</g>\n",
       "<!-- 139538765499504 -->\n",
       "<g id=\"node2\" class=\"node\">\n",
       "<title>139538765499504</title>\n",
       "<polygon fill=\"lightgrey\" stroke=\"black\" points=\"160,-86 47,-86 47,-67 160,-67 160,-86\"/>\n",
       "<text text-anchor=\"middle\" x=\"103.5\" y=\"-74\" font-family=\"monospace\" font-size=\"10.00\">MseLossBackward0</text>\n",
       "</g>\n",
       "<!-- 139538765499504&#45;&gt;139538751861968 -->\n",
       "<g id=\"edge7\" class=\"edge\">\n",
       "<title>139538765499504&#45;&gt;139538751861968</title>\n",
       "<path fill=\"none\" stroke=\"black\" d=\"M103.5,-66.79C103.5,-60.07 103.5,-50.4 103.5,-41.34\"/>\n",
       "<polygon fill=\"black\" stroke=\"black\" points=\"107,-41.19 103.5,-31.19 100,-41.19 107,-41.19\"/>\n",
       "</g>\n",
       "<!-- 139538765510016 -->\n",
       "<g id=\"node3\" class=\"node\">\n",
       "<title>139538765510016</title>\n",
       "<polygon fill=\"lightgrey\" stroke=\"black\" points=\"154,-141 53,-141 53,-122 154,-122 154,-141\"/>\n",
       "<text text-anchor=\"middle\" x=\"103.5\" y=\"-129\" font-family=\"monospace\" font-size=\"10.00\">AddmmBackward0</text>\n",
       "</g>\n",
       "<!-- 139538765510016&#45;&gt;139538765499504 -->\n",
       "<g id=\"edge1\" class=\"edge\">\n",
       "<title>139538765510016&#45;&gt;139538765499504</title>\n",
       "<path fill=\"none\" stroke=\"black\" d=\"M103.5,-121.75C103.5,-114.8 103.5,-104.85 103.5,-96.13\"/>\n",
       "<polygon fill=\"black\" stroke=\"black\" points=\"107,-96.09 103.5,-86.09 100,-96.09 107,-96.09\"/>\n",
       "</g>\n",
       "<!-- 139538765508624 -->\n",
       "<g id=\"node4\" class=\"node\">\n",
       "<title>139538765508624</title>\n",
       "<polygon fill=\"lightgrey\" stroke=\"black\" points=\"101,-196 0,-196 0,-177 101,-177 101,-196\"/>\n",
       "<text text-anchor=\"middle\" x=\"50.5\" y=\"-184\" font-family=\"monospace\" font-size=\"10.00\">AccumulateGrad</text>\n",
       "</g>\n",
       "<!-- 139538765508624&#45;&gt;139538765510016 -->\n",
       "<g id=\"edge2\" class=\"edge\">\n",
       "<title>139538765508624&#45;&gt;139538765510016</title>\n",
       "<path fill=\"none\" stroke=\"black\" d=\"M59.25,-176.75C66.97,-169.03 78.4,-157.6 87.72,-148.28\"/>\n",
       "<polygon fill=\"black\" stroke=\"black\" points=\"90.31,-150.64 94.91,-141.09 85.36,-145.69 90.31,-150.64\"/>\n",
       "</g>\n",
       "<!-- 139538949794576 -->\n",
       "<g id=\"node5\" class=\"node\">\n",
       "<title>139538949794576</title>\n",
       "<polygon fill=\"lightblue\" stroke=\"black\" points=\"80,-262 21,-262 21,-232 80,-232 80,-262\"/>\n",
       "<text text-anchor=\"middle\" x=\"50.5\" y=\"-250\" font-family=\"monospace\" font-size=\"10.00\">l1.bias</text>\n",
       "<text text-anchor=\"middle\" x=\"50.5\" y=\"-239\" font-family=\"monospace\" font-size=\"10.00\"> (1)</text>\n",
       "</g>\n",
       "<!-- 139538949794576&#45;&gt;139538765508624 -->\n",
       "<g id=\"edge3\" class=\"edge\">\n",
       "<title>139538949794576&#45;&gt;139538765508624</title>\n",
       "<path fill=\"none\" stroke=\"black\" d=\"M50.5,-231.84C50.5,-224.21 50.5,-214.7 50.5,-206.45\"/>\n",
       "<polygon fill=\"black\" stroke=\"black\" points=\"54,-206.27 50.5,-196.27 47,-206.27 54,-206.27\"/>\n",
       "</g>\n",
       "<!-- 139538765509824 -->\n",
       "<g id=\"node6\" class=\"node\">\n",
       "<title>139538765509824</title>\n",
       "<polygon fill=\"lightgrey\" stroke=\"black\" points=\"196,-196 119,-196 119,-177 196,-177 196,-196\"/>\n",
       "<text text-anchor=\"middle\" x=\"157.5\" y=\"-184\" font-family=\"monospace\" font-size=\"10.00\">TBackward0</text>\n",
       "</g>\n",
       "<!-- 139538765509824&#45;&gt;139538765510016 -->\n",
       "<g id=\"edge4\" class=\"edge\">\n",
       "<title>139538765509824&#45;&gt;139538765510016</title>\n",
       "<path fill=\"none\" stroke=\"black\" d=\"M148.58,-176.75C140.72,-169.03 129.07,-157.6 119.58,-148.28\"/>\n",
       "<polygon fill=\"black\" stroke=\"black\" points=\"121.84,-145.6 112.25,-141.09 116.94,-150.59 121.84,-145.6\"/>\n",
       "</g>\n",
       "<!-- 139538765508144 -->\n",
       "<g id=\"node7\" class=\"node\">\n",
       "<title>139538765508144</title>\n",
       "<polygon fill=\"lightgrey\" stroke=\"black\" points=\"208,-256.5 107,-256.5 107,-237.5 208,-237.5 208,-256.5\"/>\n",
       "<text text-anchor=\"middle\" x=\"157.5\" y=\"-244.5\" font-family=\"monospace\" font-size=\"10.00\">AccumulateGrad</text>\n",
       "</g>\n",
       "<!-- 139538765508144&#45;&gt;139538765509824 -->\n",
       "<g id=\"edge5\" class=\"edge\">\n",
       "<title>139538765508144&#45;&gt;139538765509824</title>\n",
       "<path fill=\"none\" stroke=\"black\" d=\"M157.5,-237.37C157.5,-229.25 157.5,-216.81 157.5,-206.39\"/>\n",
       "<polygon fill=\"black\" stroke=\"black\" points=\"161,-206.17 157.5,-196.17 154,-206.17 161,-206.17\"/>\n",
       "</g>\n",
       "<!-- 139538949794864 -->\n",
       "<g id=\"node8\" class=\"node\">\n",
       "<title>139538949794864</title>\n",
       "<polygon fill=\"lightblue\" stroke=\"black\" points=\"193,-328 122,-328 122,-298 193,-298 193,-328\"/>\n",
       "<text text-anchor=\"middle\" x=\"157.5\" y=\"-316\" font-family=\"monospace\" font-size=\"10.00\">l1.weight</text>\n",
       "<text text-anchor=\"middle\" x=\"157.5\" y=\"-305\" font-family=\"monospace\" font-size=\"10.00\"> (1, 1)</text>\n",
       "</g>\n",
       "<!-- 139538949794864&#45;&gt;139538765508144 -->\n",
       "<g id=\"edge6\" class=\"edge\">\n",
       "<title>139538949794864&#45;&gt;139538765508144</title>\n",
       "<path fill=\"none\" stroke=\"black\" d=\"M157.5,-297.8C157.5,-288.7 157.5,-276.79 157.5,-266.9\"/>\n",
       "<polygon fill=\"black\" stroke=\"black\" points=\"161,-266.84 157.5,-256.84 154,-266.84 161,-266.84\"/>\n",
       "</g>\n",
       "</g>\n",
       "</svg>\n"
      ],
      "text/plain": [
       "<graphviz.graphs.Digraph at 0x7ee8e5b83490>"
      ]
     },
     "metadata": {},
     "output_type": "display_data"
    }
   ],
   "source": [
    "# 손실을 그래프로 나타내기\n",
    "from torchviz import make_dot\n",
    "\n",
    "g = make_dot(loss, params=dict(net.named_parameters()))\n",
    "display(g)"
   ]
  },
  {
   "cell_type": "code",
   "execution_count": 36,
   "metadata": {
    "colab": {
     "base_uri": "https://localhost:8080/"
    },
    "executionInfo": {
     "elapsed": 28,
     "status": "ok",
     "timestamp": 1739156201356,
     "user": {
      "displayName": "김려은",
      "userId": "11330255083274715375"
     },
     "user_tz": -540
    },
    "id": "PeJV9pSuxo7E",
    "outputId": "eda3bee6-242b-49ef-bce5-ee06a698ba01"
   },
   "outputs": [
    {
     "name": "stdout",
     "output_type": "stream",
     "text": [
      "net.l1.weight.grad =  tensor([[-260.6448]])\n",
      "net.l1.bias.grad =  tensor([-40.1214])\n",
      "==================================================\n",
      "Parameter containing:\n",
      "tensor([[3.0861]], requires_grad=True)\n",
      "Parameter containing:\n",
      "tensor([-0.1413], requires_grad=True)\n",
      "==================================================\n",
      "None\n",
      "None\n"
     ]
    }
   ],
   "source": [
    "# 예측 계산\n",
    "outputs = net(inputs)\n",
    "\n",
    "# 손실 계산\n",
    "loss = criterion(outputs, labels1)\n",
    "\n",
    "# 경사 계산\n",
    "loss.backward()\n",
    "\n",
    "# 경사 계산 결과를 취득 가능하도록 함\n",
    "print(\"net.l1.weight.grad = \", net.l1.weight.grad)\n",
    "print(\"net.l1.bias.grad = \", net.l1.bias.grad)\n",
    "\n",
    "# 파라미터 수정\n",
    "optimizer.step()\n",
    "\n",
    "# 파라미터 확인\n",
    "print(\"=\"*50)\n",
    "print(net.l1.weight)\n",
    "print(net.l1.bias)\n",
    "\n",
    "# 경삿값 초기화\n",
    "optimizer.zero_grad()\n",
    "\n",
    "# 경삿값을 모두 0으로 함\n",
    "print(\"=\"*50)\n",
    "print(net.l1.weight.grad)\n",
    "print(net.l1.bias.grad)"
   ]
  },
  {
   "cell_type": "markdown",
   "metadata": {
    "id": "nTY1T99lxo7E"
   },
   "source": [
    "### 경사 하강법을 이용한 학습"
   ]
  },
  {
   "cell_type": "code",
   "execution_count": 37,
   "metadata": {
    "executionInfo": {
     "elapsed": 43,
     "status": "ok",
     "timestamp": 1739156201401,
     "user": {
      "displayName": "김려은",
      "userId": "11330255083274715375"
     },
     "user_tz": -540
    },
    "id": "c076YY-0xo7E"
   },
   "outputs": [],
   "source": [
    "# 학습률\n",
    "lr = 0.01\n",
    "\n",
    "# 인스턴스 생성(파라미터 값 초기화)\n",
    "net = Net(n_input, n_output)\n",
    "\n",
    "# 손실 함수：평균 제곱 오차\n",
    "criterion = nn.MSELoss()\n",
    "\n",
    "# 최적화 함수 : 경사 하강법\n",
    "optimizer = optim.SGD(net.parameters(), lr=lr)\n",
    "\n",
    "# 반복 횟수\n",
    "num_epochs = 50000\n",
    "\n",
    "# 평가 결과 기록(손실 값만 기록)\n",
    "history = np.zeros((0,2))"
   ]
  },
  {
   "cell_type": "code",
   "execution_count": 38,
   "metadata": {
    "colab": {
     "base_uri": "https://localhost:8080/"
    },
    "executionInfo": {
     "elapsed": 27778,
     "status": "ok",
     "timestamp": 1739156229176,
     "user": {
      "displayName": "김려은",
      "userId": "11330255083274715375"
     },
     "user_tz": -540
    },
    "id": "sL7-kG-1xo7E",
    "outputId": "5e80a4c6-bc9c-4f9b-ea94-76c1136f6a1d"
   },
   "outputs": [
    {
     "name": "stdout",
     "output_type": "stream",
     "text": [
      "Epoch 0 loss: 299.93127\n",
      "Epoch 100 loss: 28.92968\n",
      "Epoch 200 loss: 28.76028\n",
      "Epoch 300 loss: 28.59489\n",
      "Epoch 400 loss: 28.43344\n",
      "Epoch 500 loss: 28.27583\n",
      "Epoch 600 loss: 28.12196\n",
      "Epoch 700 loss: 27.97174\n",
      "Epoch 800 loss: 27.82510\n",
      "Epoch 900 loss: 27.68194\n",
      "Epoch 1000 loss: 27.54218\n",
      "Epoch 1100 loss: 27.40574\n",
      "Epoch 1200 loss: 27.27254\n",
      "Epoch 1300 loss: 27.14251\n",
      "Epoch 1400 loss: 27.01557\n",
      "Epoch 1500 loss: 26.89165\n",
      "Epoch 1600 loss: 26.77067\n",
      "Epoch 1700 loss: 26.65256\n",
      "Epoch 1800 loss: 26.53726\n",
      "Epoch 1900 loss: 26.42470\n",
      "Epoch 2000 loss: 26.31482\n",
      "Epoch 2100 loss: 26.20755\n",
      "Epoch 2200 loss: 26.10282\n",
      "Epoch 2300 loss: 26.00059\n",
      "Epoch 2400 loss: 25.90078\n",
      "Epoch 2500 loss: 25.80334\n",
      "Epoch 2600 loss: 25.70822\n",
      "Epoch 2700 loss: 25.61536\n",
      "Epoch 2800 loss: 25.52471\n",
      "Epoch 2900 loss: 25.43621\n",
      "Epoch 3000 loss: 25.34982\n",
      "Epoch 3100 loss: 25.26547\n",
      "Epoch 3200 loss: 25.18313\n",
      "Epoch 3300 loss: 25.10275\n",
      "Epoch 3400 loss: 25.02428\n",
      "Epoch 3500 loss: 24.94767\n",
      "Epoch 3600 loss: 24.87288\n",
      "Epoch 3700 loss: 24.79987\n",
      "Epoch 3800 loss: 24.72860\n",
      "Epoch 3900 loss: 24.65902\n",
      "Epoch 4000 loss: 24.59109\n",
      "Epoch 4100 loss: 24.52477\n",
      "Epoch 4200 loss: 24.46003\n",
      "Epoch 4300 loss: 24.39683\n",
      "Epoch 4400 loss: 24.33513\n",
      "Epoch 4500 loss: 24.27490\n",
      "Epoch 4600 loss: 24.21610\n",
      "Epoch 4700 loss: 24.15870\n",
      "Epoch 4800 loss: 24.10266\n",
      "Epoch 4900 loss: 24.04795\n",
      "Epoch 5000 loss: 23.99454\n",
      "Epoch 5100 loss: 23.94240\n",
      "Epoch 5200 loss: 23.89150\n",
      "Epoch 5300 loss: 23.84181\n",
      "Epoch 5400 loss: 23.79330\n",
      "Epoch 5500 loss: 23.74594\n",
      "Epoch 5600 loss: 23.69971\n",
      "Epoch 5700 loss: 23.65458\n",
      "Epoch 5800 loss: 23.61051\n",
      "Epoch 5900 loss: 23.56750\n",
      "Epoch 6000 loss: 23.52551\n",
      "Epoch 6100 loss: 23.48451\n",
      "Epoch 6200 loss: 23.44449\n",
      "Epoch 6300 loss: 23.40542\n",
      "Epoch 6400 loss: 23.36728\n",
      "Epoch 6500 loss: 23.33005\n",
      "Epoch 6600 loss: 23.29370\n",
      "Epoch 6700 loss: 23.25821\n",
      "Epoch 6800 loss: 23.22357\n",
      "Epoch 6900 loss: 23.18975\n",
      "Epoch 7000 loss: 23.15673\n",
      "Epoch 7100 loss: 23.12450\n",
      "Epoch 7200 loss: 23.09304\n",
      "Epoch 7300 loss: 23.06232\n",
      "Epoch 7400 loss: 23.03233\n",
      "Epoch 7500 loss: 23.00305\n",
      "Epoch 7600 loss: 22.97447\n",
      "Epoch 7700 loss: 22.94658\n",
      "Epoch 7800 loss: 22.91933\n",
      "Epoch 7900 loss: 22.89275\n",
      "Epoch 8000 loss: 22.86679\n",
      "Epoch 8100 loss: 22.84145\n",
      "Epoch 8200 loss: 22.81671\n",
      "Epoch 8300 loss: 22.79255\n",
      "Epoch 8400 loss: 22.76898\n",
      "Epoch 8500 loss: 22.74596\n",
      "Epoch 8600 loss: 22.72349\n",
      "Epoch 8700 loss: 22.70155\n",
      "Epoch 8800 loss: 22.68013\n",
      "Epoch 8900 loss: 22.65923\n",
      "Epoch 9000 loss: 22.63881\n",
      "Epoch 9100 loss: 22.61889\n",
      "Epoch 9200 loss: 22.59944\n",
      "Epoch 9300 loss: 22.58045\n",
      "Epoch 9400 loss: 22.56191\n",
      "Epoch 9500 loss: 22.54381\n",
      "Epoch 9600 loss: 22.52615\n",
      "Epoch 9700 loss: 22.50890\n",
      "Epoch 9800 loss: 22.49206\n",
      "Epoch 9900 loss: 22.47563\n",
      "Epoch 10000 loss: 22.45958\n",
      "Epoch 10100 loss: 22.44391\n",
      "Epoch 10200 loss: 22.42862\n",
      "Epoch 10300 loss: 22.41369\n",
      "Epoch 10400 loss: 22.39911\n",
      "Epoch 10500 loss: 22.38488\n",
      "Epoch 10600 loss: 22.37099\n",
      "Epoch 10700 loss: 22.35743\n",
      "Epoch 10800 loss: 22.34419\n",
      "Epoch 10900 loss: 22.33126\n",
      "Epoch 11000 loss: 22.31865\n",
      "Epoch 11100 loss: 22.30633\n",
      "Epoch 11200 loss: 22.29431\n",
      "Epoch 11300 loss: 22.28257\n",
      "Epoch 11400 loss: 22.27111\n",
      "Epoch 11500 loss: 22.25992\n",
      "Epoch 11600 loss: 22.24900\n",
      "Epoch 11700 loss: 22.23834\n",
      "Epoch 11800 loss: 22.22793\n",
      "Epoch 11900 loss: 22.21777\n",
      "Epoch 12000 loss: 22.20785\n",
      "Epoch 12100 loss: 22.19816\n",
      "Epoch 12200 loss: 22.18871\n",
      "Epoch 12300 loss: 22.17948\n",
      "Epoch 12400 loss: 22.17047\n",
      "Epoch 12500 loss: 22.16167\n",
      "Epoch 12600 loss: 22.15308\n",
      "Epoch 12700 loss: 22.14470\n",
      "Epoch 12800 loss: 22.13652\n",
      "Epoch 12900 loss: 22.12853\n",
      "Epoch 13000 loss: 22.12073\n",
      "Epoch 13100 loss: 22.11312\n",
      "Epoch 13200 loss: 22.10568\n",
      "Epoch 13300 loss: 22.09842\n",
      "Epoch 13400 loss: 22.09134\n",
      "Epoch 13500 loss: 22.08442\n",
      "Epoch 13600 loss: 22.07767\n",
      "Epoch 13700 loss: 22.07108\n",
      "Epoch 13800 loss: 22.06465\n",
      "Epoch 13900 loss: 22.05836\n",
      "Epoch 14000 loss: 22.05223\n",
      "Epoch 14100 loss: 22.04624\n",
      "Epoch 14200 loss: 22.04040\n",
      "Epoch 14300 loss: 22.03469\n",
      "Epoch 14400 loss: 22.02912\n",
      "Epoch 14500 loss: 22.02369\n",
      "Epoch 14600 loss: 22.01838\n",
      "Epoch 14700 loss: 22.01319\n",
      "Epoch 14800 loss: 22.00814\n",
      "Epoch 14900 loss: 22.00320\n",
      "Epoch 15000 loss: 21.99837\n",
      "Epoch 15100 loss: 21.99367\n",
      "Epoch 15200 loss: 21.98907\n",
      "Epoch 15300 loss: 21.98459\n",
      "Epoch 15400 loss: 21.98021\n",
      "Epoch 15500 loss: 21.97593\n",
      "Epoch 15600 loss: 21.97176\n",
      "Epoch 15700 loss: 21.96769\n",
      "Epoch 15800 loss: 21.96371\n",
      "Epoch 15900 loss: 21.95982\n",
      "Epoch 16000 loss: 21.95603\n",
      "Epoch 16100 loss: 21.95233\n",
      "Epoch 16200 loss: 21.94872\n",
      "Epoch 16300 loss: 21.94519\n",
      "Epoch 16400 loss: 21.94175\n",
      "Epoch 16500 loss: 21.93839\n",
      "Epoch 16600 loss: 21.93510\n",
      "Epoch 16700 loss: 21.93190\n",
      "Epoch 16800 loss: 21.92877\n",
      "Epoch 16900 loss: 21.92572\n",
      "Epoch 17000 loss: 21.92274\n",
      "Epoch 17100 loss: 21.91983\n",
      "Epoch 17200 loss: 21.91699\n",
      "Epoch 17300 loss: 21.91422\n",
      "Epoch 17400 loss: 21.91151\n",
      "Epoch 17500 loss: 21.90886\n",
      "Epoch 17600 loss: 21.90629\n",
      "Epoch 17700 loss: 21.90377\n",
      "Epoch 17800 loss: 21.90131\n",
      "Epoch 17900 loss: 21.89891\n",
      "Epoch 18000 loss: 21.89656\n",
      "Epoch 18100 loss: 21.89428\n",
      "Epoch 18200 loss: 21.89205\n",
      "Epoch 18300 loss: 21.88986\n",
      "Epoch 18400 loss: 21.88773\n",
      "Epoch 18500 loss: 21.88565\n",
      "Epoch 18600 loss: 21.88363\n",
      "Epoch 18700 loss: 21.88165\n",
      "Epoch 18800 loss: 21.87971\n",
      "Epoch 18900 loss: 21.87782\n",
      "Epoch 19000 loss: 21.87598\n",
      "Epoch 19100 loss: 21.87419\n",
      "Epoch 19200 loss: 21.87243\n",
      "Epoch 19300 loss: 21.87071\n",
      "Epoch 19400 loss: 21.86904\n",
      "Epoch 19500 loss: 21.86740\n",
      "Epoch 19600 loss: 21.86581\n",
      "Epoch 19700 loss: 21.86425\n",
      "Epoch 19800 loss: 21.86274\n",
      "Epoch 19900 loss: 21.86125\n",
      "Epoch 20000 loss: 21.85980\n",
      "Epoch 20100 loss: 21.85839\n",
      "Epoch 20200 loss: 21.85701\n",
      "Epoch 20300 loss: 21.85566\n",
      "Epoch 20400 loss: 21.85434\n",
      "Epoch 20500 loss: 21.85306\n",
      "Epoch 20600 loss: 21.85180\n",
      "Epoch 20700 loss: 21.85058\n",
      "Epoch 20800 loss: 21.84939\n",
      "Epoch 20900 loss: 21.84822\n",
      "Epoch 21000 loss: 21.84708\n",
      "Epoch 21100 loss: 21.84597\n",
      "Epoch 21200 loss: 21.84488\n",
      "Epoch 21300 loss: 21.84382\n",
      "Epoch 21400 loss: 21.84278\n",
      "Epoch 21500 loss: 21.84177\n",
      "Epoch 21600 loss: 21.84079\n",
      "Epoch 21700 loss: 21.83983\n",
      "Epoch 21800 loss: 21.83889\n",
      "Epoch 21900 loss: 21.83797\n",
      "Epoch 22000 loss: 21.83707\n",
      "Epoch 22100 loss: 21.83620\n",
      "Epoch 22200 loss: 21.83535\n",
      "Epoch 22300 loss: 21.83451\n",
      "Epoch 22400 loss: 21.83370\n",
      "Epoch 22500 loss: 21.83291\n",
      "Epoch 22600 loss: 21.83213\n",
      "Epoch 22700 loss: 21.83138\n",
      "Epoch 22800 loss: 21.83063\n",
      "Epoch 22900 loss: 21.82991\n",
      "Epoch 23000 loss: 21.82921\n",
      "Epoch 23100 loss: 21.82852\n",
      "Epoch 23200 loss: 21.82785\n",
      "Epoch 23300 loss: 21.82720\n",
      "Epoch 23400 loss: 21.82655\n",
      "Epoch 23500 loss: 21.82593\n",
      "Epoch 23600 loss: 21.82532\n",
      "Epoch 23700 loss: 21.82473\n",
      "Epoch 23800 loss: 21.82415\n",
      "Epoch 23900 loss: 21.82358\n",
      "Epoch 24000 loss: 21.82302\n",
      "Epoch 24100 loss: 21.82249\n",
      "Epoch 24200 loss: 21.82196\n",
      "Epoch 24300 loss: 21.82144\n",
      "Epoch 24400 loss: 21.82094\n",
      "Epoch 24500 loss: 21.82045\n",
      "Epoch 24600 loss: 21.81997\n",
      "Epoch 24700 loss: 21.81950\n",
      "Epoch 24800 loss: 21.81904\n",
      "Epoch 24900 loss: 21.81860\n",
      "Epoch 25000 loss: 21.81817\n",
      "Epoch 25100 loss: 21.81774\n",
      "Epoch 25200 loss: 21.81732\n",
      "Epoch 25300 loss: 21.81692\n",
      "Epoch 25400 loss: 21.81652\n",
      "Epoch 25500 loss: 21.81614\n",
      "Epoch 25600 loss: 21.81576\n",
      "Epoch 25700 loss: 21.81540\n",
      "Epoch 25800 loss: 21.81503\n",
      "Epoch 25900 loss: 21.81468\n",
      "Epoch 26000 loss: 21.81434\n",
      "Epoch 26100 loss: 21.81401\n",
      "Epoch 26200 loss: 21.81368\n",
      "Epoch 26300 loss: 21.81336\n",
      "Epoch 26400 loss: 21.81305\n",
      "Epoch 26500 loss: 21.81275\n",
      "Epoch 26600 loss: 21.81245\n",
      "Epoch 26700 loss: 21.81216\n",
      "Epoch 26800 loss: 21.81188\n",
      "Epoch 26900 loss: 21.81161\n",
      "Epoch 27000 loss: 21.81133\n",
      "Epoch 27100 loss: 21.81107\n",
      "Epoch 27200 loss: 21.81082\n",
      "Epoch 27300 loss: 21.81056\n",
      "Epoch 27400 loss: 21.81032\n",
      "Epoch 27500 loss: 21.81008\n",
      "Epoch 27600 loss: 21.80985\n",
      "Epoch 27700 loss: 21.80962\n",
      "Epoch 27800 loss: 21.80940\n",
      "Epoch 27900 loss: 21.80918\n",
      "Epoch 28000 loss: 21.80897\n",
      "Epoch 28100 loss: 21.80877\n",
      "Epoch 28200 loss: 21.80856\n",
      "Epoch 28300 loss: 21.80837\n",
      "Epoch 28400 loss: 21.80817\n",
      "Epoch 28500 loss: 21.80799\n",
      "Epoch 28600 loss: 21.80781\n",
      "Epoch 28700 loss: 21.80762\n",
      "Epoch 28800 loss: 21.80745\n",
      "Epoch 28900 loss: 21.80728\n",
      "Epoch 29000 loss: 21.80712\n",
      "Epoch 29100 loss: 21.80695\n",
      "Epoch 29200 loss: 21.80679\n",
      "Epoch 29300 loss: 21.80664\n",
      "Epoch 29400 loss: 21.80649\n",
      "Epoch 29500 loss: 21.80634\n",
      "Epoch 29600 loss: 21.80619\n",
      "Epoch 29700 loss: 21.80605\n",
      "Epoch 29800 loss: 21.80592\n",
      "Epoch 29900 loss: 21.80578\n",
      "Epoch 30000 loss: 21.80565\n",
      "Epoch 30100 loss: 21.80552\n",
      "Epoch 30200 loss: 21.80540\n",
      "Epoch 30300 loss: 21.80528\n",
      "Epoch 30400 loss: 21.80516\n",
      "Epoch 30500 loss: 21.80504\n",
      "Epoch 30600 loss: 21.80493\n",
      "Epoch 30700 loss: 21.80482\n",
      "Epoch 30800 loss: 21.80471\n",
      "Epoch 30900 loss: 21.80461\n",
      "Epoch 31000 loss: 21.80450\n",
      "Epoch 31100 loss: 21.80440\n",
      "Epoch 31200 loss: 21.80431\n",
      "Epoch 31300 loss: 21.80421\n",
      "Epoch 31400 loss: 21.80411\n",
      "Epoch 31500 loss: 21.80403\n",
      "Epoch 31600 loss: 21.80394\n",
      "Epoch 31700 loss: 21.80385\n",
      "Epoch 31800 loss: 21.80376\n",
      "Epoch 31900 loss: 21.80368\n",
      "Epoch 32000 loss: 21.80360\n",
      "Epoch 32100 loss: 21.80352\n",
      "Epoch 32200 loss: 21.80344\n",
      "Epoch 32300 loss: 21.80337\n",
      "Epoch 32400 loss: 21.80330\n",
      "Epoch 32500 loss: 21.80322\n",
      "Epoch 32600 loss: 21.80315\n",
      "Epoch 32700 loss: 21.80309\n",
      "Epoch 32800 loss: 21.80302\n",
      "Epoch 32900 loss: 21.80295\n",
      "Epoch 33000 loss: 21.80289\n",
      "Epoch 33100 loss: 21.80283\n",
      "Epoch 33200 loss: 21.80277\n",
      "Epoch 33300 loss: 21.80271\n",
      "Epoch 33400 loss: 21.80265\n",
      "Epoch 33500 loss: 21.80259\n",
      "Epoch 33600 loss: 21.80254\n",
      "Epoch 33700 loss: 21.80249\n",
      "Epoch 33800 loss: 21.80243\n",
      "Epoch 33900 loss: 21.80238\n",
      "Epoch 34000 loss: 21.80233\n",
      "Epoch 34100 loss: 21.80228\n",
      "Epoch 34200 loss: 21.80224\n",
      "Epoch 34300 loss: 21.80219\n",
      "Epoch 34400 loss: 21.80214\n",
      "Epoch 34500 loss: 21.80210\n",
      "Epoch 34600 loss: 21.80206\n",
      "Epoch 34700 loss: 21.80202\n",
      "Epoch 34800 loss: 21.80197\n",
      "Epoch 34900 loss: 21.80193\n",
      "Epoch 35000 loss: 21.80189\n",
      "Epoch 35100 loss: 21.80186\n",
      "Epoch 35200 loss: 21.80181\n",
      "Epoch 35300 loss: 21.80178\n",
      "Epoch 35400 loss: 21.80174\n",
      "Epoch 35500 loss: 21.80171\n",
      "Epoch 35600 loss: 21.80168\n",
      "Epoch 35700 loss: 21.80164\n",
      "Epoch 35800 loss: 21.80161\n",
      "Epoch 35900 loss: 21.80158\n",
      "Epoch 36000 loss: 21.80155\n",
      "Epoch 36100 loss: 21.80152\n",
      "Epoch 36200 loss: 21.80149\n",
      "Epoch 36300 loss: 21.80146\n",
      "Epoch 36400 loss: 21.80143\n",
      "Epoch 36500 loss: 21.80140\n",
      "Epoch 36600 loss: 21.80138\n",
      "Epoch 36700 loss: 21.80135\n",
      "Epoch 36800 loss: 21.80132\n",
      "Epoch 36900 loss: 21.80130\n",
      "Epoch 37000 loss: 21.80128\n",
      "Epoch 37100 loss: 21.80125\n",
      "Epoch 37200 loss: 21.80123\n",
      "Epoch 37300 loss: 21.80120\n",
      "Epoch 37400 loss: 21.80119\n",
      "Epoch 37500 loss: 21.80116\n",
      "Epoch 37600 loss: 21.80114\n",
      "Epoch 37700 loss: 21.80112\n",
      "Epoch 37800 loss: 21.80110\n",
      "Epoch 37900 loss: 21.80108\n",
      "Epoch 38000 loss: 21.80106\n",
      "Epoch 38100 loss: 21.80105\n",
      "Epoch 38200 loss: 21.80102\n",
      "Epoch 38300 loss: 21.80101\n",
      "Epoch 38400 loss: 21.80099\n",
      "Epoch 38500 loss: 21.80097\n",
      "Epoch 38600 loss: 21.80095\n",
      "Epoch 38700 loss: 21.80094\n",
      "Epoch 38800 loss: 21.80092\n",
      "Epoch 38900 loss: 21.80091\n",
      "Epoch 39000 loss: 21.80090\n",
      "Epoch 39100 loss: 21.80088\n",
      "Epoch 39200 loss: 21.80087\n",
      "Epoch 39300 loss: 21.80085\n",
      "Epoch 39400 loss: 21.80083\n",
      "Epoch 39500 loss: 21.80083\n",
      "Epoch 39600 loss: 21.80081\n",
      "Epoch 39700 loss: 21.80080\n",
      "Epoch 39800 loss: 21.80079\n",
      "Epoch 39900 loss: 21.80078\n",
      "Epoch 40000 loss: 21.80076\n",
      "Epoch 40100 loss: 21.80075\n",
      "Epoch 40200 loss: 21.80074\n",
      "Epoch 40300 loss: 21.80073\n",
      "Epoch 40400 loss: 21.80072\n",
      "Epoch 40500 loss: 21.80071\n",
      "Epoch 40600 loss: 21.80070\n",
      "Epoch 40700 loss: 21.80069\n",
      "Epoch 40800 loss: 21.80068\n",
      "Epoch 40900 loss: 21.80067\n",
      "Epoch 41000 loss: 21.80066\n",
      "Epoch 41100 loss: 21.80065\n",
      "Epoch 41200 loss: 21.80064\n",
      "Epoch 41300 loss: 21.80063\n",
      "Epoch 41400 loss: 21.80062\n",
      "Epoch 41500 loss: 21.80062\n",
      "Epoch 41600 loss: 21.80061\n",
      "Epoch 41700 loss: 21.80060\n",
      "Epoch 41800 loss: 21.80059\n",
      "Epoch 41900 loss: 21.80058\n",
      "Epoch 42000 loss: 21.80058\n",
      "Epoch 42100 loss: 21.80057\n",
      "Epoch 42200 loss: 21.80056\n",
      "Epoch 42300 loss: 21.80056\n",
      "Epoch 42400 loss: 21.80055\n",
      "Epoch 42500 loss: 21.80054\n",
      "Epoch 42600 loss: 21.80054\n",
      "Epoch 42700 loss: 21.80053\n",
      "Epoch 42800 loss: 21.80052\n",
      "Epoch 42900 loss: 21.80052\n",
      "Epoch 43000 loss: 21.80051\n",
      "Epoch 43100 loss: 21.80051\n",
      "Epoch 43200 loss: 21.80050\n",
      "Epoch 43300 loss: 21.80050\n",
      "Epoch 43400 loss: 21.80049\n",
      "Epoch 43500 loss: 21.80049\n",
      "Epoch 43600 loss: 21.80048\n",
      "Epoch 43700 loss: 21.80047\n",
      "Epoch 43800 loss: 21.80047\n",
      "Epoch 43900 loss: 21.80047\n",
      "Epoch 44000 loss: 21.80046\n",
      "Epoch 44100 loss: 21.80046\n",
      "Epoch 44200 loss: 21.80045\n",
      "Epoch 44300 loss: 21.80045\n",
      "Epoch 44400 loss: 21.80045\n",
      "Epoch 44500 loss: 21.80044\n",
      "Epoch 44600 loss: 21.80044\n",
      "Epoch 44700 loss: 21.80043\n",
      "Epoch 44800 loss: 21.80043\n",
      "Epoch 44900 loss: 21.80043\n",
      "Epoch 45000 loss: 21.80042\n",
      "Epoch 45100 loss: 21.80042\n",
      "Epoch 45200 loss: 21.80042\n",
      "Epoch 45300 loss: 21.80041\n",
      "Epoch 45400 loss: 21.80041\n",
      "Epoch 45500 loss: 21.80041\n",
      "Epoch 45600 loss: 21.80040\n",
      "Epoch 45700 loss: 21.80040\n",
      "Epoch 45800 loss: 21.80040\n",
      "Epoch 45900 loss: 21.80040\n",
      "Epoch 46000 loss: 21.80039\n",
      "Epoch 46100 loss: 21.80039\n",
      "Epoch 46200 loss: 21.80039\n",
      "Epoch 46300 loss: 21.80038\n",
      "Epoch 46400 loss: 21.80038\n",
      "Epoch 46500 loss: 21.80038\n",
      "Epoch 46600 loss: 21.80038\n",
      "Epoch 46700 loss: 21.80037\n",
      "Epoch 46800 loss: 21.80037\n",
      "Epoch 46900 loss: 21.80037\n",
      "Epoch 47000 loss: 21.80037\n",
      "Epoch 47100 loss: 21.80036\n",
      "Epoch 47200 loss: 21.80036\n",
      "Epoch 47300 loss: 21.80036\n",
      "Epoch 47400 loss: 21.80036\n",
      "Epoch 47500 loss: 21.80035\n",
      "Epoch 47600 loss: 21.80035\n",
      "Epoch 47700 loss: 21.80035\n",
      "Epoch 47800 loss: 21.80035\n",
      "Epoch 47900 loss: 21.80035\n",
      "Epoch 48000 loss: 21.80035\n",
      "Epoch 48100 loss: 21.80035\n",
      "Epoch 48200 loss: 21.80034\n",
      "Epoch 48300 loss: 21.80034\n",
      "Epoch 48400 loss: 21.80034\n",
      "Epoch 48500 loss: 21.80034\n",
      "Epoch 48600 loss: 21.80034\n",
      "Epoch 48700 loss: 21.80034\n",
      "Epoch 48800 loss: 21.80034\n",
      "Epoch 48900 loss: 21.80033\n",
      "Epoch 49000 loss: 21.80033\n",
      "Epoch 49100 loss: 21.80033\n",
      "Epoch 49200 loss: 21.80033\n",
      "Epoch 49300 loss: 21.80033\n",
      "Epoch 49400 loss: 21.80033\n",
      "Epoch 49500 loss: 21.80033\n",
      "Epoch 49600 loss: 21.80033\n",
      "Epoch 49700 loss: 21.80032\n",
      "Epoch 49800 loss: 21.80032\n",
      "Epoch 49900 loss: 21.80032\n"
     ]
    }
   ],
   "source": [
    "# 반복 계산 메인 루프\n",
    "\n",
    "for epoch in range(num_epochs):\n",
    "\n",
    "    # 경삿값 초기화\n",
    "    optimizer.zero_grad()\n",
    "\n",
    "    # 예측 계산\n",
    "    outputs = net(inputs)\n",
    "\n",
    "    # 손실 계산\n",
    "    # \"딥러닝을 위한 수학\"에 나온 결과와 맞추기 위해 2로 나눈 값을 손실로 정의\n",
    "    loss = criterion(outputs, labels1) / 2.0\n",
    "\n",
    "    # 경사 계산\n",
    "    loss.backward()\n",
    "\n",
    "    # 파라미터 수정\n",
    "    optimizer.step()\n",
    "\n",
    "    # 100회 마다 도중 경과를 기록\n",
    "    if ( epoch % 100 == 0):\n",
    "        history = np.vstack((history, np.array([epoch, loss.item()])))\n",
    "        print(f'Epoch {epoch} loss: {loss.item():.5f}')"
   ]
  },
  {
   "cell_type": "code",
   "execution_count": 39,
   "metadata": {
    "colab": {
     "base_uri": "https://localhost:8080/"
    },
    "executionInfo": {
     "elapsed": 19,
     "status": "ok",
     "timestamp": 1739156229195,
     "user": {
      "displayName": "김려은",
      "userId": "11330255083274715375"
     },
     "user_tz": -540
    },
    "id": "t7PB69kIxo7E",
    "outputId": "0f28d9d3-311a-4592-a62b-892d5a2b9d6b"
   },
   "outputs": [
    {
     "name": "stdout",
     "output_type": "stream",
     "text": [
      "초기 손실값: 299.93127\n",
      "최종 손실값: 21.80032\n"
     ]
    }
   ],
   "source": [
    "# 초기 손실값과 최종 손실값\n",
    "\n",
    "print(f'초기 손실값: {history[0,1]:.5f}')\n",
    "print(f'최종 손실값: {history[-1,1]:.5f}')"
   ]
  },
  {
   "cell_type": "code",
   "execution_count": 40,
   "metadata": {
    "colab": {
     "base_uri": "https://localhost:8080/",
     "height": 578
    },
    "executionInfo": {
     "elapsed": 311,
     "status": "ok",
     "timestamp": 1739156229515,
     "user": {
      "displayName": "김려은",
      "userId": "11330255083274715375"
     },
     "user_tz": -540
    },
    "id": "kR8AILfDxo7E",
    "outputId": "48e1b19a-fbd5-4130-d1cf-a384cbeacfff"
   },
   "outputs": [
    {
     "data": {
      "image/png": "[encoded data removed]",
      "text/plain": [
       "<Figure size 600x600 with 1 Axes>"
      ]
     },
     "metadata": {},
     "output_type": "display_data"
    }
   ],
   "source": [
    "# 학습 곡선 출력(손실)\n",
    "# 가장 처음 요소는 제외\n",
    "\n",
    "plt.plot(history[1:,0], history[1:,1], 'b')\n",
    "plt.xlabel('반복 횟수')\n",
    "plt.ylabel('손실')\n",
    "plt.title('학습 곡선(손실)')\n",
    "plt.show()"
   ]
  },
  {
   "cell_type": "code",
   "execution_count": 41,
   "metadata": {
    "colab": {
     "base_uri": "https://localhost:8080/",
     "height": 615
    },
    "executionInfo": {
     "elapsed": 172,
     "status": "ok",
     "timestamp": 1739156229688,
     "user": {
      "displayName": "김려은",
      "userId": "11330255083274715375"
     },
     "user_tz": -540
    },
    "id": "AMj1P6uxxo7E",
    "outputId": "6f883f8e-ae81-4fb2-f375-289cc1176e99"
   },
   "outputs": [
    {
     "name": "stdout",
     "output_type": "stream",
     "text": [
      "[[-2.2208]\n",
      " [45.2137]]\n"
     ]
    },
    {
     "data": {
      "image/png": "[encoded data removed]",
      "text/plain": [
       "<Figure size 600x600 with 1 Axes>"
      ]
     },
     "metadata": {},
     "output_type": "display_data"
    }
   ],
   "source": [
    "# 회귀 직선 산출\n",
    "\n",
    "# x의 최솟값, 최댓값\n",
    "xse = np.array((x.min(), x.max())).reshape(-1,1)\n",
    "Xse = torch.tensor(xse).float()\n",
    "\n",
    "with torch.no_grad():\n",
    "  Yse = net(Xse)\n",
    "\n",
    "print(Yse.numpy())\n",
    "\n",
    "# 산포도와 회귀 직선 출력\n",
    "\n",
    "plt.scatter(x, yt, s=10, c='b')\n",
    "plt.xlabel('방 개수')\n",
    "plt.ylabel('가격')\n",
    "plt.plot(Xse.data, Yse.data, c='k')\n",
    "plt.title('산포도와 회귀 직선')\n",
    "plt.show()"
   ]
  },
  {
   "cell_type": "markdown",
   "metadata": {
    "id": "J4y67POzxo7E"
   },
   "source": [
    "### 중회귀 모델(Multiple linear regression)"
   ]
  },
  {
   "cell_type": "code",
   "execution_count": 53,
   "metadata": {
    "colab": {
     "base_uri": "https://localhost:8080/"
    },
    "executionInfo": {
     "elapsed": 8,
     "status": "ok",
     "timestamp": 1739156229695,
     "user": {
      "displayName": "김려은",
      "userId": "11330255083274715375"
     },
     "user_tz": -540
    },
    "id": "PZ--qxq5xo7F",
    "outputId": "80b2c603-a215-4447-e79b-ecfdc9236c36"
   },
   "outputs": [
    {
     "name": "stdout",
     "output_type": "stream",
     "text": [
      "(506, 2)\n",
      "[[6.575 4.98 ]\n",
      " [6.421 9.14 ]\n",
      " [7.185 4.03 ]\n",
      " [6.998 2.94 ]\n",
      " [7.147 5.33 ]]\n"
     ]
    }
   ],
   "source": [
    "# 열(LSTAT: 저소득자 비율) 추가\n",
    "\n",
    "x_add = x_org[:,feature_names == 'LSTAT']\n",
    "x2 = np.hstack((x, x_add))\n",
    "\n",
    "# shape 표시\n",
    "print(x2.shape)\n",
    "\n",
    "# 입력 데이터 x 표시\n",
    "print(x2[:5,:])"
   ]
  },
  {
   "cell_type": "code",
   "execution_count": 54,
   "metadata": {
    "colab": {
     "base_uri": "https://localhost:8080/"
    },
    "executionInfo": {
     "elapsed": 15,
     "status": "ok",
     "timestamp": 1739156229723,
     "user": {
      "displayName": "김려은",
      "userId": "11330255083274715375"
     },
     "user_tz": -540
    },
    "id": "5t3JzMtKxo7F",
    "outputId": "7688fd1b-53fb-4245-e7a3-e7e1725fe5f4"
   },
   "outputs": [
    {
     "name": "stdout",
     "output_type": "stream",
     "text": [
      "2\n"
     ]
    }
   ],
   "source": [
    "# 입력 차원수=2\n",
    "\n",
    "n_input = x2.shape[1]\n",
    "print(n_input)\n",
    "\n",
    "# 모델 인스턴스 생성\n",
    "net = Net(n_input, n_output)"
   ]
  },
  {
   "cell_type": "code",
   "execution_count": 57,
   "metadata": {
    "colab": {
     "base_uri": "https://localhost:8080/"
    },
    "executionInfo": {
     "elapsed": 8,
     "status": "ok",
     "timestamp": 1739156229732,
     "user": {
      "displayName": "김려은",
      "userId": "11330255083274715375"
     },
     "user_tz": -540
    },
    "id": "cj9tHFxPxo7F",
    "outputId": "234daf67-0dbf-4a50-a33a-89392676cdba"
   },
   "outputs": [
    {
     "name": "stdout",
     "output_type": "stream",
     "text": [
      "Parameter containing:\n",
      "tensor([[-0.2328, -0.5368]], requires_grad=True)\n",
      "Parameter containing:\n",
      "tensor([-0.6845], requires_grad=True)\n"
     ]
    }
   ],
   "source": [
    "# 모델 안의 파라미터 확인\n",
    "# predict.weight가 2차원으로 바뀜\n",
    "\n",
    "for parameter in net.parameters():\n",
    "    print(parameter)"
   ]
  },
  {
   "cell_type": "code",
   "execution_count": 62,
   "metadata": {
    "colab": {
     "base_uri": "https://localhost:8080/"
    },
    "executionInfo": {
     "elapsed": 28,
     "status": "ok",
     "timestamp": 1739156229761,
     "user": {
      "displayName": "김려은",
      "userId": "11330255083274715375"
     },
     "user_tz": -540
    },
    "id": "tI7rvhR3xo7F",
    "outputId": "b75f9863-eff9-4c37-9b3e-1fc455823c8d"
   },
   "outputs": [
    {
     "data": {
      "text/plain": [
       "==========================================================================================\n",
       "Layer (type:depth-idx)                   Output Shape              Param #\n",
       "==========================================================================================\n",
       "Net                                      [1]                       --\n",
       "├─Linear: 1-1                            [1]                       3\n",
       "==========================================================================================\n",
       "Total params: 3\n",
       "Trainable params: 3\n",
       "Non-trainable params: 0\n",
       "Total mult-adds (Units.MEGABYTES): 0.00\n",
       "==========================================================================================\n",
       "Input size (MB): 0.00\n",
       "Forward/backward pass size (MB): 0.00\n",
       "Params size (MB): 0.00\n",
       "Estimated Total Size (MB): 0.00\n",
       "=========================================================================================="
      ]
     },
     "execution_count": 62,
     "metadata": {},
     "output_type": "execute_result"
    }
   ],
   "source": [
    "# 모델의 개요 표시\n",
    "\n",
    "from torchinfo import summary\n",
    "summary(net, (2,))"
   ]
  },
  {
   "cell_type": "code",
   "execution_count": 63,
   "metadata": {
    "executionInfo": {
     "elapsed": 24,
     "status": "ok",
     "timestamp": 1739156229786,
     "user": {
      "displayName": "김려은",
      "userId": "11330255083274715375"
     },
     "user_tz": -540
    },
    "id": "Te9_btz8xo7F"
   },
   "outputs": [],
   "source": [
    "# 입력 변수 x2를 텐서로 변환\n",
    "# labels, labels1은 이전과 같음\n",
    "\n",
    "# inputs = torch.tensor(x2).float()\n",
    "inputs = torch.tensor(x2, dtype = torch.float32)\n",
    "\n",
    "# 초기화 처리\n",
    "\n",
    "# 학습률\n",
    "# lr = 0.01\n",
    "lr = 0.001\n",
    "\n",
    "\n",
    "# 인스턴스 생성(파라미터 값 초기화)\n",
    "net = Net(n_input, n_output)\n",
    "\n",
    "# 손실 함수：평균 제곱 오차\n",
    "criterion = nn.MSELoss()\n",
    "\n",
    "# 최적화 함수 : 경사 하강법\n",
    "optimizer = optim.SGD(net.parameters(), lr=lr)\n",
    "\n",
    "# 반복 횟수\n",
    "num_epochs = 10000\n",
    "\n",
    "# 평가 결과 기록(손실 값만 기록)\n",
    "history = np.zeros((0,2))\n"
   ]
  },
  {
   "cell_type": "code",
   "execution_count": 64,
   "metadata": {
    "colab": {
     "base_uri": "https://localhost:8080/"
    },
    "executionInfo": {
     "elapsed": 26468,
     "status": "ok",
     "timestamp": 1739156256256,
     "user": {
      "displayName": "김려은",
      "userId": "11330255083274715375"
     },
     "user_tz": -540
    },
    "id": "h-jrP3f1xo7F",
    "outputId": "36fc6faf-cb8b-4822-b897-2a63ef6557d2"
   },
   "outputs": [
    {
     "name": "stdout",
     "output_type": "stream",
     "text": [
      "Epoch 0 loss: 310.44690\n",
      "Epoch 100 loss: 33.21600\n",
      "Epoch 200 loss: 30.55763\n",
      "Epoch 300 loss: 30.52611\n",
      "Epoch 400 loss: 30.52571\n",
      "Epoch 500 loss: 30.52567\n",
      "Epoch 600 loss: 30.52564\n",
      "Epoch 700 loss: 30.52561\n",
      "Epoch 800 loss: 30.52558\n",
      "Epoch 900 loss: 30.52555\n",
      "Epoch 1000 loss: 30.52552\n",
      "Epoch 1100 loss: 30.52549\n",
      "Epoch 1200 loss: 30.52546\n",
      "Epoch 1300 loss: 30.52543\n",
      "Epoch 1400 loss: 30.52540\n",
      "Epoch 1500 loss: 30.52537\n",
      "Epoch 1600 loss: 30.52534\n",
      "Epoch 1700 loss: 30.52531\n",
      "Epoch 1800 loss: 30.52527\n",
      "Epoch 1900 loss: 30.52524\n",
      "Epoch 2000 loss: 30.52522\n",
      "Epoch 2100 loss: 30.52519\n",
      "Epoch 2200 loss: 30.52516\n",
      "Epoch 2300 loss: 30.52513\n",
      "Epoch 2400 loss: 30.52509\n",
      "Epoch 2500 loss: 30.52507\n",
      "Epoch 2600 loss: 30.52504\n",
      "Epoch 2700 loss: 30.52501\n",
      "Epoch 2800 loss: 30.52497\n",
      "Epoch 2900 loss: 30.52494\n",
      "Epoch 3000 loss: 30.52492\n",
      "Epoch 3100 loss: 30.52489\n",
      "Epoch 3200 loss: 30.52486\n",
      "Epoch 3300 loss: 30.52483\n",
      "Epoch 3400 loss: 30.52480\n",
      "Epoch 3500 loss: 30.52477\n",
      "Epoch 3600 loss: 30.52474\n",
      "Epoch 3700 loss: 30.52471\n",
      "Epoch 3800 loss: 30.52468\n",
      "Epoch 3900 loss: 30.52465\n",
      "Epoch 4000 loss: 30.52463\n",
      "Epoch 4100 loss: 30.52460\n",
      "Epoch 4200 loss: 30.52457\n",
      "Epoch 4300 loss: 30.52454\n",
      "Epoch 4400 loss: 30.52451\n",
      "Epoch 4500 loss: 30.52449\n",
      "Epoch 4600 loss: 30.52446\n",
      "Epoch 4700 loss: 30.52443\n",
      "Epoch 4800 loss: 30.52440\n",
      "Epoch 4900 loss: 30.52437\n",
      "Epoch 5000 loss: 30.52434\n",
      "Epoch 5100 loss: 30.52431\n",
      "Epoch 5200 loss: 30.52428\n",
      "Epoch 5300 loss: 30.52426\n",
      "Epoch 5400 loss: 30.52423\n",
      "Epoch 5500 loss: 30.52420\n",
      "Epoch 5600 loss: 30.52417\n",
      "Epoch 5700 loss: 30.52415\n",
      "Epoch 5800 loss: 30.52412\n",
      "Epoch 5900 loss: 30.52409\n",
      "Epoch 6000 loss: 30.52407\n",
      "Epoch 6100 loss: 30.52404\n",
      "Epoch 6200 loss: 30.52401\n",
      "Epoch 6300 loss: 30.52398\n",
      "Epoch 6400 loss: 30.52395\n",
      "Epoch 6500 loss: 30.52392\n",
      "Epoch 6600 loss: 30.52390\n",
      "Epoch 6700 loss: 30.52387\n",
      "Epoch 6800 loss: 30.52385\n",
      "Epoch 6900 loss: 30.52382\n",
      "Epoch 7000 loss: 30.52380\n",
      "Epoch 7100 loss: 30.52376\n",
      "Epoch 7200 loss: 30.52374\n",
      "Epoch 7300 loss: 30.52371\n",
      "Epoch 7400 loss: 30.52369\n",
      "Epoch 7500 loss: 30.52366\n",
      "Epoch 7600 loss: 30.52363\n",
      "Epoch 7700 loss: 30.52361\n",
      "Epoch 7800 loss: 30.52358\n",
      "Epoch 7900 loss: 30.52356\n",
      "Epoch 8000 loss: 30.52353\n",
      "Epoch 8100 loss: 30.52350\n",
      "Epoch 8200 loss: 30.52348\n",
      "Epoch 8300 loss: 30.52345\n",
      "Epoch 8400 loss: 30.52342\n",
      "Epoch 8500 loss: 30.52340\n",
      "Epoch 8600 loss: 30.52337\n",
      "Epoch 8700 loss: 30.52335\n",
      "Epoch 8800 loss: 30.52332\n",
      "Epoch 8900 loss: 30.52329\n",
      "Epoch 9000 loss: 30.52327\n",
      "Epoch 9100 loss: 30.52324\n",
      "Epoch 9200 loss: 30.52322\n",
      "Epoch 9300 loss: 30.52319\n",
      "Epoch 9400 loss: 30.52317\n",
      "Epoch 9500 loss: 30.52314\n",
      "Epoch 9600 loss: 30.52312\n",
      "Epoch 9700 loss: 30.52309\n",
      "Epoch 9800 loss: 30.52307\n",
      "Epoch 9900 loss: 30.52304\n"
     ]
    }
   ],
   "source": [
    "# 반복 계산 메인 루프\n",
    "\n",
    "for epoch in range(num_epochs):\n",
    "\n",
    "    # 경삿값 초기화\n",
    "    optimizer.zero_grad()\n",
    "\n",
    "    # 예측 계산\n",
    "    outputs = net(inputs)\n",
    "\n",
    "    # 오차 계산\n",
    "    loss = criterion(outputs, labels1) \n",
    "\n",
    "    # 경사 계산\n",
    "    loss.backward()\n",
    "\n",
    "    # 파라미터 수정\n",
    "    optimizer.step()\n",
    "\n",
    "    # 100회 마다 도중 경과를 기록\n",
    "    if ( epoch % 100 == 0):\n",
    "        history = np.vstack((history, np.array([epoch, loss.item()])))\n",
    "        print(f'Epoch {epoch} loss: {loss.item():.5f}')"
   ]
  },
  {
   "cell_type": "code",
   "execution_count": 65,
   "metadata": {
    "colab": {
     "base_uri": "https://localhost:8080/",
     "height": 578
    },
    "executionInfo": {
     "elapsed": 219,
     "status": "ok",
     "timestamp": 1739156256479,
     "user": {
      "displayName": "김려은",
      "userId": "11330255083274715375"
     },
     "user_tz": -540
    },
    "id": "xJ2y93o4xo7F",
    "outputId": "1033fe44-37b1-49e1-9148-48b07e010388"
   },
   "outputs": [
    {
     "data": {
      "image/png": "[encoded data removed]",
      "text/plain": [
       "<Figure size 600x600 with 1 Axes>"
      ]
     },
     "metadata": {},
     "output_type": "display_data"
    }
   ],
   "source": [
    "# 학습 곡선 출력(손실)\n",
    "\n",
    "plt.plot(history[:,0], history[:,1], 'b')\n",
    "plt.xlabel('반복 횟수')\n",
    "plt.ylabel('손실')\n",
    "plt.title('학습 곡선(손실)')\n",
    "plt.show()"
   ]
  }
 ],
 "metadata": {
  "colab": {
   "provenance": []
  },
  "kernelspec": {
   "display_name": "ROCKY_4_py3_12",
   "language": "python",
   "name": "python3"
  },
  "language_info": {
   "codemirror_mode": {
    "name": "ipython",
    "version": 3
   },
   "file_extension": ".py",
   "mimetype": "text/x-python",
   "name": "python",
   "nbconvert_exporter": "python",
   "pygments_lexer": "ipython3",
   "version": "3.12.9"
  }
 },
 "nbformat": 4,
 "nbformat_minor": 0
}
