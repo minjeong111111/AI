{
 "cells": [
  {
   "cell_type": "markdown",
   "metadata": {
    "id": "yoLOS2ohPSo-"
   },
   "source": [
    "# 1장 파이썬 입문\n",
    "파이토치를 사용한 딥러닝 프로그래밍에서 중요한 개념을 위주로 설명한다."
   ]
  },
  {
   "cell_type": "markdown",
   "metadata": {
    "id": "4NPAfuTlGuhY"
   },
   "source": [
    "* \"부록3 매트플롯립 입문\"에서 한글 폰트를 올바르게 출력하기 위한 설치 방법을 설명했다. 설치 방법은 다음과 같다."
   ]
  },
  {
   "cell_type": "code",
   "execution_count": null,
   "metadata": {
    "colab": {
     "base_uri": "https://localhost:8080/"
    },
    "executionInfo": {
     "elapsed": 10097,
     "status": "ok",
     "timestamp": 1739154474420,
     "user": {
      "displayName": "김려은",
      "userId": "11330255083274715375"
     },
     "user_tz": -540
    },
    "id": "yKW4iAf9E27k",
    "outputId": "6e4929e0-41fb-4a2f-d946-1165b65e0079"
   },
   "outputs": [
    {
     "name": "stdout",
     "output_type": "stream",
     "text": [
      "[sudo] rokey 암호: \n",
      "sudo: 암호가 필요합니다\n",
      "^C\n",
      "[sudo] rokey 암호: "
     ]
    }
   ],
   "source": [
    "# !sudo apt-get install -y fonts-nanum* | tail -n 1\n",
    "# !sudo fc-cache -fv\n",
    "# !rm -rf ~/.cache/matplotlib"
   ]
  },
  {
   "cell_type": "markdown",
   "metadata": {
    "id": "hCaiKZNeF9cm"
   },
   "source": [
    "* 모든 설치가 끝나면 한글 폰트를 바르게 출력하기 위해 **[런타임]** -> **[런타임 다시시작]**을 클릭한 다음, 아래 셀부터 코드를 실행해 주십시오."
   ]
  },
  {
   "cell_type": "code",
   "execution_count": 1,
   "metadata": {
    "executionInfo": {
     "elapsed": 3,
     "status": "ok",
     "timestamp": 1739154474424,
     "user": {
      "displayName": "김려은",
      "userId": "11330255083274715375"
     },
     "user_tz": -540
    },
    "id": "zR8TJdQQPSpD"
   },
   "outputs": [],
   "source": [
    "# 라이브러리 임포트\n",
    "\n",
    "%matplotlib inline\n",
    "import numpy as np\n",
    "import matplotlib.pyplot as plt\n",
    "from IPython.display import display\n",
    "\n",
    "# 폰트 관련 용도\n",
    "import matplotlib.font_manager as fm\n",
    "\n",
    "import platform\n",
    "\n",
    "\n",
    "# Colab, Linux\n",
    "# 나눔 고딕 폰트의 경로 명시\n",
    "path = '/usr/share/fonts/truetype/nanum/NanumGothic.ttf'\n",
    "font_name = fm.FontProperties(fname=path, size=10).get_name()\n",
    "\n",
    "# Window\n",
    "# font_name = \"NanumBarunGothic\"\n",
    "\n",
    "# Mac\n",
    "# font_name = \"AppleGothic\""
   ]
  },
  {
   "cell_type": "code",
   "execution_count": 50,
   "metadata": {
    "executionInfo": {
     "elapsed": 1956,
     "status": "ok",
     "timestamp": 1739154476382,
     "user": {
      "displayName": "김려은",
      "userId": "11330255083274715375"
     },
     "user_tz": -540
    },
    "id": "9NCOTZ8Xqvvy"
   },
   "outputs": [],
   "source": [
    "import torch"
   ]
  },
  {
   "cell_type": "code",
   "execution_count": 51,
   "metadata": {
    "executionInfo": {
     "elapsed": 2,
     "status": "ok",
     "timestamp": 1739154476387,
     "user": {
      "displayName": "김려은",
      "userId": "11330255083274715375"
     },
     "user_tz": -540
    },
    "id": "ysxb8LzbPSpD"
   },
   "outputs": [],
   "source": [
    "# 기본 폰트 설정\n",
    "plt.rcParams['font.family'] = font_name\n",
    "\n",
    "# 기본 폰트 사이즈 변경\n",
    "plt.rcParams['font.size'] = 14\n",
    "\n",
    "# 기본 그래프 사이즈 변경\n",
    "plt.rcParams['figure.figsize'] = (6,6)\n",
    "\n",
    "# 기본 그리드 표시\n",
    "# 필요에 따라 설정할 때는, plt.grid()\n",
    "plt.rcParams['axes.grid'] = True\n",
    "plt.rcParams[\"grid.linestyle\"] = \":\"\n",
    "\n",
    "# 마이너스 기호 정상 출력\n",
    "plt.rcParams['axes.unicode_minus'] = False\n",
    "\n",
    "# 넘파이 부동소수점 자릿수 표시\n",
    "np.set_printoptions(suppress=True, precision=4)"
   ]
  },
  {
   "cell_type": "markdown",
   "metadata": {
    "id": "zvXRG-ruPSpE"
   },
   "source": [
    "## 컨테이너 타입 변수에 주의\n",
    "파이썬에서 변수는 단지 실제 데이터 구조로 향하는 포인터에 지나지 않는다.\n",
    "넘파이 배열 등에서는 이 점을 의식하지 않으면 생각지도 못한 결과를 초래하는 경우가 있다."
   ]
  },
  {
   "cell_type": "markdown",
   "metadata": {
    "id": "UvPbw0jYPSpE"
   },
   "source": [
    "### 넘파이 변수 간"
   ]
  },
  {
   "cell_type": "code",
   "execution_count": 20,
   "metadata": {
    "colab": {
     "base_uri": "https://localhost:8080/"
    },
    "executionInfo": {
     "elapsed": 8,
     "status": "ok",
     "timestamp": 1739154476398,
     "user": {
      "displayName": "김려은",
      "userId": "11330255083274715375"
     },
     "user_tz": -540
    },
    "id": "mE8yGhNqPSpE",
    "outputId": "56e7a4a3-300b-4d42-8c4f-74aae7a36e8d"
   },
   "outputs": [
    {
     "name": "stdout",
     "output_type": "stream",
     "text": [
      "[5 7 9]\n",
      "[5 7 9]\n"
     ]
    }
   ],
   "source": [
    "# 넘파이 배열 x를 정의\n",
    "x = np.array([5, 7, 9])\n",
    "\n",
    "# 변수 y에 x를 대입\n",
    "y = x\n",
    "\n",
    "# 결과 확인\n",
    "print(x)\n",
    "print(y)"
   ]
  },
  {
   "cell_type": "code",
   "execution_count": 21,
   "metadata": {
    "colab": {
     "base_uri": "https://localhost:8080/"
    },
    "executionInfo": {
     "elapsed": 5,
     "status": "ok",
     "timestamp": 1739154476404,
     "user": {
      "displayName": "김려은",
      "userId": "11330255083274715375"
     },
     "user_tz": -540
    },
    "id": "hdmNhQOZPSpE",
    "outputId": "7dc26e0c-83ff-4a82-c98d-88d31311170e"
   },
   "outputs": [
    {
     "name": "stdout",
     "output_type": "stream",
     "text": [
      "[ 5 -1  9]\n",
      "[ 5 -1  9]\n"
     ]
    }
   ],
   "source": [
    "# x의 특정 요소를 변경\n",
    "x[1] = -1\n",
    "\n",
    "# y도 따라서 값이 바뀜\n",
    "print(x)\n",
    "print(y)"
   ]
  },
  {
   "cell_type": "code",
   "execution_count": 22,
   "metadata": {
    "colab": {
     "base_uri": "https://localhost:8080/"
    },
    "executionInfo": {
     "elapsed": 10,
     "status": "ok",
     "timestamp": 1739154476416,
     "user": {
      "displayName": "김려은",
      "userId": "11330255083274715375"
     },
     "user_tz": -540
    },
    "id": "l9H3CjJtPSpE",
    "outputId": "0ddd73be-773a-466a-a0cb-7844d5ef96d2"
   },
   "outputs": [
    {
     "name": "stdout",
     "output_type": "stream",
     "text": [
      "[ 5 -1  9]\n",
      "[5 7 9]\n"
     ]
    }
   ],
   "source": [
    "# y도 동시에 변하면 안되는 경우는, 대입 시 copy 함수를 이용함\n",
    "x = np.array([5, 7, 9])\n",
    "y = x.copy()\n",
    "\n",
    "# x의 특정 요소 값이 변해도, y에는 영향이 없음\n",
    "x[1] = -1\n",
    "print(x)\n",
    "print(y)"
   ]
  },
  {
   "cell_type": "markdown",
   "metadata": {
    "id": "6Xm1XIpBPSpE"
   },
   "source": [
    "### 텐서와 넘파이 변수 간\n"
   ]
  },
  {
   "cell_type": "markdown",
   "metadata": {},
   "source": [
    "\n",
    "- x1=   딥러닝 연산을 위한 텐서(PyTorch)\n",
    "- x2 = 일반 수치 연산용 배열 (Numpy)\n",
    "\n",
    "1. 서로 목적이 다름 \n",
    "2. 연산 성격이 다름 \n",
    "3. 메모리를 공유함 => x2를 수정하면 x1도 함께 수정가능 "
   ]
  },
  {
   "cell_type": "code",
   "execution_count": 23,
   "metadata": {
    "colab": {
     "base_uri": "https://localhost:8080/"
    },
    "executionInfo": {
     "elapsed": 30,
     "status": "ok",
     "timestamp": 1739154476447,
     "user": {
      "displayName": "김려은",
      "userId": "11330255083274715375"
     },
     "user_tz": -540
    },
    "id": "FPkiYCioPSpF",
    "outputId": "99d779c8-8f1c-49e6-887c-60e355efc706"
   },
   "outputs": [
    {
     "name": "stdout",
     "output_type": "stream",
     "text": [
      "tensor([1., 1., 1., 1., 1.])\n",
      "[1. 1. 1. 1. 1.]\n"
     ]
    }
   ],
   "source": [
    "import torch\n",
    "\n",
    "# x1: shape=[5]가 되는 모든 값이 1인 텐서\n",
    "x1 = torch.ones(5)\n",
    "\n",
    "# 결과 확인\n",
    "print(x1)\n",
    "\n",
    "# x2: x1로부터 생성한 넘파이 배열\n",
    "x2 = x1.data.numpy()\n",
    "\n",
    "# 결과 확인\n",
    "print(x2)"
   ]
  },
  {
   "cell_type": "code",
   "execution_count": 24,
   "metadata": {
    "colab": {
     "base_uri": "https://localhost:8080/"
    },
    "executionInfo": {
     "elapsed": 11,
     "status": "ok",
     "timestamp": 1739154476448,
     "user": {
      "displayName": "김려은",
      "userId": "11330255083274715375"
     },
     "user_tz": -540
    },
    "id": "E-SoSD6qPSpF",
    "outputId": "3f56e86f-7a0b-402c-ebf9-3f0dd4642927"
   },
   "outputs": [
    {
     "name": "stdout",
     "output_type": "stream",
     "text": [
      "tensor([ 1., -1.,  1.,  1.,  1.])\n",
      "[ 1. -1.  1.  1.  1.]\n"
     ]
    }
   ],
   "source": [
    "# x1의 값을 변경\n",
    "x1[1] = -1\n",
    "\n",
    "# x2의 값도 같이 변함\n",
    "print(x1)\n",
    "print(x2)"
   ]
  },
  {
   "cell_type": "code",
   "execution_count": 25,
   "metadata": {
    "colab": {
     "base_uri": "https://localhost:8080/"
    },
    "executionInfo": {
     "elapsed": 9,
     "status": "ok",
     "timestamp": 1739154476449,
     "user": {
      "displayName": "김려은",
      "userId": "11330255083274715375"
     },
     "user_tz": -540
    },
    "id": "fLRAG-SLPSpF",
    "outputId": "d1619647-87ab-49fd-f3d9-3fc93bb3adac"
   },
   "outputs": [
    {
     "name": "stdout",
     "output_type": "stream",
     "text": [
      "tensor([ 1., -1.,  1.,  1.,  1.])\n",
      "[1. 1. 1. 1. 1.]\n"
     ]
    }
   ],
   "source": [
    "# 안전한 방법\n",
    "\n",
    "# x1: 텐서\n",
    "x1 = torch.ones(5)\n",
    "\n",
    "# x2: x1를 copy한 넘파이\n",
    "x2 = x1.data.numpy().copy()\n",
    "\n",
    "x1[1] = -1\n",
    "\n",
    "# 결과 확인\n",
    "print(x1)\n",
    "print(x2)"
   ]
  },
  {
   "cell_type": "markdown",
   "metadata": {
    "id": "hIgGwULQqvv2"
   },
   "source": [
    "## 파이썬 자료의 구조 (Container Objects)\n",
    "* 리스트(list), 튜플(tuple), 사전(dict)"
   ]
  },
  {
   "cell_type": "code",
   "execution_count": 26,
   "metadata": {
    "colab": {
     "base_uri": "https://localhost:8080/"
    },
    "executionInfo": {
     "elapsed": 6,
     "status": "ok",
     "timestamp": 1739154476460,
     "user": {
      "displayName": "김려은",
      "userId": "11330255083274715375"
     },
     "user_tz": -540
    },
    "id": "9tRvGfKTqvv2",
    "outputId": "dcc9c887-3b70-48aa-eabf-d50904b9898a"
   },
   "outputs": [
    {
     "name": "stdout",
     "output_type": "stream",
     "text": [
      "type(a) =  <class 'int'>\n",
      "type(b) =  <class 'float'>\n"
     ]
    }
   ],
   "source": [
    "a = 12\n",
    "b = 12.55\n",
    "\n",
    "print(\"type(a) = \", type(a)) # 32 bit/ 4 Byte\n",
    "print(\"type(b) = \", type(b)) # 64 bit/ 8 Byte"
   ]
  },
  {
   "cell_type": "code",
   "execution_count": 27,
   "metadata": {
    "colab": {
     "base_uri": "https://localhost:8080/"
    },
    "executionInfo": {
     "elapsed": 16,
     "status": "ok",
     "timestamp": 1739154476477,
     "user": {
      "displayName": "김려은",
      "userId": "11330255083274715375"
     },
     "user_tz": -540
    },
    "id": "5X14NZrAqvv2",
    "outputId": "a0b5ed04-ac52-4263-f4dd-5b3ac847dbda"
   },
   "outputs": [
    {
     "name": "stdout",
     "output_type": "stream",
     "text": [
      "price[0] =  10000\n",
      "price[0:2] =  [10000, 3000]\n"
     ]
    }
   ],
   "source": [
    "## 리스트\n",
    "price = [10000, 3000, 12000]\n",
    "\n",
    "#list indexing\n",
    "print(\"price[0] = \", price[0])\n",
    "\n",
    "#list slicing\n",
    "print(\"price[0:2] = \", price[0:2])"
   ]
  },
  {
   "cell_type": "code",
   "execution_count": 28,
   "metadata": {
    "colab": {
     "base_uri": "https://localhost:8080/"
    },
    "executionInfo": {
     "elapsed": 86,
     "status": "ok",
     "timestamp": 1739154476566,
     "user": {
      "displayName": "김려은",
      "userId": "11330255083274715375"
     },
     "user_tz": -540
    },
    "id": "-e4yy73_qvv2",
    "outputId": "09064dc4-56b3-4c27-8b96-52ac3caaa50a"
   },
   "outputs": [
    {
     "name": "stdout",
     "output_type": "stream",
     "text": [
      "type(fruit) =  <class 'list'>\n",
      "fruit[0] =  banana\n",
      "fruit[1:2] =  ['banana']\n"
     ]
    }
   ],
   "source": [
    "fruit = ['apple', 'banana', 'orange']\n",
    "\n",
    "print(\"type(fruit) = \", type(fruit))\n",
    "#list indexing\n",
    "print(\"fruit[0] = \", fruit[1])\n",
    "\n",
    "#list slicing\n",
    "print(\"fruit[1:2] = \", fruit[1:2])"
   ]
  },
  {
   "cell_type": "code",
   "execution_count": 29,
   "metadata": {
    "colab": {
     "base_uri": "https://localhost:8080/",
     "height": 221
    },
    "executionInfo": {
     "elapsed": 60,
     "status": "error",
     "timestamp": 1739154476618,
     "user": {
      "displayName": "김려은",
      "userId": "11330255083274715375"
     },
     "user_tz": -540
    },
    "id": "kHPCKpd8qvv2",
    "outputId": "634a7c2a-f224-4ecc-d9b3-a2d91e94cd1c"
   },
   "outputs": [
    {
     "name": "stdout",
     "output_type": "stream",
     "text": [
      "type(tup) =  <class 'tuple'>\n",
      "('apple', 'banana', 'watermelon', 'cucumber')\n"
     ]
    },
    {
     "ename": "TypeError",
     "evalue": "'tuple' object does not support item assignment",
     "output_type": "error",
     "traceback": [
      "\u001b[31m---------------------------------------------------------------------------\u001b[39m",
      "\u001b[31mTypeError\u001b[39m                                 Traceback (most recent call last)",
      "\u001b[36mCell\u001b[39m\u001b[36m \u001b[39m\u001b[32mIn[29]\u001b[39m\u001b[32m, line 7\u001b[39m\n\u001b[32m      3\u001b[39m \u001b[38;5;28mprint\u001b[39m(\u001b[33m\"\u001b[39m\u001b[33mtype(tup) = \u001b[39m\u001b[33m\"\u001b[39m, \u001b[38;5;28mtype\u001b[39m(tup))\n\u001b[32m      5\u001b[39m \u001b[38;5;28mprint\u001b[39m(tup)\n\u001b[32m----> \u001b[39m\u001b[32m7\u001b[39m \u001b[43mtup\u001b[49m\u001b[43m[\u001b[49m\u001b[32;43m0\u001b[39;49m\u001b[43m]\u001b[49m = \u001b[33m\"\u001b[39m\u001b[33mmango\u001b[39m\u001b[33m\"\u001b[39m \u001b[38;5;66;03m# TypeError: 'tuple' object does not support item assignment\u001b[39;00m\n",
      "\u001b[31mTypeError\u001b[39m: 'tuple' object does not support item assignment"
     ]
    }
   ],
   "source": [
    "## 튜플 (Tuple)\n",
    "tup = ('apple', 'banana', 'watermelon', 'cucumber')\n",
    "print(\"type(tup) = \", type(tup))\n",
    "\n",
    "print(tup)\n",
    "\n",
    "tup[0] = \"mango\" # TypeError: 'tuple' object does not support item assignment"
   ]
  },
  {
   "cell_type": "code",
   "execution_count": null,
   "metadata": {
    "executionInfo": {
     "elapsed": 102,
     "status": "aborted",
     "timestamp": 1739154476666,
     "user": {
      "displayName": "김려은",
      "userId": "11330255083274715375"
     },
     "user_tz": -540
    },
    "id": "3qglDYvHqvv2"
   },
   "outputs": [],
   "source": [
    "## 딕셔너리 (Dictionary)\n",
    "# * 자료에 접근할 때 'key' 값을 이용해서 접근\n",
    "\n",
    "flower_price ={\n",
    "    'rose': 10000,\n",
    "    'iris': 3000,\n",
    "    'stargauge': 12000,\n",
    "    'lily': 9000,\n",
    "    'daffodil': 3000\n",
    "}\n",
    "\n",
    "print(flower_price, '\\n')\n",
    "\n",
    "## 딕셔너리 접근하기\n",
    "print(flower_price.items(), '\\n') # tuple로 반환\n",
    "print(flower_price.keys(), '\\n')\n",
    "print(flower_price.values(), '\\n')\n",
    "\n",
    "flower_price['daisy'] = flower_price.pop('iris')\n",
    "flower_price"
   ]
  },
  {
   "cell_type": "code",
   "execution_count": null,
   "metadata": {
    "executionInfo": {
     "elapsed": 103,
     "status": "aborted",
     "timestamp": 1739154476667,
     "user": {
      "displayName": "김려은",
      "userId": "11330255083274715375"
     },
     "user_tz": -540
    },
    "id": "kz5kubj5qvv3"
   },
   "outputs": [],
   "source": [
    "fruit_price={}\n",
    "print(type(fruit_price))\n",
    "\n",
    "fruit_price['apple'] = 1000\n",
    "\n",
    "print(fruit_price)\n",
    "\n",
    "## access dictionary data\n",
    "print(\"fruit_price['apple'] = \\n\", fruit_price['apple'])"
   ]
  },
  {
   "cell_type": "markdown",
   "metadata": {
    "id": "thEcjNodqvv3"
   },
   "source": [
    "##  if 조건문"
   ]
  },
  {
   "cell_type": "code",
   "execution_count": null,
   "metadata": {
    "executionInfo": {
     "elapsed": 103,
     "status": "aborted",
     "timestamp": 1739154476668,
     "user": {
      "displayName": "김려은",
      "userId": "11330255083274715375"
     },
     "user_tz": -540
    },
    "id": "TfdQiSDnqvv3"
   },
   "outputs": [],
   "source": [
    "# 만약 condition 이 True 이면 code 1 을 수행, False 이면 code 2를 수행\n",
    "# if condition:\n",
    "#      code 1\n",
    "#  else:\n",
    "#      code 2\n",
    "#\n",
    "\n",
    "rose = 1500\n",
    "\n",
    "if rose < 1000: #Boolean index:\n",
    "    print('장미꽃을 구매합니다')\n",
    "else:\n",
    "    print('나리꽃을 구매합니다')"
   ]
  },
  {
   "cell_type": "code",
   "execution_count": null,
   "metadata": {
    "executionInfo": {
     "elapsed": 13,
     "status": "aborted",
     "timestamp": 1739154476682,
     "user": {
      "displayName": "김려은",
      "userId": "11330255083274715375"
     },
     "user_tz": -540
    },
    "id": "nhSP92Vsqvv3"
   },
   "outputs": [],
   "source": [
    "rose = 1500\n",
    "\n",
    "if rose < 1000: #Boolean index:\n",
    "    print('장미꽃을 구매합니다')\n",
    "elif rose < 2000: #\n",
    "    print('꽃구매를 기다립니다')\n",
    "else:\n",
    "    print('나리꽃을 구매합니다')"
   ]
  },
  {
   "cell_type": "markdown",
   "metadata": {
    "id": "KJm5_PkWqvv3"
   },
   "source": [
    "## for 구문"
   ]
  },
  {
   "cell_type": "code",
   "execution_count": null,
   "metadata": {
    "executionInfo": {
     "elapsed": 11,
     "status": "aborted",
     "timestamp": 1739154476684,
     "user": {
      "displayName": "김려은",
      "userId": "11330255083274715375"
     },
     "user_tz": -540
    },
    "id": "dcvQP71bqvv3"
   },
   "outputs": [],
   "source": [
    "# for 변수 in 리스트(또는 튜플, 문자열):\n",
    "#     수행할_문장1\n",
    "#     수행할_문장2\n",
    "#     ...\n",
    "\n",
    "for i in range(10):\n",
    "    print(i)"
   ]
  },
  {
   "cell_type": "code",
   "execution_count": null,
   "metadata": {
    "executionInfo": {
     "elapsed": 8,
     "status": "aborted",
     "timestamp": 1739154476685,
     "user": {
      "displayName": "김려은",
      "userId": "11330255083274715375"
     },
     "user_tz": -540
    },
    "id": "Pi8cMKq6qvv3"
   },
   "outputs": [],
   "source": [
    "## Using string\n",
    "flowers = ['장미', '백합', '붓꽃', '해바라기']\n",
    "\n",
    "for i in flowers:\n",
    "    print(i)"
   ]
  },
  {
   "cell_type": "code",
   "execution_count": null,
   "metadata": {
    "executionInfo": {
     "elapsed": 7,
     "status": "aborted",
     "timestamp": 1739154476686,
     "user": {
      "displayName": "김려은",
      "userId": "11330255083274715375"
     },
     "user_tz": -540
    },
    "id": "f2Be8OGBqvv3"
   },
   "outputs": [],
   "source": [
    "## Using index\n",
    "\n",
    "flowers = ['장미', '백합', '붓꽃', '해바라기', '후리지아']\n",
    "\n",
    "for i in [0,1,2,3]:\n",
    "    print(flowers[i])"
   ]
  },
  {
   "cell_type": "markdown",
   "metadata": {
    "id": "HxRiwielqvv4"
   },
   "source": [
    "## while 반복문 "
   ]
  },
  {
   "cell_type": "code",
   "execution_count": null,
   "metadata": {
    "executionInfo": {
     "elapsed": 8,
     "status": "aborted",
     "timestamp": 1739154476687,
     "user": {
      "displayName": "김려은",
      "userId": "11330255083274715375"
     },
     "user_tz": -540
    },
    "id": "3JbLgeYmqvv4"
   },
   "outputs": [],
   "source": [
    "# 초기식\n",
    "# while 조건식:\n",
    "#      반복할 코드\n",
    "#      변화식\n"
   ]
  },
  {
   "cell_type": "code",
   "execution_count": null,
   "metadata": {
    "executionInfo": {
     "elapsed": 8,
     "status": "aborted",
     "timestamp": 1739154476688,
     "user": {
      "displayName": "김려은",
      "userId": "11330255083274715375"
     },
     "user_tz": -540
    },
    "id": "wI_Sncrdqvv4"
   },
   "outputs": [
    {
     "name": "stdout",
     "output_type": "stream",
     "text": [
      "1100.0 , day =  1\n",
      "1210.0 , day =  2\n",
      "1331.0 , day =  3\n",
      "1464.1 , day =  4\n",
      "1610.51 , day =  5\n",
      "1771.561 , day =  6\n",
      "1948.717 , day =  7\n",
      "2143.589 , day =  8\n",
      "2357.948 , day =  9\n",
      "2593.742 , day =  10\n"
     ]
    }
   ],
   "source": [
    "#매일 10%씩 가격이 오를 때의 가격 \n",
    "rose = 1000\n",
    "day = 1\n",
    "\n",
    "while day <= 10:\n",
    "    rose = rose + rose*0.1\n",
    "    print(round(rose, 3), \", day = \", day)\n",
    "    day += 1"
   ]
  },
  {
   "cell_type": "markdown",
   "metadata": {
    "id": "ynY8GO8jqvv4"
   },
   "source": [
    "## 파이썬 함수만들기"
   ]
  },
  {
   "cell_type": "code",
   "execution_count": null,
   "metadata": {
    "executionInfo": {
     "elapsed": 9,
     "status": "aborted",
     "timestamp": 1739154476689,
     "user": {
      "displayName": "김려은",
      "userId": "11330255083274715375"
     },
     "user_tz": -540
    },
    "id": "TMldvlpaqvv4"
   },
   "outputs": [],
   "source": [
    "# 함수정의 기본 문법\n",
    "# def 함수 이름:\n",
    "#     함수 내용\n",
    "\n",
    "# 함수 호출\n",
    "def myfunction(): # 함수 이름\n",
    "    print(\"Hello World\") # 함수 내용\n",
    "\n",
    "myfunction() # 함수 호출\n"
   ]
  },
  {
   "cell_type": "code",
   "execution_count": null,
   "metadata": {
    "executionInfo": {
     "elapsed": 9,
     "status": "aborted",
     "timestamp": 1739154476690,
     "user": {
      "displayName": "김려은",
      "userId": "11330255083274715375"
     },
     "user_tz": -540
    },
    "id": "AWnnn_vMqvv5"
   },
   "outputs": [
    {
     "name": "stdout",
     "output_type": "stream",
     "text": [
      "result =  12.0\n",
      "result =  <class 'float'>\n"
     ]
    }
   ],
   "source": [
    "# 합을 구하는 함수\n",
    "def addNum(num1: int, num2: int) -> float:\n",
    "    sum = num1 + num2\n",
    "    return float(sum)\n",
    "\n",
    "result = addNum(10, 2)\n",
    "print(\"result = \", result)\n",
    "print(\"result = \", type(result))"
   ]
  },
  {
   "cell_type": "code",
   "execution_count": null,
   "metadata": {
    "executionInfo": {
     "elapsed": 10,
     "status": "aborted",
     "timestamp": 1739154476691,
     "user": {
      "displayName": "김려은",
      "userId": "11330255083274715375"
     },
     "user_tz": -540
    },
    "id": "Ku2FpQl0qvv5"
   },
   "outputs": [],
   "source": [
    "## 여러 개의 값 반환하기\n",
    "def add_sub(num1, num2):\n",
    "    add = num1 + num2\n",
    "    sub = num1 - num2\n",
    "    return add, sub\n",
    "\n",
    "add_sub(1, 2) # tuple로 반환\n",
    "x = add_sub(3, 4)  # tuple로 반환\n",
    "print('x = ', x)\n",
    "\n",
    "add, sub = add_sub(3, 4)\n",
    "print(\"add = {}, sub = {}\".format(add, sub))"
   ]
  },
  {
   "cell_type": "code",
   "execution_count": null,
   "metadata": {
    "executionInfo": {
     "elapsed": 11,
     "status": "aborted",
     "timestamp": 1739154476693,
     "user": {
      "displayName": "김려은",
      "userId": "11330255083274715375"
     },
     "user_tz": -540
    },
    "id": "588IS1SHqvv9"
   },
   "outputs": [],
   "source": [
    "## 함수내 함수호출, stack 구조\n",
    "def mul(a, b):\n",
    "    return a*b\n",
    "\n",
    "def divide(a, b):\n",
    "    return a/b\n",
    "\n",
    "def mul_div(x, y):\n",
    "    num1 = mul(x, y)\n",
    "    num2 = divide(x, y)\n",
    "    return num1, num2\n",
    "\n",
    "result = mul_div(2, 1)\n",
    "print('result = ', result)"
   ]
  },
  {
   "cell_type": "markdown",
   "metadata": {
    "id": "jAwsog3qPSpF"
   },
   "source": [
    "## 합성 함수를 파이썬으로 구현하기\n",
    "수학에서 합성함수가 파이썬에서 어떻게 구현되는지 확인한다."
   ]
  },
  {
   "cell_type": "markdown",
   "metadata": {
    "id": "LYchZiipPSpF"
   },
   "source": [
    "$f(x) = 2x^2 + 2$를 함수로 정의한다."
   ]
  },
  {
   "cell_type": "code",
   "execution_count": 31,
   "metadata": {
    "executionInfo": {
     "elapsed": 12,
     "status": "aborted",
     "timestamp": 1739154476695,
     "user": {
      "displayName": "김려은",
      "userId": "11330255083274715375"
     },
     "user_tz": -540
    },
    "id": "3CqF27_GPSpF"
   },
   "outputs": [],
   "source": [
    "def f(x):\n",
    "    return (2 * x**2 + 2)"
   ]
  },
  {
   "cell_type": "code",
   "execution_count": 32,
   "metadata": {
    "executionInfo": {
     "elapsed": 13,
     "status": "aborted",
     "timestamp": 1739154476697,
     "user": {
      "displayName": "김려은",
      "userId": "11330255083274715375"
     },
     "user_tz": -540
    },
    "id": "OiJN2YuVPSpF"
   },
   "outputs": [
    {
     "name": "stdout",
     "output_type": "stream",
     "text": [
      "[-2.   -1.75 -1.5  -1.25 -1.   -0.75 -0.5  -0.25  0.    0.25  0.5   0.75\n",
      "  1.    1.25  1.5   1.75  2.  ]\n"
     ]
    }
   ],
   "source": [
    "# 넘파이 배열로 x를 정의\n",
    "\n",
    "import numpy as np\n",
    "x = np.arange(-2, 2.1, 0.25)\n",
    "print(x)"
   ]
  },
  {
   "cell_type": "code",
   "execution_count": 33,
   "metadata": {
    "executionInfo": {
     "elapsed": 7,
     "status": "aborted",
     "timestamp": 1739154476698,
     "user": {
      "displayName": "김려은",
      "userId": "11330255083274715375"
     },
     "user_tz": -540
    },
    "id": "WXTDLngzPSpG"
   },
   "outputs": [
    {
     "name": "stdout",
     "output_type": "stream",
     "text": [
      "[10.     8.125  6.5    5.125  4.     3.125  2.5    2.125  2.     2.125\n",
      "  2.5    3.125  4.     5.125  6.5    8.125 10.   ]\n"
     ]
    }
   ],
   "source": [
    "# f(x)의 결과를 y에 대입\n",
    "\n",
    "y = f(x)\n",
    "print(y)"
   ]
  },
  {
   "cell_type": "code",
   "execution_count": 34,
   "metadata": {
    "executionInfo": {
     "elapsed": 8,
     "status": "aborted",
     "timestamp": 1739154476700,
     "user": {
      "displayName": "김려은",
      "userId": "11330255083274715375"
     },
     "user_tz": -540
    },
    "id": "XzsseR8QPSpG"
   },
   "outputs": [
    {
     "name": "stderr",
     "output_type": "stream",
     "text": [
      "findfont: Font family 'NanumGothic' not found.\n",
      "findfont: Font family 'NanumGothic' not found.\n",
      "findfont: Font family 'NanumGothic' not found.\n",
      "findfont: Font family 'NanumGothic' not found.\n",
      "findfont: Font family 'NanumGothic' not found.\n",
      "findfont: Font family 'NanumGothic' not found.\n",
      "findfont: Font family 'NanumGothic' not found.\n",
      "findfont: Font family 'NanumGothic' not found.\n",
      "findfont: Font family 'NanumGothic' not found.\n",
      "findfont: Font family 'NanumGothic' not found.\n",
      "findfont: Font family 'NanumGothic' not found.\n",
      "findfont: Font family 'NanumGothic' not found.\n",
      "findfont: Font family 'NanumGothic' not found.\n",
      "findfont: Font family 'NanumGothic' not found.\n",
      "findfont: Font family 'NanumGothic' not found.\n",
      "findfont: Font family 'NanumGothic' not found.\n",
      "findfont: Font family 'NanumGothic' not found.\n",
      "findfont: Font family 'NanumGothic' not found.\n",
      "findfont: Font family 'NanumGothic' not found.\n",
      "findfont: Font family 'NanumGothic' not found.\n",
      "findfont: Font family 'NanumGothic' not found.\n",
      "findfont: Font family 'NanumGothic' not found.\n",
      "findfont: Font family 'NanumGothic' not found.\n",
      "findfont: Font family 'NanumGothic' not found.\n",
      "findfont: Font family 'NanumGothic' not found.\n",
      "findfont: Font family 'NanumGothic' not found.\n",
      "findfont: Font family 'NanumGothic' not found.\n",
      "findfont: Font family 'NanumGothic' not found.\n",
      "findfont: Font family 'NanumGothic' not found.\n",
      "findfont: Font family 'NanumGothic' not found.\n",
      "findfont: Font family 'NanumGothic' not found.\n",
      "findfont: Font family 'NanumGothic' not found.\n",
      "findfont: Font family 'NanumGothic' not found.\n",
      "findfont: Font family 'NanumGothic' not found.\n",
      "findfont: Font family 'NanumGothic' not found.\n",
      "findfont: Font family 'NanumGothic' not found.\n",
      "findfont: Font family 'NanumGothic' not found.\n",
      "findfont: Font family 'NanumGothic' not found.\n",
      "findfont: Font family 'NanumGothic' not found.\n",
      "findfont: Font family 'NanumGothic' not found.\n",
      "findfont: Font family 'NanumGothic' not found.\n",
      "findfont: Font family 'NanumGothic' not found.\n"
     ]
    },
    {
     "data": {
      "image/png": "[encoded data removed]",
      "text/plain": [
       "<Figure size 600x600 with 1 Axes>"
      ]
     },
     "metadata": {},
     "output_type": "display_data"
    }
   ],
   "source": [
    "# 함수를 그래프로 그리기\n",
    "\n",
    "plt.plot(x, y)\n",
    "plt.show()"
   ]
  },
  {
   "cell_type": "code",
   "execution_count": 35,
   "metadata": {
    "executionInfo": {
     "elapsed": 8,
     "status": "aborted",
     "timestamp": 1739154476701,
     "user": {
      "displayName": "김려은",
      "userId": "11330255083274715375"
     },
     "user_tz": -540
    },
    "id": "hwdDvlSKUa8W"
   },
   "outputs": [],
   "source": [
    "# 세 가지 기본 함수의 정의\n",
    "\n",
    "def f1(x):\n",
    "    return(x**2)\n",
    "\n",
    "def f2(x):\n",
    "    return(x*2)\n",
    "\n",
    "def f3(x):\n",
    "    return(x+2)\n",
    "\n",
    "# 합성 함수 만들기\n",
    "\n",
    "x1 = f1(x)\n",
    "x2 = f2(x1)\n",
    "y = f3(x2)"
   ]
  },
  {
   "cell_type": "code",
   "execution_count": 36,
   "metadata": {
    "executionInfo": {
     "elapsed": 4,
     "status": "aborted",
     "timestamp": 1739154476702,
     "user": {
      "displayName": "김려은",
      "userId": "11330255083274715375"
     },
     "user_tz": -540
    },
    "id": "fNUqcDqVUbGW"
   },
   "outputs": [
    {
     "name": "stdout",
     "output_type": "stream",
     "text": [
      "[10.     8.125  6.5    5.125  4.     3.125  2.5    2.125  2.     2.125\n",
      "  2.5    3.125  4.     5.125  6.5    8.125 10.   ]\n"
     ]
    }
   ],
   "source": [
    "# 합성 함수 값 확인\n",
    "\n",
    "print(y)"
   ]
  },
  {
   "cell_type": "code",
   "execution_count": 52,
   "metadata": {
    "executionInfo": {
     "elapsed": 12524,
     "status": "aborted",
     "timestamp": 1739154476703,
     "user": {
      "displayName": "김려은",
      "userId": "11330255083274715375"
     },
     "user_tz": -540
    },
    "id": "hqVCcelaUbKq"
   },
   "outputs": [
    {
     "name": "stderr",
     "output_type": "stream",
     "text": [
      "findfont: Font family 'NanumGothic' not found.\n",
      "findfont: Font family 'NanumGothic' not found.\n",
      "findfont: Font family 'NanumGothic' not found.\n",
      "findfont: Font family 'NanumGothic' not found.\n",
      "findfont: Font family 'NanumGothic' not found.\n",
      "findfont: Font family 'NanumGothic' not found.\n",
      "findfont: Font family 'NanumGothic' not found.\n",
      "findfont: Font family 'NanumGothic' not found.\n",
      "findfont: Font family 'NanumGothic' not found.\n",
      "findfont: Font family 'NanumGothic' not found.\n",
      "findfont: Font family 'NanumGothic' not found.\n",
      "findfont: Font family 'NanumGothic' not found.\n",
      "findfont: Font family 'NanumGothic' not found.\n",
      "findfont: Font family 'NanumGothic' not found.\n",
      "findfont: Font family 'NanumGothic' not found.\n",
      "findfont: Font family 'NanumGothic' not found.\n",
      "findfont: Font family 'NanumGothic' not found.\n",
      "findfont: Font family 'NanumGothic' not found.\n",
      "findfont: Font family 'NanumGothic' not found.\n",
      "findfont: Font family 'NanumGothic' not found.\n",
      "findfont: Font family 'NanumGothic' not found.\n",
      "findfont: Font family 'NanumGothic' not found.\n",
      "findfont: Font family 'NanumGothic' not found.\n",
      "findfont: Font family 'NanumGothic' not found.\n",
      "findfont: Font family 'NanumGothic' not found.\n",
      "findfont: Font family 'NanumGothic' not found.\n",
      "findfont: Font family 'NanumGothic' not found.\n",
      "findfont: Font family 'NanumGothic' not found.\n",
      "findfont: Font family 'NanumGothic' not found.\n",
      "findfont: Font family 'NanumGothic' not found.\n",
      "findfont: Font family 'NanumGothic' not found.\n",
      "findfont: Font family 'NanumGothic' not found.\n",
      "findfont: Font family 'NanumGothic' not found.\n",
      "findfont: Font family 'NanumGothic' not found.\n",
      "findfont: Font family 'NanumGothic' not found.\n",
      "findfont: Font family 'NanumGothic' not found.\n",
      "findfont: Font family 'NanumGothic' not found.\n",
      "findfont: Font family 'NanumGothic' not found.\n",
      "findfont: Font family 'NanumGothic' not found.\n",
      "findfont: Font family 'NanumGothic' not found.\n",
      "findfont: Font family 'NanumGothic' not found.\n",
      "findfont: Font family 'NanumGothic' not found.\n"
     ]
    },
    {
     "data": {
      "image/png": "[encoded data removed]",
      "text/plain": [
       "<Figure size 600x600 with 1 Axes>"
      ]
     },
     "metadata": {},
     "output_type": "display_data"
    }
   ],
   "source": [
    "# 합성 함수 그래프 그리기\n",
    "\n",
    "plt.plot(x, y)\n",
    "plt.show()"
   ]
  },
  {
   "cell_type": "markdown",
   "metadata": {
    "id": "Jp1YdzDvPSpH"
   },
   "source": [
    "## 커스텀 클래스 정의하기"
   ]
  },
  {
   "cell_type": "code",
   "execution_count": null,
   "metadata": {
    "executionInfo": {
     "elapsed": 12520,
     "status": "aborted",
     "timestamp": 1739154476704,
     "user": {
      "displayName": "김려은",
      "userId": "11330255083274715375"
     },
     "user_tz": -540
    },
    "id": "MbyCJEt8qvv_"
   },
   "outputs": [],
   "source": [
    "## 합, 차 함수\n",
    "def add(a, b):\n",
    "    return a + b\n",
    "\n",
    "def sub(a, b):\n",
    "    return a - b\n",
    "\n",
    "a, b = 1, 2\n",
    "print(\"a + b = \", add(a, b))\n",
    "print(\"a - b = \", sub(a, b))"
   ]
  },
  {
   "cell_type": "code",
   "execution_count": 38,
   "metadata": {
    "executionInfo": {
     "elapsed": 12528,
     "status": "aborted",
     "timestamp": 1739154476715,
     "user": {
      "displayName": "김려은",
      "userId": "11330255083274715375"
     },
     "user_tz": -540
    },
    "id": "x1MBxf3MqvwA"
   },
   "outputs": [],
   "source": [
    "## class 만들기 : 비슷한 기능들을 한 번에 관리\n",
    "class Calculator:\n",
    "    def __init__(self, a:int, b:int): #__init__ 자동호출 \n",
    "        self.result = 0 #클래스 속성 \n",
    "        self.a = a \n",
    "        self.b = b\n",
    "\n",
    "    def add(self):\n",
    "        self.result = self.a + self.b\n",
    "        return self.result\n",
    "\n",
    "    def sub(self):\n",
    "        self.result = self.a - self.b\n",
    "        return self.result\n"
   ]
  },
  {
   "cell_type": "code",
   "execution_count": 39,
   "metadata": {
    "executionInfo": {
     "elapsed": 12530,
     "status": "aborted",
     "timestamp": 1739154476717,
     "user": {
      "displayName": "김려은",
      "userId": "11330255083274715375"
     },
     "user_tz": -540
    },
    "id": "AvuvCKVUqvwA"
   },
   "outputs": [
    {
     "name": "stdout",
     "output_type": "stream",
     "text": [
      "add =  5\n",
      "sub =  1\n"
     ]
    }
   ],
   "source": [
    "calculator = Calculator(3, 2)\n",
    "print(\"add = \", calculator.add())\n",
    "print(\"sub = \", calculator.sub())"
   ]
  },
  {
   "cell_type": "code",
   "execution_count": null,
   "metadata": {
    "executionInfo": {
     "elapsed": 12530,
     "status": "aborted",
     "timestamp": 1739154476718,
     "user": {
      "displayName": "김려은",
      "userId": "11330255083274715375"
     },
     "user_tz": -540
    },
    "id": "bZwKc0qbqvwA"
   },
   "outputs": [],
   "source": [
    "## 상속\n",
    "class CalculatorV2(Calculator):\n",
    "    def __init__(self, x, y, c):\n",
    "        super().__init__(x, y)  #상속 \n",
    "        self.c = c\n",
    "\n",
    "    def mul(self):\n",
    "        self.result = self.a * self.b\n",
    "        return self.result\n",
    "\n",
    "    def div(self):\n",
    "        self.result = self.a / self.b\n",
    "        return self.result\n",
    "\n",
    "    # def __str__(self):\n",
    "    #     return str(self.c)\n",
    "\n"
   ]
  },
  {
   "cell_type": "code",
   "execution_count": 41,
   "metadata": {
    "executionInfo": {
     "elapsed": 12548,
     "status": "aborted",
     "timestamp": 1739154476737,
     "user": {
      "displayName": "김려은",
      "userId": "11330255083274715375"
     },
     "user_tz": -540
    },
    "id": "5RpfKM23qvwA"
   },
   "outputs": [
    {
     "name": "stdout",
     "output_type": "stream",
     "text": [
      "12\n",
      "8\n",
      "20\n",
      "5.0\n"
     ]
    }
   ],
   "source": [
    "calculator2 = CalculatorV2(10, 2, 1)\n",
    "\n",
    "print(calculator2.add())\n",
    "print(calculator2.sub())\n",
    "print(calculator2.mul())\n",
    "print(calculator2.div())"
   ]
  },
  {
   "cell_type": "code",
   "execution_count": 42,
   "metadata": {
    "executionInfo": {
     "elapsed": 12550,
     "status": "aborted",
     "timestamp": 1739154476739,
     "user": {
      "displayName": "김려은",
      "userId": "11330255083274715375"
     },
     "user_tz": -540
    },
    "id": "Ab0LDmO6PSpH"
   },
   "outputs": [],
   "source": [
    "# 그래프 출력을 위한 라이브러리\n",
    "import matplotlib.pyplot as plt\n",
    "\n",
    "# 원을 그리기 위해 필요한 라이브러리\n",
    "import matplotlib.patches as patches"
   ]
  },
  {
   "cell_type": "code",
   "execution_count": 43,
   "metadata": {
    "executionInfo": {
     "elapsed": 12551,
     "status": "aborted",
     "timestamp": 1739154476740,
     "user": {
      "displayName": "김려은",
      "userId": "11330255083274715375"
     },
     "user_tz": -540
    },
    "id": "ipJlePaSPSpI"
   },
   "outputs": [],
   "source": [
    "# Point 클래스 정의\n",
    "class Point:\n",
    "    # 인스턴스 생성 시에 두 개의 인수 x와 y를 가짐\n",
    "    def __init__(self, x, y):\n",
    "        # 인스턴스 속성 x에 첫 번째 인수를 할당\n",
    "        self.x = x\n",
    "        # 인스턴스 속성 y에 두 번째 인수를 할당\n",
    "        self.y = y\n",
    "\n",
    "    # draw 함수 정의(인수 없음)\n",
    "    def draw(self):\n",
    "        # (x, y)에 점을 그림\n",
    "        plt.plot(self.x, self.y, marker='o', markersize=10, c='k')"
   ]
  },
  {
   "cell_type": "code",
   "execution_count": 44,
   "metadata": {
    "executionInfo": {
     "elapsed": 12552,
     "status": "aborted",
     "timestamp": 1739154476741,
     "user": {
      "displayName": "김려은",
      "userId": "11330255083274715375"
     },
     "user_tz": -540
    },
    "id": "DAtC1ASWPSpI"
   },
   "outputs": [],
   "source": [
    "# Point 클래스로 인스턴스 변수 p1과 p2 생성\n",
    "\n",
    "p1 = Point(2,3)\n",
    "p2 = Point(-1, -2)"
   ]
  },
  {
   "cell_type": "code",
   "execution_count": 46,
   "metadata": {
    "executionInfo": {
     "elapsed": 12551,
     "status": "aborted",
     "timestamp": 1739154476743,
     "user": {
      "displayName": "김려은",
      "userId": "11330255083274715375"
     },
     "user_tz": -540
    },
    "id": "nuPBuQQyPSpI"
   },
   "outputs": [
    {
     "name": "stdout",
     "output_type": "stream",
     "text": [
      "2 3\n",
      "-1 -2\n"
     ]
    }
   ],
   "source": [
    "# p1과 p2의 속성x, y\n",
    "\n",
    "print(p1.x, p1.y)\n",
    "print(p2.x, p2.y)"
   ]
  },
  {
   "cell_type": "code",
   "execution_count": 47,
   "metadata": {
    "executionInfo": {
     "elapsed": 12625,
     "status": "aborted",
     "timestamp": 1739154476821,
     "user": {
      "displayName": "김려은",
      "userId": "11330255083274715375"
     },
     "user_tz": -540
    },
    "id": "P1RcK4uhPSpI"
   },
   "outputs": [
    {
     "name": "stderr",
     "output_type": "stream",
     "text": [
      "findfont: Font family 'NanumGothic' not found.\n",
      "findfont: Font family 'NanumGothic' not found.\n",
      "findfont: Font family 'NanumGothic' not found.\n",
      "findfont: Font family 'NanumGothic' not found.\n",
      "findfont: Font family 'NanumGothic' not found.\n",
      "findfont: Font family 'NanumGothic' not found.\n",
      "findfont: Font family 'NanumGothic' not found.\n",
      "findfont: Font family 'NanumGothic' not found.\n",
      "findfont: Font family 'NanumGothic' not found.\n",
      "findfont: Font family 'NanumGothic' not found.\n",
      "findfont: Font family 'NanumGothic' not found.\n",
      "findfont: Font family 'NanumGothic' not found.\n",
      "findfont: Font family 'NanumGothic' not found.\n",
      "findfont: Font family 'NanumGothic' not found.\n",
      "findfont: Font family 'NanumGothic' not found.\n",
      "findfont: Font family 'NanumGothic' not found.\n",
      "findfont: Font family 'NanumGothic' not found.\n",
      "findfont: Font family 'NanumGothic' not found.\n",
      "findfont: Font family 'NanumGothic' not found.\n",
      "findfont: Font family 'NanumGothic' not found.\n",
      "findfont: Font family 'NanumGothic' not found.\n",
      "findfont: Font family 'NanumGothic' not found.\n",
      "findfont: Font family 'NanumGothic' not found.\n",
      "findfont: Font family 'NanumGothic' not found.\n",
      "findfont: Font family 'NanumGothic' not found.\n",
      "findfont: Font family 'NanumGothic' not found.\n",
      "findfont: Font family 'NanumGothic' not found.\n",
      "findfont: Font family 'NanumGothic' not found.\n",
      "findfont: Font family 'NanumGothic' not found.\n",
      "findfont: Font family 'NanumGothic' not found.\n",
      "findfont: Font family 'NanumGothic' not found.\n",
      "findfont: Font family 'NanumGothic' not found.\n",
      "findfont: Font family 'NanumGothic' not found.\n",
      "findfont: Font family 'NanumGothic' not found.\n"
     ]
    },
    {
     "data": {
      "image/png": "[encoded data removed]",
      "text/plain": [
       "<Figure size 600x600 with 1 Axes>"
      ]
     },
     "metadata": {},
     "output_type": "display_data"
    }
   ],
   "source": [
    "# p1과 p2의 draw 함수를 호출하고, 두 개의 점을 출력함\n",
    "p1.draw()\n",
    "p2.draw()\n",
    "plt.xlim(-4, 4)\n",
    "plt.ylim(-4, 4)\n",
    "plt.show()"
   ]
  },
  {
   "cell_type": "code",
   "execution_count": 53,
   "metadata": {
    "executionInfo": {
     "elapsed": 12626,
     "status": "aborted",
     "timestamp": 1739154476823,
     "user": {
      "displayName": "김려은",
      "userId": "11330255083274715375"
     },
     "user_tz": -540
    },
    "id": "EuESwqVcPSpI"
   },
   "outputs": [],
   "source": [
    "# Point의 자식 클래스 Circle 정의 1\n",
    "\n",
    "class Circle1(Point):\n",
    "    # Circle은 인스턴스 생성 시에 인수 x, y, r을 가짐\n",
    "    def __init__(self, x, y, r):\n",
    "        # x와 y는 부모 클래스의 속성으로 설정\n",
    "        super().__init__(x, y)\n",
    "        # r은 Circle의 속성으로 설정\n",
    "        self.r = r\n",
    "\n",
    "    # 이 단계에서 draw 함수는 정의하지 않음"
   ]
  },
  {
   "cell_type": "code",
   "execution_count": 54,
   "metadata": {
    "executionInfo": {
     "elapsed": 12627,
     "status": "aborted",
     "timestamp": 1739154476824,
     "user": {
      "displayName": "김려은",
      "userId": "11330255083274715375"
     },
     "user_tz": -540
    },
    "id": "eIDjNrTaPSpI"
   },
   "outputs": [],
   "source": [
    "# Circle1 클래스에서 인스턴스 변수 c1_1을 생성\n",
    "c1_1 = Circle1(1, 0, 2)"
   ]
  },
  {
   "cell_type": "code",
   "execution_count": 55,
   "metadata": {
    "executionInfo": {
     "elapsed": 12625,
     "status": "aborted",
     "timestamp": 1739154476825,
     "user": {
      "displayName": "김려은",
      "userId": "11330255083274715375"
     },
     "user_tz": -540
    },
    "id": "BEHIwmDzPSpI"
   },
   "outputs": [
    {
     "name": "stdout",
     "output_type": "stream",
     "text": [
      "1 0 2\n"
     ]
    }
   ],
   "source": [
    "# c1_1의 속성 확인\n",
    "print(c1_1.x, c1_1.y, c1_1.r)"
   ]
  },
  {
   "cell_type": "code",
   "execution_count": 56,
   "metadata": {
    "executionInfo": {
     "elapsed": 12624,
     "status": "aborted",
     "timestamp": 1739154476826,
     "user": {
      "displayName": "김려은",
      "userId": "11330255083274715375"
     },
     "user_tz": -540
    },
    "id": "BLkCbcCiPSpI"
   },
   "outputs": [
    {
     "name": "stderr",
     "output_type": "stream",
     "text": [
      "findfont: Font family 'NanumGothic' not found.\n",
      "findfont: Font family 'NanumGothic' not found.\n",
      "findfont: Font family 'NanumGothic' not found.\n",
      "findfont: Font family 'NanumGothic' not found.\n",
      "findfont: Font family 'NanumGothic' not found.\n",
      "findfont: Font family 'NanumGothic' not found.\n",
      "findfont: Font family 'NanumGothic' not found.\n",
      "findfont: Font family 'NanumGothic' not found.\n",
      "findfont: Font family 'NanumGothic' not found.\n",
      "findfont: Font family 'NanumGothic' not found.\n",
      "findfont: Font family 'NanumGothic' not found.\n",
      "findfont: Font family 'NanumGothic' not found.\n",
      "findfont: Font family 'NanumGothic' not found.\n",
      "findfont: Font family 'NanumGothic' not found.\n",
      "findfont: Font family 'NanumGothic' not found.\n",
      "findfont: Font family 'NanumGothic' not found.\n",
      "findfont: Font family 'NanumGothic' not found.\n",
      "findfont: Font family 'NanumGothic' not found.\n",
      "findfont: Font family 'NanumGothic' not found.\n",
      "findfont: Font family 'NanumGothic' not found.\n",
      "findfont: Font family 'NanumGothic' not found.\n",
      "findfont: Font family 'NanumGothic' not found.\n",
      "findfont: Font family 'NanumGothic' not found.\n",
      "findfont: Font family 'NanumGothic' not found.\n",
      "findfont: Font family 'NanumGothic' not found.\n",
      "findfont: Font family 'NanumGothic' not found.\n",
      "findfont: Font family 'NanumGothic' not found.\n",
      "findfont: Font family 'NanumGothic' not found.\n",
      "findfont: Font family 'NanumGothic' not found.\n",
      "findfont: Font family 'NanumGothic' not found.\n",
      "findfont: Font family 'NanumGothic' not found.\n",
      "findfont: Font family 'NanumGothic' not found.\n",
      "findfont: Font family 'NanumGothic' not found.\n",
      "findfont: Font family 'NanumGothic' not found.\n"
     ]
    },
    {
     "data": {
      "image/png": "[encoded data removed]",
      "text/plain": [
       "<Figure size 600x600 with 1 Axes>"
      ]
     },
     "metadata": {},
     "output_type": "display_data"
    }
   ],
   "source": [
    "# p1, p2, c1_1의 각 draw 함수를 호출\n",
    "\n",
    "ax = plt.subplot()\n",
    "p1.draw()\n",
    "p2.draw()\n",
    "c1_1.draw()\n",
    "plt.xlim(-4, 4)\n",
    "plt.ylim(-4, 4)\n",
    "plt.show()"
   ]
  },
  {
   "cell_type": "markdown",
   "metadata": {
    "id": "obg1_EqDPSpJ"
   },
   "source": [
    "이 단계에서 draw 함수는 부모쪽에서 정의한 함수가 호출되고 있음을 알 수 있다."
   ]
  },
  {
   "cell_type": "code",
   "execution_count": 57,
   "metadata": {
    "executionInfo": {
     "elapsed": 12625,
     "status": "aborted",
     "timestamp": 1739154476828,
     "user": {
      "displayName": "김려은",
      "userId": "11330255083274715375"
     },
     "user_tz": -540
    },
    "id": "5qXE1-RCPSpJ"
   },
   "outputs": [],
   "source": [
    "# Point의 자식 클래스 Circle의 정의 2\n",
    "\n",
    "class Circle2(Point):\n",
    "    # Circle은 인스턴스 생성 시에 인수x, y, r을 가짐\n",
    "    def __init__(self, x, y, r):\n",
    "        # x와 y는 부모 클래스의 속성으로 설정\n",
    "        super().__init__(x, y)\n",
    "        # r은 Circle의 속성으로 설정\n",
    "        self.r = r\n",
    "\n",
    "    # draw 함수는 자식 클래스만 따로 원을 그림\n",
    "    def draw(self):\n",
    "        # 원 그리기\n",
    "        c = patches.Circle(xy=(self.x, self.y), radius=self.r, fc='b', ec='k')\n",
    "        ax.add_patch(c)"
   ]
  },
  {
   "cell_type": "code",
   "execution_count": 58,
   "metadata": {
    "executionInfo": {
     "elapsed": 12627,
     "status": "aborted",
     "timestamp": 1739154476830,
     "user": {
      "displayName": "김려은",
      "userId": "11330255083274715375"
     },
     "user_tz": -540
    },
    "id": "8-XPnRryPSpJ"
   },
   "outputs": [],
   "source": [
    "# Circle2 클래스로부터 인스턴스 변수 c2_1을 생성\n",
    "c2_1 = Circle2(1, 0, 2)"
   ]
  },
  {
   "cell_type": "code",
   "execution_count": 59,
   "metadata": {
    "executionInfo": {
     "elapsed": 12623,
     "status": "aborted",
     "timestamp": 1739154476831,
     "user": {
      "displayName": "김려은",
      "userId": "11330255083274715375"
     },
     "user_tz": -540
    },
    "id": "DKmZfGcMPSpJ"
   },
   "outputs": [
    {
     "name": "stderr",
     "output_type": "stream",
     "text": [
      "findfont: Font family 'NanumGothic' not found.\n",
      "findfont: Font family 'NanumGothic' not found.\n",
      "findfont: Font family 'NanumGothic' not found.\n",
      "findfont: Font family 'NanumGothic' not found.\n",
      "findfont: Font family 'NanumGothic' not found.\n",
      "findfont: Font family 'NanumGothic' not found.\n",
      "findfont: Font family 'NanumGothic' not found.\n",
      "findfont: Font family 'NanumGothic' not found.\n",
      "findfont: Font family 'NanumGothic' not found.\n",
      "findfont: Font family 'NanumGothic' not found.\n",
      "findfont: Font family 'NanumGothic' not found.\n",
      "findfont: Font family 'NanumGothic' not found.\n",
      "findfont: Font family 'NanumGothic' not found.\n",
      "findfont: Font family 'NanumGothic' not found.\n",
      "findfont: Font family 'NanumGothic' not found.\n",
      "findfont: Font family 'NanumGothic' not found.\n",
      "findfont: Font family 'NanumGothic' not found.\n",
      "findfont: Font family 'NanumGothic' not found.\n",
      "findfont: Font family 'NanumGothic' not found.\n",
      "findfont: Font family 'NanumGothic' not found.\n",
      "findfont: Font family 'NanumGothic' not found.\n",
      "findfont: Font family 'NanumGothic' not found.\n",
      "findfont: Font family 'NanumGothic' not found.\n",
      "findfont: Font family 'NanumGothic' not found.\n",
      "findfont: Font family 'NanumGothic' not found.\n",
      "findfont: Font family 'NanumGothic' not found.\n",
      "findfont: Font family 'NanumGothic' not found.\n",
      "findfont: Font family 'NanumGothic' not found.\n",
      "findfont: Font family 'NanumGothic' not found.\n",
      "findfont: Font family 'NanumGothic' not found.\n",
      "findfont: Font family 'NanumGothic' not found.\n",
      "findfont: Font family 'NanumGothic' not found.\n",
      "findfont: Font family 'NanumGothic' not found.\n",
      "findfont: Font family 'NanumGothic' not found.\n"
     ]
    },
    {
     "data": {
      "image/png": "[encoded data removed]",
      "text/plain": [
       "<Figure size 600x600 with 1 Axes>"
      ]
     },
     "metadata": {},
     "output_type": "display_data"
    }
   ],
   "source": [
    "# p1, p2, c2_1의 각 draw 함수를 호출\n",
    "\n",
    "ax = plt.subplot()\n",
    "p1.draw()\n",
    "p2.draw()\n",
    "c2_1.draw()\n",
    "plt.xlim(-4, 4)\n",
    "plt.ylim(-4, 4)\n",
    "plt.show()"
   ]
  },
  {
   "cell_type": "markdown",
   "metadata": {
    "id": "4i0C8PMqPSpJ"
   },
   "source": [
    "부모의 draw 함수 대신 자식의 draw 함수가 호출되었음을 알 수 있다.\n",
    "그럼, 이 함수와 부모 함수를 모두 호출하고 싶을 때는 어떻게 해야 하는가."
   ]
  },
  {
   "cell_type": "code",
   "execution_count": null,
   "metadata": {
    "executionInfo": {
     "elapsed": 12622,
     "status": "aborted",
     "timestamp": 1739154476831,
     "user": {
      "displayName": "김려은",
      "userId": "11330255083274715375"
     },
     "user_tz": -540
    },
    "id": "6IEbSPH8PSpJ"
   },
   "outputs": [],
   "source": [
    "# Point의 자식 클래스 Circle의 정의 3\n",
    "\n",
    "class Circle3(Point):\n",
    "    # Circle은 인스턴스 생성 시에 인수 x, y, r을 가짐\n",
    "    def __init__(self, x, y, r):\n",
    "        # x와 y는 부모 클래스의 속성으로 설정\n",
    "        super().__init__(x, y)\n",
    "        # r은 Circle의 속성으로 설정\n",
    "        self.r = r\n",
    "\n",
    "    # Circle의 draw 함수는 부모의 함수를 호출한 다음, 원 그리기를 독자적으로 수행함\n",
    "    def draw(self):\n",
    "        # 부모 클래스의 draw 함수 호출\n",
    "        super().draw()\n",
    "\n",
    "        # 원 그리기\n",
    "        c = patches.Circle(xy=(self.x, self.y), radius=self.r, fc='b', ec='k')\n",
    "        ax.add_patch(c)"
   ]
  },
  {
   "cell_type": "code",
   "execution_count": null,
   "metadata": {
    "executionInfo": {
     "elapsed": 12623,
     "status": "aborted",
     "timestamp": 1739154476832,
     "user": {
      "displayName": "김려은",
      "userId": "11330255083274715375"
     },
     "user_tz": -540
    },
    "id": "rmFwn3pCPSpJ"
   },
   "outputs": [],
   "source": [
    "# Circle3 클래스로부터 인스턴스 변수 c3_1를 생성\n",
    "c3_1 = Circle3(1, 0, 2)"
   ]
  },
  {
   "cell_type": "code",
   "execution_count": null,
   "metadata": {
    "executionInfo": {
     "elapsed": 12620,
     "status": "aborted",
     "timestamp": 1739154476833,
     "user": {
      "displayName": "김려은",
      "userId": "11330255083274715375"
     },
     "user_tz": -540
    },
    "id": "AzhTYVYYPSpJ"
   },
   "outputs": [],
   "source": [
    "# p1, p2, c3_1의 각 draw 함수를 호출\n",
    "\n",
    "ax = plt.subplot()\n",
    "p1.draw()\n",
    "p2.draw()\n",
    "c3_1.draw()\n",
    "plt.xlim(-4, 4)\n",
    "plt.ylim(-4, 4)\n",
    "plt.show()"
   ]
  },
  {
   "cell_type": "markdown",
   "metadata": {
    "id": "eTmbHTnQPSpK"
   },
   "source": [
    "## 인스턴스를 함수로 사용하는 방법"
   ]
  },
  {
   "cell_type": "code",
   "execution_count": 2,
   "metadata": {
    "executionInfo": {
     "elapsed": 12620,
     "status": "aborted",
     "timestamp": 1739154476834,
     "user": {
      "displayName": "김려은",
      "userId": "11330255083274715375"
     },
     "user_tz": -540
    },
    "id": "rx8DIFfzPSpK"
   },
   "outputs": [],
   "source": [
    "# 함수 클래스 H의 정의\n",
    "\n",
    "class H:\n",
    "    def __call__(self, x):\n",
    "        return 2*x**2 + 2"
   ]
  },
  {
   "cell_type": "code",
   "execution_count": null,
   "metadata": {
    "executionInfo": {
     "elapsed": 12618,
     "status": "aborted",
     "timestamp": 1739154476835,
     "user": {
      "displayName": "김려은",
      "userId": "11330255083274715375"
     },
     "user_tz": -540
    },
    "id": "PmLLY2RwPSpK"
   },
   "outputs": [],
   "source": [
    "# h가 함수로 동작하는지 확인\n",
    "\n",
    "# 넘파이 배열 x를 정의\n",
    "x = np.arange(-2, 2.1, 0.25)\n",
    "print(x)\n",
    "\n",
    "# H 클래스의 인스턴스로 h를 생성\n",
    "h = H()\n",
    "\n",
    "# 함수 h 호출\n",
    "y = h(x)\n",
    "print(y)"
   ]
  },
  {
   "cell_type": "code",
   "execution_count": null,
   "metadata": {
    "executionInfo": {
     "elapsed": 12616,
     "status": "aborted",
     "timestamp": 1739154476836,
     "user": {
      "displayName": "김려은",
      "userId": "11330255083274715375"
     },
     "user_tz": -540
    },
    "id": "aLJPaaFmPSpK"
   },
   "outputs": [],
   "source": [
    "# 그래프 출력\n",
    "\n",
    "plt.plot(x, y)\n",
    "plt.show()"
   ]
  }
 ],
 "metadata": {
  "colab": {
   "provenance": []
  },
  "kernelspec": {
   "display_name": "ROCKY_4_py3_12",
   "language": "python",
   "name": "python3"
  },
  "language_info": {
   "codemirror_mode": {
    "name": "ipython",
    "version": 3
   },
   "file_extension": ".py",
   "mimetype": "text/x-python",
   "name": "python",
   "nbconvert_exporter": "python",
   "pygments_lexer": "ipython3",
   "version": "3.12.9"
  }
 },
 "nbformat": 4,
 "nbformat_minor": 0
}
