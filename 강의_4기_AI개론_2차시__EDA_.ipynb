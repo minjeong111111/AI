{
 "cells": [
  {
   "cell_type": "markdown",
   "metadata": {
    "id": "y-enheccNr_a"
   },
   "source": [
    "# 2장 탐색적 자료 분석 (EDA)"
   ]
  },
  {
   "cell_type": "code",
   "execution_count": null,
   "metadata": {
    "id": "KyIr2-GLU-4J"
   },
   "outputs": [],
   "source": [
    "* \"부록3 매트플롯립 입문\"에서 한글 폰트를 올바르게 출력하기 위한 설치 방법을 설명했다. 설치 방법은 다음과 같다."
   ]
  },
  {
   "cell_type": "code",
   "execution_count": null,
   "metadata": {
    "colab": {
     "base_uri": "https://localhost:8080/"
    },
    "executionInfo": {
     "elapsed": 30095,
     "status": "ok",
     "timestamp": 1739154556548,
     "user": {
      "displayName": "김려은",
      "userId": "11330255083274715375"
     },
     "user_tz": -540
    },
    "id": "AjjR34BbU7oL",
    "outputId": "b18c627c-9e87-47bc-e6f7-d96093ac20ce"
   },
   "outputs": [
    {
     "name": "stdout",
     "output_type": "stream",
     "text": [
      "[sudo] rokey 암호: \n",
      "sudo: 암호가 필요합니다\n",
      "^C\n",
      "[sudo] rokey 암호: \n",
      "sudo: 암호가 필요합니다\n",
      "^C\n"
     ]
    }
   ],
   "source": [
    "# !sudo apt-get install -y fonts-nanum* | tail -n 1\n",
    "# !sudo fc-cache -fv\n",
    "# !rm -rf ~/.cache/matplotlib"
   ]
  },
  {
   "cell_type": "markdown",
   "metadata": {
    "id": "V1FQCXPBVPLk"
   },
   "source": [
    "* 모든 설치가 끝나면 한글 폰트를 바르게 출력하기 위해 **[런타임]** -> **[런타임 다시시작]**을 클릭한 다음, 아래 셀부터 코드를 실행해 주십시오."
   ]
  },
  {
   "cell_type": "code",
   "execution_count": 2,
   "metadata": {
    "executionInfo": {
     "elapsed": 33,
     "status": "ok",
     "timestamp": 1739154574735,
     "user": {
      "displayName": "김려은",
      "userId": "11330255083274715375"
     },
     "user_tz": -540
    },
    "id": "jfMls7nCNr_e"
   },
   "outputs": [],
   "source": [
    "# 라이브러리 임포트\n",
    "\n",
    "%matplotlib inline\n",
    "import numpy as np\n",
    "import matplotlib.pyplot as plt\n",
    "from IPython.display import display\n",
    "\n",
    "# 폰트 관련 용도\n",
    "import matplotlib.font_manager as fm\n",
    "\n",
    "# Colab, Linux\n",
    "# 나눔 고딕 폰트의 경로 명시\n",
    "# path = '/usr/share/fonts/truetype/nanum/NanumGothic.ttf'\n",
    "# font_name = fm.FontProperties(fname=path, size=10).get_name()\n",
    "\n",
    "# Window\n",
    "font_name = \"NanumBarunGothic\"\n",
    "\n",
    "# Mac\n",
    "# font_name = \"AppleGothic\""
   ]
  },
  {
   "cell_type": "code",
   "execution_count": 3,
   "metadata": {
    "executionInfo": {
     "elapsed": 1,
     "status": "ok",
     "timestamp": 1739154574777,
     "user": {
      "displayName": "김려은",
      "userId": "11330255083274715375"
     },
     "user_tz": -540
    },
    "id": "pU48DdrNNr_e"
   },
   "outputs": [],
   "source": [
    "# 기본 폰트 설정\n",
    "plt.rcParams['font.family'] = font_name\n",
    "\n",
    "# 기본 폰트 사이즈 변경\n",
    "plt.rcParams['font.size'] = 14\n",
    "\n",
    "# 기본 그래프 사이즈 변경\n",
    "plt.rcParams['figure.figsize'] = (6,6)\n",
    "\n",
    "# 기본 그리드 표시\n",
    "# 필요에 따라 설정할 때는, plt.grid()\n",
    "plt.rcParams['axes.grid'] = True\n",
    "plt.rcParams[\"grid.linestyle\"] = \":\"\n",
    "\n",
    "# 마이너스 기호 정상 출력\n",
    "plt.rcParams['axes.unicode_minus'] = False\n",
    "\n",
    "# 넘파이 부동소수점 자릿수 표시\n",
    "np.set_printoptions(suppress=True, precision=4)"
   ]
  },
  {
   "cell_type": "markdown",
   "metadata": {
    "id": "PcumRuBFr82U"
   },
   "source": [
    "## Numpy 를 이용한 행렬 연산"
   ]
  },
  {
   "cell_type": "code",
   "execution_count": 3,
   "metadata": {
    "executionInfo": {
     "elapsed": 18,
     "status": "ok",
     "timestamp": 1739154574811,
     "user": {
      "displayName": "김려은",
      "userId": "11330255083274715375"
     },
     "user_tz": -540
    },
    "id": "dautMKU3r82V"
   },
   "outputs": [],
   "source": [
    "# from IPython.display import Image\n",
    "# Image('../../../fig/numpy_axis.png')"
   ]
  },
  {
   "cell_type": "markdown",
   "metadata": {
    "id": "oDiljTk5r82V"
   },
   "source": [
    "### numpy class 속성"
   ]
  },
  {
   "cell_type": "code",
   "execution_count": 9,
   "metadata": {
    "colab": {
     "base_uri": "https://localhost:8080/"
    },
    "executionInfo": {
     "elapsed": 49,
     "status": "ok",
     "timestamp": 1739154633585,
     "user": {
      "displayName": "김려은",
      "userId": "11330255083274715375"
     },
     "user_tz": -540
    },
    "id": "f8C7fHN7r82V",
    "outputId": "a54f9d33-d301-426b-970a-607418c72fba"
   },
   "outputs": [
    {
     "name": "stdout",
     "output_type": "stream",
     "text": [
      "[[ 1  2  3]\n",
      " [ 4  5  6]\n",
      " [ 7  8  9]\n",
      " [10 11 12]]\n",
      "array data type = int32\n",
      "(4, 3)\n",
      "2\n",
      "12\n",
      "int32\n"
     ]
    }
   ],
   "source": [
    "## numpy class 속성\n",
    "array = np.arange(1,13,dtype=np.int32).reshape(4,3) #4행 3열 \n",
    "\n",
    "print(array)\n",
    "print(\"array data type =\", array.dtype)\n",
    "\n",
    "print(array.shape)\n",
    "print(array.ndim) #2차원이므로 2\n",
    "print(array.size) #4*3 사이즈 \n",
    "print(array.dtype) "
   ]
  },
  {
   "cell_type": "markdown",
   "metadata": {
    "id": "f0DrcmeBr82W"
   },
   "source": [
    "### Indexing"
   ]
  },
  {
   "cell_type": "code",
   "execution_count": null,
   "metadata": {
    "colab": {
     "base_uri": "https://localhost:8080/"
    },
    "executionInfo": {
     "elapsed": 18,
     "status": "ok",
     "timestamp": 1739154639590,
     "user": {
      "displayName": "김려은",
      "userId": "11330255083274715375"
     },
     "user_tz": -540
    },
    "id": "5CukEC24r82W",
    "outputId": "c7cd8417-079d-45ba-a3f7-b4ea17d44107"
   },
   "outputs": [
    {
     "name": "stdout",
     "output_type": "stream",
     "text": [
      "[2 9]\n"
     ]
    }
   ],
   "source": [
    "# Indexing\n",
    "print(\"array = \\n\", array)\n",
    "\n",
    "print(array[:, :])\n",
    "\n",
    "# row operation\n",
    "print(array[:2]) #2행까지 \n",
    "print(array[[0,2]]) #0행과 2행 출력 (인덱스로써) [[]] 이므로\n",
    "\n",
    "# column operation\n",
    "print(array[:, :2]) #행은 전체 열은 2열까지지\n",
    "print( array[:, [0, 1]]) #행 전체, 열은 0열과 1열 (인덱스로써인식)\n",
    "\n",
    "# row x column operation\n",
    "print(array[[0, 2], [1, 2]]) #0행의 1열 , 2행에 2열  "
   ]
  },
  {
   "cell_type": "markdown",
   "metadata": {
    "id": "qhE56sA2r82W"
   },
   "source": [
    "### 특별한 행렬"
   ]
  },
  {
   "cell_type": "code",
   "execution_count": null,
   "metadata": {
    "colab": {
     "base_uri": "https://localhost:8080/"
    },
    "executionInfo": {
     "elapsed": 29,
     "status": "ok",
     "timestamp": 1739154639620,
     "user": {
      "displayName": "김려은",
      "userId": "11330255083274715375"
     },
     "user_tz": -540
    },
    "id": "zixdBCARr82W",
    "outputId": "a3dbb6a3-dea3-4c8f-db65-1b16650aba70"
   },
   "outputs": [
    {
     "name": "stdout",
     "output_type": "stream",
     "text": [
      "np.eye(2, 3) = \n",
      " [[1. 0. 0.]\n",
      " [0. 1. 0.]]\n",
      "np.identity(3) = \n",
      " [[1. 0. 0.]\n",
      " [0. 1. 0.]\n",
      " [0. 0. 1.]]\n",
      "np.zeros([3,3]) = \n",
      " [[0. 0. 0.]\n",
      " [0. 0. 0.]\n",
      " [0. 0. 0.]]\n",
      "np.ones((3,5) = \n",
      " [[1. 1. 1. 1. 1.]\n",
      " [1. 1. 1. 1. 1.]\n",
      " [1. 1. 1. 1. 1.]]\n",
      "np.full((3,5), 5) = \n",
      " [[5 5 5 5 5]\n",
      " [5 5 5 5 5]\n",
      " [5 5 5 5 5]]\n"
     ]
    }
   ],
   "source": [
    "## 특별한 행렬 \n",
    "print('np.eye(2, 3) = \\n', np.eye(2, 3))\n",
    "print('np.identity(3) = \\n', np.identity(3)) #단위행렬 \n",
    "print('np.zeros([3,3]) = \\n', np.zeros([3,3])) \n",
    "print('np.ones((3,5) = \\n', np.ones((3,5)))\n",
    "print('np.full((3,5), 5) = \\n', np.full((3,5), 5))"
   ]
  },
  {
   "cell_type": "markdown",
   "metadata": {
    "id": "MxtK0keWr82W"
   },
   "source": [
    "### ⭐⭐행렬 변환"
   ]
  },
  {
   "cell_type": "code",
   "execution_count": null,
   "metadata": {
    "colab": {
     "base_uri": "https://localhost:8080/"
    },
    "executionInfo": {
     "elapsed": 4,
     "status": "ok",
     "timestamp": 1739154639625,
     "user": {
      "displayName": "김려은",
      "userId": "11330255083274715375"
     },
     "user_tz": -540
    },
    "id": "lXfKEgINr82X",
    "outputId": "b45a228d-aab8-4fb3-c008-309cc3f3cde5"
   },
   "outputs": [
    {
     "name": "stdout",
     "output_type": "stream",
     "text": [
      "[ 0  1  2  3  4  5  6  7  8  9 10 11]\n"
     ]
    }
   ],
   "source": [
    "## 행렬 변환\n",
    "x = np.arange(12)\n",
    "print(x)"
   ]
  },
  {
   "cell_type": "code",
   "execution_count": 28,
   "metadata": {
    "colab": {
     "base_uri": "https://localhost:8080/"
    },
    "executionInfo": {
     "elapsed": 14,
     "status": "ok",
     "timestamp": 1739154639683,
     "user": {
      "displayName": "김려은",
      "userId": "11330255083274715375"
     },
     "user_tz": -540
    },
    "id": "sC_QIjFtr82X",
    "outputId": "ef480a56-58e3-4492-e095-dd38bcd96e99"
   },
   "outputs": [
    {
     "name": "stdout",
     "output_type": "stream",
     "text": [
      "[ 0.  1.  2.  3.  4.  5.  6.  7.  8.  9. 10. 11.]\n"
     ]
    }
   ],
   "source": [
    "y = np.linspace(0, 11, 12)\n",
    "print(y)"
   ]
  },
  {
   "cell_type": "markdown",
   "metadata": {},
   "source": [
    "transpose((1, 0))는 \n",
    "\"1번 축을 0번 축으로, 0번 축을 1번 축으로 바꿔라\"\n",
    "2차원 배열이라면:\n",
    "0번 축 → 행 (row)\n",
    "1번 축 → 열 (column)"
   ]
  },
  {
   "cell_type": "code",
   "execution_count": null,
   "metadata": {
    "colab": {
     "base_uri": "https://localhost:8080/"
    },
    "executionInfo": {
     "elapsed": 11,
     "status": "ok",
     "timestamp": 1739154639685,
     "user": {
      "displayName": "김려은",
      "userId": "11330255083274715375"
     },
     "user_tz": -540
    },
    "id": "NYJQ81iDr82X",
    "outputId": "ec910c98-9bc9-405a-d2e6-656a05aabe56"
   },
   "outputs": [
    {
     "name": "stdout",
     "output_type": "stream",
     "text": [
      "x = \n",
      " [[1 2 3]\n",
      " [4 5 6]]\n",
      "x.T = \n",
      " [[1 4]\n",
      " [2 5]\n",
      " [3 6]]\n",
      "matrix multiplication = \n",
      " [[14 32]\n",
      " [32 77]]\n"
     ]
    }
   ],
   "source": [
    "## noarray.flat, Transpose\n",
    "\n",
    "x = np.arange(1,7).reshape(2, 3)\n",
    "print('x = \\n', x)\n",
    "print('x.T = \\n', x.T) #x.trnaspose #행렬의 전치 \n",
    "\n",
    "##\n",
    "print(\"matrix multiplication = \\n\", np.matmul(x, x.T))"
   ]
  },
  {
   "cell_type": "markdown",
   "metadata": {},
   "source": [
    "✅ 요약: -1의 의미\n",
    "\n",
    "코드\t의미\n",
    "reshape(-1, n)\t열 개수를 n으로, 행 개수는 자동 계산\n",
    "reshape(n, -1)\t행 개수를 n으로, 열 개수는 자동 계산\n",
    "reshape(-1)\t1D로 평탄화"
   ]
  },
  {
   "cell_type": "code",
   "execution_count": null,
   "metadata": {
    "colab": {
     "base_uri": "https://localhost:8080/"
    },
    "executionInfo": {
     "elapsed": 9,
     "status": "ok",
     "timestamp": 1739154639685,
     "user": {
      "displayName": "김려은",
      "userId": "11330255083274715375"
     },
     "user_tz": -540
    },
    "id": "011a607Fr82X",
    "outputId": "332456e6-57c3-47e4-8019-a2450614922f"
   },
   "outputs": [
    {
     "name": "stdout",
     "output_type": "stream",
     "text": [
      "y =  [[ 2.   3.6  5.2]\n",
      " [ 6.8  8.4 10. ]]\n",
      "y.transpose(0, 1) = \n",
      " [[ 2.   6.8]\n",
      " [ 3.6  8.4]\n",
      " [ 5.2 10. ]]\n"
     ]
    }
   ],
   "source": [
    "## transpose\n",
    "x = np.linspace(2, 10, 6) #1부터 10까지 6개로 만들어라라\n",
    "y = x.reshape(2, -1)\n",
    "print (\"y = \",  y)\n",
    "print('y.transpose(0, 1) = \\n', y.transpose(1, 0))"
   ]
  },
  {
   "cell_type": "markdown",
   "metadata": {
    "id": "VlyZuIkUr82X"
   },
   "source": [
    "### ⭐⭐squeeze"
   ]
  },
  {
   "cell_type": "markdown",
   "metadata": {},
   "source": [
    "✅ 요약 정리\n",
    "\n",
    "⚠️squezze는 차원이 1인 축(axis)를 제거해서 더 간단한 배열로 만들어줌\n",
    "\n",
    "코드\t결과 shape\t결과 형태\n",
    "x.shape\t(1, 3, 1)\t3차원 배열\n",
    "x.squeeze()\t(3,)\t1차원 벡터\n",
    "x.squeeze(0)\t(3, 1)\t2차원 열 벡터 형태\n",
    "🚫🚫🚫x.squezze(1) 불가능 => # 에러: axis 1의 길이는 3이라 제거 불가! 🚫🚫🚫\n",
    "x.squeeze(2)\t(1, 3)\t2차원 행 벡터 형태"
   ]
  },
  {
   "cell_type": "code",
   "execution_count": null,
   "metadata": {
    "colab": {
     "base_uri": "https://localhost:8080/"
    },
    "executionInfo": {
     "elapsed": 7,
     "status": "ok",
     "timestamp": 1739154639685,
     "user": {
      "displayName": "김려은",
      "userId": "11330255083274715375"
     },
     "user_tz": -540
    },
    "id": "bjPCUrI6r82X",
    "outputId": "cb5e6ac6-7527-40cf-f679-272f481eb631"
   },
   "outputs": [
    {
     "name": "stdout",
     "output_type": "stream",
     "text": [
      "x = \n",
      " [[[0]\n",
      "  [1]\n",
      "  [2]]]\n",
      "x.shape =  (1, 3, 1)\n",
      "x.squeeze() = \n",
      " [0 1 2]\n"
     ]
    }
   ],
   "source": [
    "## squeeze\n",
    "x = np.array([[[0],[1],[2]]]) #3차원 배열 \n",
    "print('x = \\n', x)\n",
    "print('x.shape = ', x.shape) \n",
    "print('x.squeeze() = \\n', x.squeeze()) \n",
    "print(\"x.squeeze(0)=\\n\",x.squeeze(0)) \n",
    "print(\"x.squeeze(2)=\\n\",x.squeeze(2)) "
   ]
  },
  {
   "cell_type": "markdown",
   "metadata": {
    "id": "pptGF-Ycr82Y"
   },
   "source": [
    "### 배열객체 연결"
   ]
  },
  {
   "cell_type": "code",
   "execution_count": null,
   "metadata": {
    "colab": {
     "base_uri": "https://localhost:8080/"
    },
    "executionInfo": {
     "elapsed": 7,
     "status": "ok",
     "timestamp": 1739154639686,
     "user": {
      "displayName": "김려은",
      "userId": "11330255083274715375"
     },
     "user_tz": -540
    },
    "id": "T57YvOJ5r82Y",
    "outputId": "6feff5db-7f5c-4282-f2e6-fd0ba62116e8"
   },
   "outputs": [
    {
     "name": "stdout",
     "output_type": "stream",
     "text": [
      "(1, 3)\n",
      "concatenate = \n",
      "[[1 2 3]\n",
      " [4 5 5]]\n",
      "[[1 2 3 4 5 5]]\n",
      "vstack = \n",
      "[[1 2 3]\n",
      " [4 5 5]]\n",
      "hstack = \n",
      "[[1 2 3 4 5 5]]\n"
     ]
    }
   ],
   "source": [
    "# 배열객체 연결\n",
    "#stack /cancatenate\n",
    "list1 = [[1,2,3]] #shape = [1,3]\n",
    "list2 = [[4,5,5]] #shape = [1,3]\n",
    "\n",
    "print(np.shape(list1))\n",
    "print('concatenate = ')\n",
    "print(np.concatenate([list1, list2], axis = 0)) #axis=0이므로 row방향으로 쌓음\n",
    "print(np.concatenate([list1, list2], axis = 1)) #axis=1이므로 column방향으로 쌓음\n",
    "\n",
    "print('vstack = ')\n",
    "print(np.vstack((list1, list2))) #vertical\n",
    "\n",
    "print('hstack = ')\n",
    "print(np.hstack((list1, list2))) "
   ]
  },
  {
   "cell_type": "markdown",
   "metadata": {
    "id": "hCfBtNbjr82Y"
   },
   "source": [
    "### min, max"
   ]
  },
  {
   "cell_type": "code",
   "execution_count": null,
   "metadata": {
    "colab": {
     "base_uri": "https://localhost:8080/"
    },
    "executionInfo": {
     "elapsed": 25,
     "status": "ok",
     "timestamp": 1739154639711,
     "user": {
      "displayName": "김려은",
      "userId": "11330255083274715375"
     },
     "user_tz": -540
    },
    "id": "T3MOnfK7r82Y",
    "outputId": "b37e14bb-f9b8-435e-8635-a585e5963801"
   },
   "outputs": [
    {
     "name": "stdout",
     "output_type": "stream",
     "text": [
      "[[0 1]\n",
      " [2 3]]\n",
      "0\n",
      "[0 1]\n",
      "[0 2]\n"
     ]
    },
    {
     "data": {
      "text/plain": [
       "array([0, 1])"
      ]
     },
     "execution_count": 33,
     "metadata": {},
     "output_type": "execute_result"
    }
   ],
   "source": [
    "## min, max\n",
    "a = np.arange(6).reshape((2,3))\n",
    "print(a)\n",
    "\n",
    "print(np.min(a))\n",
    "print(np.min(a, axis = 0))\n",
    "print(np.min(a, axis = 1))\n",
    "\n",
    "np.min(a,axis = 0)"
   ]
  },
  {
   "cell_type": "markdown",
   "metadata": {
    "id": "TIR_gYexr82Y"
   },
   "source": [
    "### mean, median, var, std"
   ]
  },
  {
   "cell_type": "code",
   "execution_count": null,
   "metadata": {
    "colab": {
     "base_uri": "https://localhost:8080/"
    },
    "executionInfo": {
     "elapsed": 7,
     "status": "ok",
     "timestamp": 1739154639720,
     "user": {
      "displayName": "김려은",
      "userId": "11330255083274715375"
     },
     "user_tz": -540
    },
    "id": "GO8jie1Br82Y",
    "outputId": "63b6ec5a-03ab-43fc-d477-3db5484c487d"
   },
   "outputs": [
    {
     "name": "stdout",
     "output_type": "stream",
     "text": [
      "[[1 2]\n",
      " [3 4]]\n",
      "mean of a = \n",
      "2.5\n",
      "mean of a along axis = 0 :\n",
      "[2. 3.]\n",
      "mean of a along axis = 1 : \n",
      "[1.5 3.5]\n",
      "median = \n",
      "2.5\n",
      "[2. 3.]\n",
      "[1.5 3.5]\n",
      "variance = \n",
      "1.25\n",
      "[1. 1.]\n",
      "[0.25 0.25]\n",
      "std = \n",
      "1.118033988749895\n",
      "[1. 1.]\n",
      "[0.5 0.5]\n"
     ]
    }
   ],
   "source": [
    "# mean, median, var, std\n",
    "a = np.array([[1, 2], [3, 4]])\n",
    "print(a)\n",
    "\n",
    "print(\"mean of a = \")\n",
    "print(np.mean(a)) #평균\n",
    "print(\"mean of a along axis = 0 :\")\n",
    "print(np.mean(a, axis = 0)) #행별로 평균 \n",
    "print(\"mean of a along axis = 1 : \")\n",
    "print(np.mean(a, axis = 1)) #열방향 평균 \n",
    "\n",
    "print(\"median = \") #중앙값 출력 \n",
    "#홀수 : 중앙값 \n",
    "#짝수 : 중앙 두 값의 평균 \n",
    "print(np.median(a))\n",
    "print(np.median(a,axis=0)) #row\n",
    "print(np.median(a,axis=1)) #col \n",
    "\n",
    "print(\"variance = \") #표준편차  \n",
    "print(np.var(a))\n",
    "print(np.var(a,axis=0)) #row \n",
    "print(np.var(a,axis=1)) #col \n",
    "\n",
    "print(\"std = \")\n",
    "print(np.std(a)) \n",
    "print(np.std(a,axis=0)) #row\n",
    "print(np.std(a,axis=1)) #col \n"
   ]
  },
  {
   "cell_type": "markdown",
   "metadata": {
    "id": "qhXD7GeSr82Y"
   },
   "source": [
    "### ⭐⭐랜덤값 생성"
   ]
  },
  {
   "cell_type": "markdown",
   "metadata": {},
   "source": [
    "✅ 정리 \n",
    "그냥 0~1 사이 난수 필요할 때\tnp.random.rand()\n",
    "범위를 직접 지정하고 싶을 때\tnp.random.uniform(a, b)"
   ]
  },
  {
   "cell_type": "code",
   "execution_count": 42,
   "metadata": {
    "colab": {
     "base_uri": "https://localhost:8080/"
    },
    "executionInfo": {
     "elapsed": 32,
     "status": "ok",
     "timestamp": 1739154639752,
     "user": {
      "displayName": "김려은",
      "userId": "11330255083274715375"
     },
     "user_tz": -540
    },
    "id": "1Ill0LzIr82Y",
    "outputId": "546e4bee-a410-4b41-b49d-5c49d3aabc2b"
   },
   "outputs": [
    {
     "name": "stdout",
     "output_type": "stream",
     "text": [
      "Uniform random sampling = \n"
     ]
    },
    {
     "data": {
      "text/plain": [
       "array([[0.1942, 0.5725],\n",
       "       [0.0957, 0.8853],\n",
       "       [0.6272, 0.7234]])"
      ]
     },
     "execution_count": 42,
     "metadata": {},
     "output_type": "execute_result"
    }
   ],
   "source": [
    "# Uniform [0, 1] #균일분포 \n",
    "print(\"Uniform random sampling = \")\n",
    "np.random.rand(3,2) #값이 0부터 1까지 사이에서만 존재 #float "
   ]
  },
  {
   "cell_type": "code",
   "execution_count": 43,
   "metadata": {
    "colab": {
     "base_uri": "https://localhost:8080/"
    },
    "executionInfo": {
     "elapsed": 6,
     "status": "ok",
     "timestamp": 1739154639753,
     "user": {
      "displayName": "김려은",
      "userId": "11330255083274715375"
     },
     "user_tz": -540
    },
    "id": "8MM0meWFr82Y",
    "outputId": "48706742-420f-4cc0-99e3-dfe7b8cdb735"
   },
   "outputs": [
    {
     "name": "stdout",
     "output_type": "stream",
     "text": [
      "Uniform integer random sampling = \n"
     ]
    },
    {
     "data": {
      "text/plain": [
       "array([[1, 6],\n",
       "       [9, 7],\n",
       "       [9, 2]])"
      ]
     },
     "execution_count": 43,
     "metadata": {},
     "output_type": "execute_result"
    }
   ],
   "source": [
    "# Uniform integer between [1, 10]\n",
    "# randint(low, high=None, size=None, dtype=int)\n",
    "print(\"Uniform integer random sampling = \")\n",
    "np.random.randint(1, 10, (3,2)) #int "
   ]
  },
  {
   "cell_type": "markdown",
   "metadata": {},
   "source": [
    "✅ 차이\n",
    "\n",
    "함수\t분포 종류\t범위\t주로 나오는 값\n",
    "np.random.rand() \t균일분포 (Uniform 0~1)\t(0, 1)\t전체 범위 고르게\n",
    "\n",
    "np.random.randn()\t정규분포 (mean=0, std=1)\t실수 전체\t평균 0 근처 값이 많음"
   ]
  },
  {
   "cell_type": "code",
   "execution_count": 53,
   "metadata": {
    "colab": {
     "base_uri": "https://localhost:8080/"
    },
    "executionInfo": {
     "elapsed": 23,
     "status": "ok",
     "timestamp": 1739154639775,
     "user": {
      "displayName": "김려은",
      "userId": "11330255083274715375"
     },
     "user_tz": -540
    },
    "id": "LpoZVj5Mr82Z",
    "outputId": "c0aea8ab-9f56-43e0-943a-77e7208de67f"
   },
   "outputs": [
    {
     "name": "stdout",
     "output_type": "stream",
     "text": [
      "[[-1.0856  0.9973  0.283 ]\n",
      " [-1.5063 -0.5786  1.6514]\n",
      " [-2.4267 -0.4289  1.2659]\n",
      " [-0.8667 -0.6789 -0.0947]]\n",
      "Standard normal random sampling = \n",
      "[[ 1.4914 -0.6389]\n",
      " [-0.444  -0.4344]\n",
      " [ 2.2059  2.1868]]\n",
      "[[180.0405 173.8619 177.3737]\n",
      " [184.9073 160.6417 181.7583]]\n"
     ]
    }
   ],
   "source": [
    "# from the \"standard normal\" distribution\n",
    "np.random.seed(123) #seed를 쓰면 값을 고정 \n",
    "\n",
    "#표준 정규 분포 Z(0,1)\n",
    "print(np.random.randn(4,3)) #평균은 0 표준편차=1 인 4*3행렬 출력 \n",
    "\n",
    "print(\"Standard normal random sampling = \")\n",
    "print(np.random.randn(3,2)) \n",
    "\n",
    "#정규분포 ~X(u,sigma^2) \n",
    "print(np.random.normal(170,10,(2,3)))"
   ]
  },
  {
   "cell_type": "markdown",
   "metadata": {
    "id": "vh7a3lurr82Z"
   },
   "source": [
    "## Matplotlib을 이용한 자료 시각화"
   ]
  },
  {
   "cell_type": "markdown",
   "metadata": {
    "id": "lVsilp1fr82Z"
   },
   "source": [
    "### 산포도"
   ]
  },
  {
   "cell_type": "code",
   "execution_count": 38,
   "metadata": {
    "colab": {
     "base_uri": "https://localhost:8080/"
    },
    "executionInfo": {
     "elapsed": 3,
     "status": "ok",
     "timestamp": 1739154639779,
     "user": {
      "displayName": "김려은",
      "userId": "11330255083274715375"
     },
     "user_tz": -540
    },
    "id": "7463K2-nr82Z",
    "outputId": "7d048671-2b35-4805-df4c-76f0c06417dc"
   },
   "outputs": [
    {
     "name": "stdout",
     "output_type": "stream",
     "text": [
      "   sepal_length  sepal_width  petal_length  petal_width species\n",
      "0           5.1          3.5           1.4          0.2  setosa\n",
      "1           4.9          3.0           1.4          0.2  setosa\n",
      "2           4.7          3.2           1.3          0.2  setosa\n",
      "3           4.6          3.1           1.5          0.2  setosa\n",
      "4           5.0          3.6           1.4          0.2  setosa\n"
     ]
    }
   ],
   "source": [
    "# 데이터 준비\n",
    "import seaborn as sns\n",
    "df_iris = sns.load_dataset(\"iris\")\n",
    "\n",
    "# 결과 확인\n",
    "print(df_iris.head())\n",
    "\n",
    "# 산포도의 x좌표용 배열\n",
    "xs = df_iris['sepal_length'].values\n",
    "\n",
    "# 산포도의 y좌표용 배열\n",
    "ys = df_iris['sepal_width'].values"
   ]
  },
  {
   "cell_type": "code",
   "execution_count": 39,
   "metadata": {
    "colab": {
     "base_uri": "https://localhost:8080/",
     "height": 532
    },
    "executionInfo": {
     "elapsed": 211,
     "status": "ok",
     "timestamp": 1739154639990,
     "user": {
      "displayName": "김려은",
      "userId": "11330255083274715375"
     },
     "user_tz": -540
    },
    "id": "rZjgfgpzr82Z",
    "outputId": "4d0bf05d-d42e-4db8-bc4f-b4852bfea201"
   },
   "outputs": [
    {
     "data": {
      "image/png": "[encoded data removed]",
      "text/plain": [
       "<Figure size 600x600 with 1 Axes>"
      ]
     },
     "metadata": {},
     "output_type": "display_data"
    }
   ],
   "source": [
    "# 산포도 그리기\n",
    "plt.scatter(xs, ys)\n",
    "\n",
    "# 출력\n",
    "plt.show()"
   ]
  },
  {
   "cell_type": "markdown",
   "metadata": {
    "id": "moeGUjxRr82Z"
   },
   "source": [
    "### 함수 그래프\n",
    "⭐⭐ sigmoid (시그모이드) \n",
    "1/1+exp(-x) \n"
   ]
  },
  {
   "cell_type": "code",
   "execution_count": 64,
   "metadata": {
    "executionInfo": {
     "elapsed": 34,
     "status": "ok",
     "timestamp": 1739154639992,
     "user": {
      "displayName": "김려은",
      "userId": "11330255083274715375"
     },
     "user_tz": -540
    },
    "id": "yXa3SWh5r82Z"
   },
   "outputs": [],
   "source": [
    "# 데이터 준비\n",
    "\n",
    "# 시그모이드 함수 정의\n",
    "def sigmoid(x,a):\n",
    "    y=1/(1 + np.exp(-a*x))\n",
    "    return y\n",
    "\n",
    "# 그래프를 그리기 위한 x좌표 리스트\n",
    "x = np.linspace(-3, 3, 61)\n",
    "y1 = sigmoid(x,1)  #1/1+e^-x \n",
    "y2 = sigmoid(x,2)  #1/1+e^-2x\n",
    "\n"
   ]
  },
  {
   "cell_type": "code",
   "execution_count": 65,
   "metadata": {
    "colab": {
     "base_uri": "https://localhost:8080/",
     "height": 528
    },
    "executionInfo": {
     "elapsed": 133,
     "status": "ok",
     "timestamp": 1739154640122,
     "user": {
      "displayName": "김려은",
      "userId": "11330255083274715375"
     },
     "user_tz": -540
    },
    "id": "S3VedDEzr82a",
    "outputId": "5e504a0d-8c4a-4ba8-af00-0e0b632d5ba1"
   },
   "outputs": [
    {
     "data": {
      "image/png": "[encoded data removed]",
      "text/plain": [
       "<Figure size 300x300 with 1 Axes>"
      ]
     },
     "metadata": {},
     "output_type": "display_data"
    }
   ],
   "source": [
    "# 그래프 그리기\n",
    "plt.figure(figsize=(3,3))\n",
    "plt.plot(x,y1,label=\"exp(-x)\") \n",
    "plt.plot(x,y2,label = \"exp(-2x)\")\n",
    "plt.xlabel(\"X\")\n",
    "plt.ylabel(\"Sigmoid(x)\")\n",
    "plt.legend() \n",
    "\n",
    "# 출력\n",
    "plt.show()"
   ]
  },
  {
   "cell_type": "code",
   "execution_count": 42,
   "metadata": {
    "colab": {
     "base_uri": "https://localhost:8080/",
     "height": 554
    },
    "executionInfo": {
     "elapsed": 229,
     "status": "ok",
     "timestamp": 1739154640351,
     "user": {
      "displayName": "김려은",
      "userId": "11330255083274715375"
     },
     "user_tz": -540
    },
    "id": "9tpkysOUr82a",
    "outputId": "4f4d3b30-52f9-4bdd-d79c-36039a5cedd4"
   },
   "outputs": [
    {
     "data": {
      "image/png": "[encoded data removed]",
      "text/plain": [
       "<Figure size 600x600 with 1 Axes>"
      ]
     },
     "metadata": {},
     "output_type": "display_data"
    }
   ],
   "source": [
    "# 라벨을 포함한 그래프 출력 #1\n",
    "plt.plot(xp, yp,\n",
    "         label='시그모이드 함수 1', lw=3, c='k')\n",
    "\n",
    "# 라벨을 포함한 그래프 출력 #2\n",
    "plt.plot(xp, yp2,\n",
    "         label='시그모이드 함수 2', lw=2, c='b')\n",
    "\n",
    "# 범례 표시\n",
    "plt.legend()\n",
    "\n",
    "# 축 표시\n",
    "plt.xlabel('x 축')\n",
    "plt.ylabel('y 축')\n",
    "\n",
    "# 출력\n",
    "plt.show()"
   ]
  },
  {
   "cell_type": "markdown",
   "metadata": {
    "id": "G8EKL5J_r82i"
   },
   "source": [
    "### subplot을 사용한 그래프 동시 출력"
   ]
  },
  {
   "cell_type": "code",
   "execution_count": 43,
   "metadata": {
    "executionInfo": {
     "elapsed": 6761,
     "status": "ok",
     "timestamp": 1739154647111,
     "user": {
      "displayName": "김려은",
      "userId": "11330255083274715375"
     },
     "user_tz": -540
    },
    "id": "sNRCLzDmr82i"
   },
   "outputs": [],
   "source": [
    "# 손글씨 숫자 데이터\n",
    "from sklearn.datasets import fetch_openml\n",
    "mnist = fetch_openml('mnist_784', version=1,as_frame=False)\n",
    "\n",
    "# 이미지 데이터\n",
    "image = mnist.data\n",
    "# 정답 데이터\n",
    "label = mnist.target"
   ]
  },
  {
   "cell_type": "code",
   "execution_count": 44,
   "metadata": {
    "colab": {
     "base_uri": "https://localhost:8080/",
     "height": 234
    },
    "executionInfo": {
     "elapsed": 651,
     "status": "ok",
     "timestamp": 1739154647754,
     "user": {
      "displayName": "김려은",
      "userId": "11330255083274715375"
     },
     "user_tz": -540
    },
    "id": "hQRRALyyr82j",
    "outputId": "2b825cc5-2ad1-4f5f-f2ce-c1a549c3c910"
   },
   "outputs": [
    {
     "data": {
      "image/png": "[encoded data removed]",
      "text/plain": [
       "<Figure size 1000x300 with 20 Axes>"
      ]
     },
     "metadata": {},
     "output_type": "display_data"
    }
   ],
   "source": [
    "# 사이즈 지정\n",
    "plt.figure(figsize=(10, 3))\n",
    "\n",
    "# 20개 이미지를 표시\n",
    "for i in range(20):\n",
    "\n",
    "    # i번째 ax 변수 취득\n",
    "    ax = plt.subplot(2, 10, i+1)\n",
    "\n",
    "    # i번째 이미지 데이터를 취득한 다음 28x28로 변환\n",
    "    img = image[i].reshape(28,28)\n",
    "\n",
    "    # img를 이미지로 표시\n",
    "    ax.imshow(img, cmap='gray_r')\n",
    "\n",
    "    # 정답 데이터를 타이틀로 표시\n",
    "    ax.set_title(label[i])\n",
    "\n",
    "    # x, y 눈금 표시하지 않음\n",
    "    ax.set_xticks([])\n",
    "    ax.set_yticks([])\n",
    "\n",
    "# 인접 객체와 겹치지 않도록 함\n",
    "plt.tight_layout()\n",
    "\n",
    "# 출력\n",
    "plt.show()"
   ]
  }
 ],
 "metadata": {
  "colab": {
   "provenance": []
  },
  "kernelspec": {
   "display_name": "ROCKY_4_py3_12",
   "language": "python",
   "name": "python3"
  },
  "language_info": {
   "codemirror_mode": {
    "name": "ipython",
    "version": 3
   },
   "file_extension": ".py",
   "mimetype": "text/x-python",
   "name": "python",
   "nbconvert_exporter": "python",
   "pygments_lexer": "ipython3",
   "version": "3.12.9"
  }
 },
 "nbformat": 4,
 "nbformat_minor": 0
}
